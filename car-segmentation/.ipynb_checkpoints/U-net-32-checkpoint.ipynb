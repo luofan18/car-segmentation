{
 "cells": [
  {
   "cell_type": "code",
   "execution_count": 79,
   "metadata": {},
   "outputs": [],
   "source": [
    "%matplotlib inline\n",
    "\n",
    "import numpy as np\n",
    "import pandas as pd\n",
    "import matplotlib.pyplot as plt\n",
    "from keras.models import Sequential, Model\n",
    "from keras.layers import (Dense, Conv2D, Input, MaxPool2D, \n",
    "                         UpSampling2D, Concatenate, Conv2DTranspose)\n",
    "import tensorflow as tf\n",
    "from keras.optimizers import Adam,SGD\n",
    "from keras.initializers import he_normal\n",
    "from scipy.misc import imresize\n",
    "from tqdm import tqdm\n",
    "from sklearn.model_selection import train_test_split\n",
    "import os\n",
    "from keras.preprocessing.image import (array_to_img, img_to_array, \n",
    "                                       load_img, ImageDataGenerator)\n",
    "from keras.callbacks import Callback, ModelCheckpoint, CSVLogger\n",
    "import keras.backend as K\n",
    "import itchat\n",
    "from wechat_utils import SendMessage\n",
    "\n",
    "import pdb"
   ]
  },
  {
   "cell_type": "code",
   "execution_count": 47,
   "metadata": {},
   "outputs": [
    {
     "data": {
      "text/plain": [
       "'2.0.5'"
      ]
     },
     "execution_count": 47,
     "metadata": {},
     "output_type": "execute_result"
    }
   ],
   "source": [
    "import keras\n",
    "keras.__version__"
   ]
  },
  {
   "cell_type": "markdown",
   "metadata": {},
   "source": [
    "## Prepare the data"
   ]
  },
  {
   "cell_type": "code",
   "execution_count": 48,
   "metadata": {
    "collapsed": true
   },
   "outputs": [],
   "source": [
    "# Set the necessary directories\n",
    "data_dir = '../data/train/'\n",
    "mask_dir = '../data/train_masks/'\n",
    "all_images = os.listdir(data_dir)"
   ]
  },
  {
   "cell_type": "code",
   "execution_count": 49,
   "metadata": {},
   "outputs": [
    {
     "name": "stdout",
     "output_type": "stream",
     "text": [
      "mkdir: cannot create directory ‘tmp’: File exists\r\n"
     ]
    }
   ],
   "source": [
    "!mkdir tmp"
   ]
  },
  {
   "cell_type": "code",
   "execution_count": 52,
   "metadata": {
    "collapsed": true
   },
   "outputs": [],
   "source": [
    "tmp_dir = './tmp/u-net-512/'"
   ]
  },
  {
   "cell_type": "code",
   "execution_count": 53,
   "metadata": {},
   "outputs": [],
   "source": [
    "!mkdir ./tmp/u-net-512/"
   ]
  },
  {
   "cell_type": "code",
   "execution_count": 54,
   "metadata": {
    "collapsed": true
   },
   "outputs": [],
   "source": [
    "# Train validation split\n",
    "train_images, validation_images = train_test_split(\n",
    "    all_images, train_size=0.8, test_size=0.2)"
   ]
  },
  {
   "cell_type": "code",
   "execution_count": 55,
   "metadata": {
    "collapsed": true
   },
   "outputs": [],
   "source": [
    "input_dims = [32, 32]\n",
    "batch_size = 2"
   ]
  },
  {
   "cell_type": "code",
   "execution_count": 56,
   "metadata": {
    "collapsed": true
   },
   "outputs": [],
   "source": [
    "# Utility function to convert greyscale images to rgb\n",
    "def grey2rgb(img):\n",
    "    new_img = []\n",
    "    for i in range(img.shape[0]):\n",
    "        for j in range(img.shape[1]):\n",
    "            new_img.append(list(img[i][j]) * 3)\n",
    "    new_img = np.array(new_img).reshape(img.shape[0], img.shape[1], 3)\n",
    "    return new_img"
   ]
  },
  {
   "cell_type": "code",
   "execution_count": 57,
   "metadata": {
    "scrolled": true
   },
   "outputs": [
    {
     "data": {
      "text/plain": [
       "<matplotlib.image.AxesImage at 0x7fc86c765898>"
      ]
     },
     "execution_count": 57,
     "metadata": {},
     "output_type": "execute_result"
    },
    {
     "data": {
      "image/png": "[encoded data removed]",
      "text/plain": [
       "<matplotlib.figure.Figure at 0x7fc8d35406d8>"
      ]
     },
     "metadata": {},
     "output_type": "display_data"
    }
   ],
   "source": [
    "# Generator that we will use to read the data from the directory\n",
    "def data_gen_small(data_dir, mask_dir, images, batch_size, dims):\n",
    "    \"\"\"\n",
    "    data_dir: where the actual images are kept\n",
    "    mask_dir: where the actual masks are kept\n",
    "    images: the filenames of the images we want to generate batches from\n",
    "    dims: the dimensions in which we want to rescale our images\n",
    "    \"\"\"\n",
    "    if batch_size == 0:\n",
    "        img_number = len(images)\n",
    "        all_imgs = np.zeros([img_number] + dims + [3], dtype=np.float32)\n",
    "        all_masks = np.zeros([img_number] + dims, dtype=np.float32)\n",
    "        print('Build generator, this may take some time...')\n",
    "        print('total number of images: {}'.format(img_number))\n",
    "        for i, image in enumerate(tqdm(images)):\n",
    "            # Image\n",
    "            original_image = load_img(data_dir + image)\n",
    "            resized_img = imresize(original_image, dims + [3])\n",
    "            array_img = img_to_array(resized_img) / 255\n",
    "            all_imgs[i] = array_img\n",
    "            # Mask\n",
    "            mask = load_img(mask_dir + image.split('.')[0] + '_mask.gif')\n",
    "            resized = imresize(mask, dims + [3])\n",
    "            array = img_to_array(resized) / 255\n",
    "            all_masks[i] = array[:,:,0]\n",
    "        while True:\n",
    "            yield all_imgs, all_masks[:,:,:,None]\n",
    "    else:\n",
    "        while True:\n",
    "            ix = np.random.choice(np.arange(len(images)), batch_size)\n",
    "            imgs = []\n",
    "            labels = []\n",
    "            for i in ix:\n",
    "                # images\n",
    "                original_img = load_img(data_dir + images[i])\n",
    "                resized_img = imresize(original_img, dims+[3])\n",
    "                array_img = img_to_array(resized_img)/255\n",
    "                imgs.append(array_img)\n",
    "                \n",
    "                # masks\n",
    "                original_mask = load_img(mask_dir + images[i].split(\".\")[0] + '_mask.gif')\n",
    "                resized_mask = imresize(original_mask, dims+[3])\n",
    "                array_mask = img_to_array(resized_mask)/255\n",
    "                labels.append(array_mask[:, :, 0])\n",
    "            imgs = np.array(imgs)\n",
    "            labels = np.array(labels)\n",
    "            yield imgs, labels.reshape(-1, dims[0], dims[1], 1)\n",
    "            \n",
    "# Example use\n",
    "train_gen = data_gen_small(data_dir, mask_dir, train_images, batch_size, \n",
    "                          input_dims)\n",
    "img, msk = next(train_gen)\n",
    "\n",
    "plt.subplot(121)\n",
    "plt.imshow(img[0])\n",
    "plt.subplot(122)\n",
    "plt.imshow(grey2rgb(msk[0]), alpha=0.5)"
   ]
  },
  {
   "cell_type": "code",
   "execution_count": 58,
   "metadata": {
    "collapsed": true
   },
   "outputs": [],
   "source": [
    "class threadsafe_iter:\n",
    "    \"\"\"\n",
    "    Takes an iterator/generator and makes it thread-safe by serializing\n",
    "    call to the 'next' method of given iterator/generator.\n",
    "    \"\"\"\n",
    "    def __init__(self, it):\n",
    "        import threading\n",
    "        self.it = it\n",
    "        self.lock = threading.Lock()\n",
    "        \n",
    "    def __iter__(self):\n",
    "        return self\n",
    "    \n",
    "    def __next__(self):\n",
    "        with self.lock:\n",
    "            return next(self.it)"
   ]
  },
  {
   "cell_type": "code",
   "execution_count": 59,
   "metadata": {},
   "outputs": [
    {
     "name": "stdout",
     "output_type": "stream",
     "text": [
      "CPU times: user 144 ms, sys: 24 ms, total: 168 ms\n",
      "Wall time: 244 ms\n"
     ]
    }
   ],
   "source": [
    "%%time\n",
    "_ = next(train_gen)"
   ]
  },
  {
   "cell_type": "code",
   "execution_count": 60,
   "metadata": {
    "collapsed": true
   },
   "outputs": [],
   "source": [
    "val_gen = data_gen_small(data_dir, mask_dir, validation_images, 2, input_dims)"
   ]
  },
  {
   "cell_type": "code",
   "execution_count": 61,
   "metadata": {},
   "outputs": [],
   "source": [
    "_ = next(val_gen)"
   ]
  },
  {
   "cell_type": "code",
   "execution_count": 62,
   "metadata": {},
   "outputs": [
    {
     "name": "stdout",
     "output_type": "stream",
     "text": [
      "(2, 32, 32, 3)\n",
      "(2, 32, 32, 1)\n"
     ]
    }
   ],
   "source": [
    "image_, mask_ = next(val_gen)\n",
    "print (image_.shape)\n",
    "print (mask_.shape)"
   ]
  },
  {
   "cell_type": "code",
   "execution_count": 63,
   "metadata": {},
   "outputs": [
    {
     "name": "stdout",
     "output_type": "stream",
     "text": [
      "(2, 32, 32, 3)\n",
      "(2, 32, 32, 1)\n"
     ]
    }
   ],
   "source": [
    "image_, mask_ = next(train_gen)\n",
    "print (image_.shape)\n",
    "print (mask_.shape)"
   ]
  },
  {
   "cell_type": "markdown",
   "metadata": {},
   "source": [
    "## Build the network"
   ]
  },
  {
   "cell_type": "code",
   "execution_count": 89,
   "metadata": {
    "collapsed": true
   },
   "outputs": [],
   "source": [
    "# First, let's define the two different types of layers that we will \n",
    "# be using\n",
    "def down(input_layer, filters, pool=True):\n",
    "    conv1 = Conv2D(filters, (3, 3), padding='same', \n",
    "                   kernel_initializer=he_normal(), activation='relu')(\n",
    "                   input_layer)\n",
    "    residual = Conv2D(filters, (3, 3), padding='same', \n",
    "                      kernel_initializer=he_normal(), activation='relu')(\n",
    "                      conv1)\n",
    "    if pool:\n",
    "        max_pool = MaxPool2D()(residual)\n",
    "        return max_pool,residual\n",
    "    else:\n",
    "        return residual\n",
    "    \n",
    "def up(input_layer, residual, filters):\n",
    "    filters=int(filters)\n",
    "    upsample = UpSampling2D()(input_layer)\n",
    "    upconv = Conv2D(filters, kernel_size=(2, 2), padding='same', \n",
    "                    kernel_initializer=he_normal(), activation='relu')(upsample)\n",
    "    concat = Concatenate(axis=3)([residual, upconv])\n",
    "    conv1 = Conv2D(filters, (3, 3), padding='same',\n",
    "                   kernel_initializer=he_normal(), activation='relu')(\n",
    "                   concat)\n",
    "    conv2 = Conv2D(filters, (3, 3), padding='same', \n",
    "                   kernel_initializer=he_normal(), activation='relu')(\n",
    "                   conv1)\n",
    "    return conv2\n"
   ]
  },
  {
   "cell_type": "code",
   "execution_count": 90,
   "metadata": {
    "scrolled": true
   },
   "outputs": [
    {
     "name": "stdout",
     "output_type": "stream",
     "text": [
      "____________________________________________________________________________________________________\n",
      "Layer (type)                     Output Shape          Param #     Connected to                     \n",
      "====================================================================================================\n",
      "input_1 (InputLayer)             (None, 32, 32, 3)     0                                            \n",
      "____________________________________________________________________________________________________\n",
      "conv2d_1 (Conv2D)                (None, 32, 32, 64)    1792        input_1[0][0]                    \n",
      "____________________________________________________________________________________________________\n",
      "conv2d_2 (Conv2D)                (None, 32, 32, 64)    36928       conv2d_1[0][0]                   \n",
      "____________________________________________________________________________________________________\n",
      "max_pooling2d_1 (MaxPooling2D)   (None, 16, 16, 64)    0           conv2d_2[0][0]                   \n",
      "____________________________________________________________________________________________________\n",
      "conv2d_3 (Conv2D)                (None, 16, 16, 128)   73856       max_pooling2d_1[0][0]            \n",
      "____________________________________________________________________________________________________\n",
      "conv2d_4 (Conv2D)                (None, 16, 16, 128)   147584      conv2d_3[0][0]                   \n",
      "____________________________________________________________________________________________________\n",
      "max_pooling2d_2 (MaxPooling2D)   (None, 8, 8, 128)     0           conv2d_4[0][0]                   \n",
      "____________________________________________________________________________________________________\n",
      "conv2d_5 (Conv2D)                (None, 8, 8, 256)     295168      max_pooling2d_2[0][0]            \n",
      "____________________________________________________________________________________________________\n",
      "conv2d_6 (Conv2D)                (None, 8, 8, 256)     590080      conv2d_5[0][0]                   \n",
      "____________________________________________________________________________________________________\n",
      "max_pooling2d_3 (MaxPooling2D)   (None, 4, 4, 256)     0           conv2d_6[0][0]                   \n",
      "____________________________________________________________________________________________________\n",
      "conv2d_7 (Conv2D)                (None, 4, 4, 512)     1180160     max_pooling2d_3[0][0]            \n",
      "____________________________________________________________________________________________________\n",
      "conv2d_8 (Conv2D)                (None, 4, 4, 512)     2359808     conv2d_7[0][0]                   \n",
      "____________________________________________________________________________________________________\n",
      "max_pooling2d_4 (MaxPooling2D)   (None, 2, 2, 512)     0           conv2d_8[0][0]                   \n",
      "____________________________________________________________________________________________________\n",
      "conv2d_9 (Conv2D)                (None, 2, 2, 1024)    4719616     max_pooling2d_4[0][0]            \n",
      "____________________________________________________________________________________________________\n",
      "conv2d_10 (Conv2D)               (None, 2, 2, 1024)    9438208     conv2d_9[0][0]                   \n",
      "____________________________________________________________________________________________________\n",
      "up_sampling2d_1 (UpSampling2D)   (None, 4, 4, 1024)    0           conv2d_10[0][0]                  \n",
      "____________________________________________________________________________________________________\n",
      "conv2d_11 (Conv2D)               (None, 4, 4, 512)     2097664     up_sampling2d_1[0][0]            \n",
      "____________________________________________________________________________________________________\n",
      "concatenate_1 (Concatenate)      (None, 4, 4, 1024)    0           conv2d_8[0][0]                   \n",
      "                                                                   conv2d_11[0][0]                  \n",
      "____________________________________________________________________________________________________\n",
      "conv2d_12 (Conv2D)               (None, 4, 4, 512)     4719104     concatenate_1[0][0]              \n",
      "____________________________________________________________________________________________________\n",
      "conv2d_13 (Conv2D)               (None, 4, 4, 512)     2359808     conv2d_12[0][0]                  \n",
      "____________________________________________________________________________________________________\n",
      "up_sampling2d_2 (UpSampling2D)   (None, 8, 8, 512)     0           conv2d_13[0][0]                  \n",
      "____________________________________________________________________________________________________\n",
      "conv2d_14 (Conv2D)               (None, 8, 8, 256)     524544      up_sampling2d_2[0][0]            \n",
      "____________________________________________________________________________________________________\n",
      "concatenate_2 (Concatenate)      (None, 8, 8, 512)     0           conv2d_6[0][0]                   \n",
      "                                                                   conv2d_14[0][0]                  \n",
      "____________________________________________________________________________________________________\n",
      "conv2d_15 (Conv2D)               (None, 8, 8, 256)     1179904     concatenate_2[0][0]              \n",
      "____________________________________________________________________________________________________\n",
      "conv2d_16 (Conv2D)               (None, 8, 8, 256)     590080      conv2d_15[0][0]                  \n",
      "____________________________________________________________________________________________________\n",
      "up_sampling2d_3 (UpSampling2D)   (None, 16, 16, 256)   0           conv2d_16[0][0]                  \n",
      "____________________________________________________________________________________________________\n",
      "conv2d_17 (Conv2D)               (None, 16, 16, 128)   131200      up_sampling2d_3[0][0]            \n",
      "____________________________________________________________________________________________________\n",
      "concatenate_3 (Concatenate)      (None, 16, 16, 256)   0           conv2d_4[0][0]                   \n",
      "                                                                   conv2d_17[0][0]                  \n",
      "____________________________________________________________________________________________________\n",
      "conv2d_18 (Conv2D)               (None, 16, 16, 128)   295040      concatenate_3[0][0]              \n",
      "____________________________________________________________________________________________________\n",
      "conv2d_19 (Conv2D)               (None, 16, 16, 128)   147584      conv2d_18[0][0]                  \n",
      "____________________________________________________________________________________________________\n",
      "up_sampling2d_4 (UpSampling2D)   (None, 32, 32, 128)   0           conv2d_19[0][0]                  \n",
      "____________________________________________________________________________________________________\n",
      "conv2d_20 (Conv2D)               (None, 32, 32, 64)    32832       up_sampling2d_4[0][0]            \n",
      "____________________________________________________________________________________________________\n",
      "concatenate_4 (Concatenate)      (None, 32, 32, 128)   0           conv2d_2[0][0]                   \n",
      "                                                                   conv2d_20[0][0]                  \n",
      "____________________________________________________________________________________________________\n",
      "conv2d_21 (Conv2D)               (None, 32, 32, 64)    73792       concatenate_4[0][0]              \n",
      "____________________________________________________________________________________________________\n",
      "conv2d_22 (Conv2D)               (None, 32, 32, 64)    36928       conv2d_21[0][0]                  \n",
      "____________________________________________________________________________________________________\n",
      "conv2d_23 (Conv2D)               (None, 32, 32, 1)     65          conv2d_22[0][0]                  \n",
      "====================================================================================================\n",
      "Total params: 31,031,745\n",
      "Trainable params: 31,031,745\n",
      "Non-trainable params: 0\n",
      "____________________________________________________________________________________________________\n"
     ]
    }
   ],
   "source": [
    "K.clear_session()\n",
    "# Make a custom U-nets implementation\n",
    "filters = 64\n",
    "\n",
    "input_layer = Input(shape=input_dims + [3])\n",
    "layers = [input_layer]\n",
    "residuals = []\n",
    "\n",
    "# Down 1, 128\n",
    "d1, res1 = down(input_layer, filters)\n",
    "residuals.append(res1)\n",
    "\n",
    "# Down 2, 64\n",
    "filters = filters * 2\n",
    "d2, res2 = down(d1, filters)\n",
    "residuals.append(res2)\n",
    "\n",
    "# Down 3 32\n",
    "filters = filters * 2\n",
    "d3, res3 = down(d2, filters)\n",
    "residuals.append(res3)\n",
    "\n",
    "# Down 4, 16\n",
    "filters = filters * 2\n",
    "d4, res4 = down(d3, filters)\n",
    "residuals.append(res4)\n",
    "\n",
    "# Down 5, 8\n",
    "filters = filters * 2\n",
    "d5 = down(d4, filters, pool=False)\n",
    "\n",
    "# Up 1\n",
    "filters = filters / 2\n",
    "up1 = up(d5, residual=residuals[-1], filters=filters)\n",
    "\n",
    "# Up 2,3,4\n",
    "up_ = up1\n",
    "for layer_i in range(3):\n",
    "    filters = filters / 2\n",
    "    up_ = up(up_, residual=residuals[-(layer_i + 2)], filters=filters)\n",
    "    \n",
    "# Out, or up 5\n",
    "out = Conv2D(filters=1, kernel_size=(1, 1), kernel_initializer=he_normal(), \n",
    "             activation='sigmoid')(up_)\n",
    "\n",
    "model = Model(input_layer, out)\n",
    "model.summary()"
   ]
  },
  {
   "cell_type": "code",
   "execution_count": 91,
   "metadata": {
    "collapsed": true
   },
   "outputs": [],
   "source": [
    "# Now let's use Tensorflow to write our dice_coefficcient metric\n",
    "def dice_coef(y_true, y_pred):\n",
    "    smooth = 1e-5\n",
    "    \n",
    "    y_true = tf.round(tf.reshape((y_true), [-1]))\n",
    "    y_pred = tf.round(tf.reshape((y_pred), [-1]))\n",
    "    \n",
    "    isct = tf.reduce_sum(y_true * y_pred)\n",
    "    \n",
    "    return 2 * isct / (tf.reduce_sum(y_true) + tf.reduce_sum(y_pred))"
   ]
  },
  {
   "cell_type": "code",
   "execution_count": 92,
   "metadata": {
    "scrolled": true
   },
   "outputs": [],
   "source": [
    "# Model checkpoint\n",
    "checkpoint = ModelCheckpoint(filepath=tmp_dir + 'weights.hdf5',\n",
    "                             verbose=1, save_best_only=True)\n",
    "csv_logger = CSVLogger(tmp_dir + 'training.log')\n",
    "send_message = SendMessage()"
   ]
  },
  {
   "cell_type": "code",
   "execution_count": 93,
   "metadata": {
    "collapsed": true
   },
   "outputs": [],
   "source": [
    "optimizer = SGD(lr=0.01, momentum=0.99)\n",
    "model.compile(optimizer=optimizer, loss='binary_crossentropy', \n",
    "             metrics=[dice_coef])"
   ]
  },
  {
   "cell_type": "code",
   "execution_count": 76,
   "metadata": {},
   "outputs": [
    {
     "name": "stdout",
     "output_type": "stream",
     "text": [
      "Decrease learning rate, now is 9.999998837884049e-08\n"
     ]
    }
   ],
   "source": [
    "def decrease_lr(optimizer):\n",
    "    lr = K.get_value(optimizer.lr)\n",
    "    K.set_value(optimizer.lr, lr / 10)\n",
    "    print ('Decrease learning rate, now is {}'.format(lr / 10))\n",
    "decrease_lr(optimizer)"
   ]
  },
  {
   "cell_type": "code",
   "execution_count": 77,
   "metadata": {
    "scrolled": true
   },
   "outputs": [
    {
     "name": "stderr",
     "output_type": "stream",
     "text": [
      "Start auto replying.\n"
     ]
    },
    {
     "name": "stdout",
     "output_type": "stream",
     "text": [
      "Epoch 1/2\n",
      " 570/2048 [=======>......................] - ETA: 280s - loss: 0.7034 - dice_coef: 0.3408"
     ]
    },
    {
     "name": "stderr",
     "output_type": "stream",
     "text": [
      "Traceback (most recent call last):\n",
      "  File \"/home/luo/anaconda2/envs/tf11/lib/python3.6/site-packages/urllib3/connection.py\", line 141, in _new_conn\n",
      "    (self.host, self.port), self.timeout, **extra_kw)\n",
      "  File \"/home/luo/anaconda2/envs/tf11/lib/python3.6/site-packages/urllib3/util/connection.py\", line 60, in create_connection\n",
      "    for res in socket.getaddrinfo(host, port, family, socket.SOCK_STREAM):\n",
      "  File \"/home/luo/anaconda2/envs/tf11/lib/python3.6/socket.py\", line 743, in getaddrinfo\n",
      "    for res in _socket.getaddrinfo(host, port, family, type, proto, flags):\n",
      "socket.gaierror: [Errno -3] Temporary failure in name resolution\n",
      "\n",
      "During handling of the above exception, another exception occurred:\n",
      "\n",
      "Traceback (most recent call last):\n",
      "  File \"/home/luo/anaconda2/envs/tf11/lib/python3.6/site-packages/urllib3/connectionpool.py\", line 601, in urlopen\n",
      "    chunked=chunked)\n",
      "  File \"/home/luo/anaconda2/envs/tf11/lib/python3.6/site-packages/urllib3/connectionpool.py\", line 346, in _make_request\n",
      "    self._validate_conn(conn)\n",
      "  File \"/home/luo/anaconda2/envs/tf11/lib/python3.6/site-packages/urllib3/connectionpool.py\", line 850, in _validate_conn\n",
      "    conn.connect()\n",
      "  File \"/home/luo/anaconda2/envs/tf11/lib/python3.6/site-packages/urllib3/connection.py\", line 284, in connect\n",
      "    conn = self._new_conn()\n",
      "  File \"/home/luo/anaconda2/envs/tf11/lib/python3.6/site-packages/urllib3/connection.py\", line 150, in _new_conn\n",
      "    self, \"Failed to establish a new connection: %s\" % e)\n",
      "urllib3.exceptions.NewConnectionError: <urllib3.connection.VerifiedHTTPSConnection object at 0x7fc8d3e5dc88>: Failed to establish a new connection: [Errno -3] Temporary failure in name resolution\n",
      "\n",
      "During handling of the above exception, another exception occurred:\n",
      "\n",
      "Traceback (most recent call last):\n",
      "  File \"/home/luo/anaconda2/envs/tf11/lib/python3.6/site-packages/requests/adapters.py\", line 440, in send\n",
      "    timeout=timeout\n",
      "  File \"/home/luo/anaconda2/envs/tf11/lib/python3.6/site-packages/urllib3/connectionpool.py\", line 639, in urlopen\n",
      "    _stacktrace=sys.exc_info()[2])\n",
      "  File \"/home/luo/anaconda2/envs/tf11/lib/python3.6/site-packages/urllib3/util/retry.py\", line 388, in increment\n",
      "    raise MaxRetryError(_pool, url, error or ResponseError(cause))\n",
      "urllib3.exceptions.MaxRetryError: HTTPSConnectionPool(host='webpush.wx.qq.com', port=443): Max retries exceeded with url: /cgi-bin/mmwebwx-bin/synccheck?r=1503055961142&skey=%40crypt_a4560894_0902ed918daa8518ff5012e85ccac342&sid=G%2BbMWkJC3X%2BW9WTM&uin=747669080&deviceid=e028383835921520&synckey=1_669242297%7C2_669242529%7C3_669242448%7C11_669242517%7C13_669192872%7C201_1503055621%7C203_1503055111%7C1000_1503052381%7C1001_1503054091%7C1002_1503037832&_=1503055961142 (Caused by NewConnectionError('<urllib3.connection.VerifiedHTTPSConnection object at 0x7fc8d3e5dc88>: Failed to establish a new connection: [Errno -3] Temporary failure in name resolution',))\n",
      "\n",
      "During handling of the above exception, another exception occurred:\n",
      "\n",
      "Traceback (most recent call last):\n",
      "  File \"/home/luo/anaconda2/envs/tf11/lib/python3.6/site-packages/itchat/components/login.py\", line 300, in sync_check\n",
      "    r = self.s.get(url, params=params, headers=headers, timeout=config.TIMEOUT)\n",
      "  File \"/home/luo/anaconda2/envs/tf11/lib/python3.6/site-packages/requests/sessions.py\", line 521, in get\n",
      "    return self.request('GET', url, **kwargs)\n",
      "  File \"/home/luo/anaconda2/envs/tf11/lib/python3.6/site-packages/requests/sessions.py\", line 508, in request\n",
      "    resp = self.send(prep, **send_kwargs)\n",
      "  File \"/home/luo/anaconda2/envs/tf11/lib/python3.6/site-packages/requests/sessions.py\", line 618, in send\n",
      "    r = adapter.send(request, **kwargs)\n",
      "  File \"/home/luo/anaconda2/envs/tf11/lib/python3.6/site-packages/requests/adapters.py\", line 508, in send\n",
      "    raise ConnectionError(e, request=request)\n",
      "requests.exceptions.ConnectionError: HTTPSConnectionPool(host='webpush.wx.qq.com', port=443): Max retries exceeded with url: /cgi-bin/mmwebwx-bin/synccheck?r=1503055961142&skey=%40crypt_a4560894_0902ed918daa8518ff5012e85ccac342&sid=G%2BbMWkJC3X%2BW9WTM&uin=747669080&deviceid=e028383835921520&synckey=1_669242297%7C2_669242529%7C3_669242448%7C11_669242517%7C13_669192872%7C201_1503055621%7C203_1503055111%7C1000_1503052381%7C1001_1503054091%7C1002_1503037832&_=1503055961142 (Caused by NewConnectionError('<urllib3.connection.VerifiedHTTPSConnection object at 0x7fc8d3e5dc88>: Failed to establish a new connection: [Errno -3] Temporary failure in name resolution',))\n",
      "\n",
      "During handling of the above exception, another exception occurred:\n",
      "\n",
      "Traceback (most recent call last):\n",
      "  File \"/home/luo/anaconda2/envs/tf11/lib/python3.6/site-packages/itchat/components/login.py\", line 244, in maintain_loop\n",
      "    i = sync_check(self)\n",
      "  File \"/home/luo/anaconda2/envs/tf11/lib/python3.6/site-packages/itchat/components/login.py\", line 303, in sync_check\n",
      "    if not isinstance(e.args[0].args[1], BadStatusLine):\n",
      "IndexError: tuple index out of range\n",
      "\n",
      "Traceback (most recent call last):\n",
      "  File \"/home/luo/anaconda2/envs/tf11/lib/python3.6/site-packages/urllib3/connection.py\", line 141, in _new_conn\n",
      "    (self.host, self.port), self.timeout, **extra_kw)\n",
      "  File \"/home/luo/anaconda2/envs/tf11/lib/python3.6/site-packages/urllib3/util/connection.py\", line 60, in create_connection\n",
      "    for res in socket.getaddrinfo(host, port, family, socket.SOCK_STREAM):\n",
      "  File \"/home/luo/anaconda2/envs/tf11/lib/python3.6/socket.py\", line 743, in getaddrinfo\n",
      "    for res in _socket.getaddrinfo(host, port, family, type, proto, flags):\n",
      "socket.gaierror: [Errno -3] Temporary failure in name resolution\n",
      "\n",
      "During handling of the above exception, another exception occurred:\n",
      "\n",
      "Traceback (most recent call last):\n",
      "  File \"/home/luo/anaconda2/envs/tf11/lib/python3.6/site-packages/urllib3/connectionpool.py\", line 601, in urlopen\n",
      "    chunked=chunked)\n",
      "  File \"/home/luo/anaconda2/envs/tf11/lib/python3.6/site-packages/urllib3/connectionpool.py\", line 346, in _make_request\n",
      "    self._validate_conn(conn)\n",
      "  File \"/home/luo/anaconda2/envs/tf11/lib/python3.6/site-packages/urllib3/connectionpool.py\", line 850, in _validate_conn\n",
      "    conn.connect()\n",
      "  File \"/home/luo/anaconda2/envs/tf11/lib/python3.6/site-packages/urllib3/connection.py\", line 284, in connect\n",
      "    conn = self._new_conn()\n",
      "  File \"/home/luo/anaconda2/envs/tf11/lib/python3.6/site-packages/urllib3/connection.py\", line 150, in _new_conn\n",
      "    self, \"Failed to establish a new connection: %s\" % e)\n",
      "urllib3.exceptions.NewConnectionError: <urllib3.connection.VerifiedHTTPSConnection object at 0x7fc8d3e5de48>: Failed to establish a new connection: [Errno -3] Temporary failure in name resolution\n",
      "\n",
      "During handling of the above exception, another exception occurred:\n",
      "\n",
      "Traceback (most recent call last):\n",
      "  File \"/home/luo/anaconda2/envs/tf11/lib/python3.6/site-packages/requests/adapters.py\", line 440, in send\n",
      "    timeout=timeout\n",
      "  File \"/home/luo/anaconda2/envs/tf11/lib/python3.6/site-packages/urllib3/connectionpool.py\", line 639, in urlopen\n",
      "    _stacktrace=sys.exc_info()[2])\n",
      "  File \"/home/luo/anaconda2/envs/tf11/lib/python3.6/site-packages/urllib3/util/retry.py\", line 388, in increment\n",
      "    raise MaxRetryError(_pool, url, error or ResponseError(cause))\n",
      "urllib3.exceptions.MaxRetryError: HTTPSConnectionPool(host='webpush.wx.qq.com', port=443): Max retries exceeded with url: /cgi-bin/mmwebwx-bin/synccheck?r=1503055961174&skey=%40crypt_a4560894_0902ed918daa8518ff5012e85ccac342&sid=G%2BbMWkJC3X%2BW9WTM&uin=747669080&deviceid=e028383835921520&synckey=1_669242297%7C2_669242529%7C3_669242448%7C11_669242517%7C13_669192872%7C201_1503055621%7C203_1503055111%7C1000_1503052381%7C1001_1503054091%7C1002_1503037832&_=1503055961174 (Caused by NewConnectionError('<urllib3.connection.VerifiedHTTPSConnection object at 0x7fc8d3e5de48>: Failed to establish a new connection: [Errno -3] Temporary failure in name resolution',))\n",
      "\n",
      "During handling of the above exception, another exception occurred:\n",
      "\n",
      "Traceback (most recent call last):\n",
      "  File \"/home/luo/anaconda2/envs/tf11/lib/python3.6/site-packages/itchat/components/login.py\", line 300, in sync_check\n",
      "    r = self.s.get(url, params=params, headers=headers, timeout=config.TIMEOUT)\n",
      "  File \"/home/luo/anaconda2/envs/tf11/lib/python3.6/site-packages/requests/sessions.py\", line 521, in get\n",
      "    return self.request('GET', url, **kwargs)\n",
      "  File \"/home/luo/anaconda2/envs/tf11/lib/python3.6/site-packages/requests/sessions.py\", line 508, in request\n",
      "    resp = self.send(prep, **send_kwargs)\n",
      "  File \"/home/luo/anaconda2/envs/tf11/lib/python3.6/site-packages/requests/sessions.py\", line 618, in send\n",
      "    r = adapter.send(request, **kwargs)\n",
      "  File \"/home/luo/anaconda2/envs/tf11/lib/python3.6/site-packages/requests/adapters.py\", line 508, in send\n",
      "    raise ConnectionError(e, request=request)\n",
      "requests.exceptions.ConnectionError: HTTPSConnectionPool(host='webpush.wx.qq.com', port=443): Max retries exceeded with url: /cgi-bin/mmwebwx-bin/synccheck?r=1503055961174&skey=%40crypt_a4560894_0902ed918daa8518ff5012e85ccac342&sid=G%2BbMWkJC3X%2BW9WTM&uin=747669080&deviceid=e028383835921520&synckey=1_669242297%7C2_669242529%7C3_669242448%7C11_669242517%7C13_669192872%7C201_1503055621%7C203_1503055111%7C1000_1503052381%7C1001_1503054091%7C1002_1503037832&_=1503055961174 (Caused by NewConnectionError('<urllib3.connection.VerifiedHTTPSConnection object at 0x7fc8d3e5de48>: Failed to establish a new connection: [Errno -3] Temporary failure in name resolution',))\n",
      "\n",
      "During handling of the above exception, another exception occurred:\n",
      "\n",
      "Traceback (most recent call last):\n",
      "  File \"/home/luo/anaconda2/envs/tf11/lib/python3.6/site-packages/itchat/components/login.py\", line 244, in maintain_loop\n",
      "    i = sync_check(self)\n",
      "  File \"/home/luo/anaconda2/envs/tf11/lib/python3.6/site-packages/itchat/components/login.py\", line 303, in sync_check\n",
      "    if not isinstance(e.args[0].args[1], BadStatusLine):\n",
      "IndexError: tuple index out of range\n",
      "\n"
     ]
    },
    {
     "name": "stderr",
     "output_type": "stream",
     "text": [
      "Traceback (most recent call last):\n",
      "  File \"/home/luo/anaconda2/envs/tf11/lib/python3.6/site-packages/urllib3/connection.py\", line 141, in _new_conn\n",
      "    (self.host, self.port), self.timeout, **extra_kw)\n",
      "  File \"/home/luo/anaconda2/envs/tf11/lib/python3.6/site-packages/urllib3/util/connection.py\", line 60, in create_connection\n",
      "    for res in socket.getaddrinfo(host, port, family, socket.SOCK_STREAM):\n",
      "  File \"/home/luo/anaconda2/envs/tf11/lib/python3.6/socket.py\", line 743, in getaddrinfo\n",
      "    for res in _socket.getaddrinfo(host, port, family, type, proto, flags):\n",
      "socket.gaierror: [Errno -3] Temporary failure in name resolution\n",
      "\n",
      "During handling of the above exception, another exception occurred:\n",
      "\n",
      "Traceback (most recent call last):\n",
      "  File \"/home/luo/anaconda2/envs/tf11/lib/python3.6/site-packages/urllib3/connectionpool.py\", line 601, in urlopen\n",
      "    chunked=chunked)\n",
      "  File \"/home/luo/anaconda2/envs/tf11/lib/python3.6/site-packages/urllib3/connectionpool.py\", line 346, in _make_request\n",
      "    self._validate_conn(conn)\n",
      "  File \"/home/luo/anaconda2/envs/tf11/lib/python3.6/site-packages/urllib3/connectionpool.py\", line 850, in _validate_conn\n",
      "    conn.connect()\n",
      "  File \"/home/luo/anaconda2/envs/tf11/lib/python3.6/site-packages/urllib3/connection.py\", line 284, in connect\n",
      "    conn = self._new_conn()\n",
      "  File \"/home/luo/anaconda2/envs/tf11/lib/python3.6/site-packages/urllib3/connection.py\", line 150, in _new_conn\n",
      "    self, \"Failed to establish a new connection: %s\" % e)\n",
      "urllib3.exceptions.NewConnectionError: <urllib3.connection.VerifiedHTTPSConnection object at 0x7fc86ebae8d0>: Failed to establish a new connection: [Errno -3] Temporary failure in name resolution\n",
      "\n",
      "During handling of the above exception, another exception occurred:\n",
      "\n",
      "Traceback (most recent call last):\n",
      "  File \"/home/luo/anaconda2/envs/tf11/lib/python3.6/site-packages/requests/adapters.py\", line 440, in send\n",
      "    timeout=timeout\n",
      "  File \"/home/luo/anaconda2/envs/tf11/lib/python3.6/site-packages/urllib3/connectionpool.py\", line 639, in urlopen\n",
      "    _stacktrace=sys.exc_info()[2])\n",
      "  File \"/home/luo/anaconda2/envs/tf11/lib/python3.6/site-packages/urllib3/util/retry.py\", line 388, in increment\n",
      "    raise MaxRetryError(_pool, url, error or ResponseError(cause))\n",
      "urllib3.exceptions.MaxRetryError: HTTPSConnectionPool(host='webpush.wx.qq.com', port=443): Max retries exceeded with url: /cgi-bin/mmwebwx-bin/synccheck?r=1503055961138&skey=%40crypt_a4560894_0902ed918daa8518ff5012e85ccac342&sid=G%2BbMWkJC3X%2BW9WTM&uin=747669080&deviceid=e028383835921520&synckey=1_669242297%7C2_669242529%7C3_669242448%7C11_669242517%7C13_669192872%7C201_1503055621%7C203_1503055111%7C1000_1503052381%7C1001_1503054091%7C1002_1503037832&_=1503055961138 (Caused by NewConnectionError('<urllib3.connection.VerifiedHTTPSConnection object at 0x7fc86ebae8d0>: Failed to establish a new connection: [Errno -3] Temporary failure in name resolution',))\n",
      "\n",
      "During handling of the above exception, another exception occurred:\n",
      "\n",
      "Traceback (most recent call last):\n",
      "  File \"/home/luo/anaconda2/envs/tf11/lib/python3.6/site-packages/itchat/components/login.py\", line 300, in sync_check\n",
      "    r = self.s.get(url, params=params, headers=headers, timeout=config.TIMEOUT)\n",
      "  File \"/home/luo/anaconda2/envs/tf11/lib/python3.6/site-packages/requests/sessions.py\", line 521, in get\n",
      "    return self.request('GET', url, **kwargs)\n",
      "  File \"/home/luo/anaconda2/envs/tf11/lib/python3.6/site-packages/requests/sessions.py\", line 508, in request\n",
      "    resp = self.send(prep, **send_kwargs)\n",
      "  File \"/home/luo/anaconda2/envs/tf11/lib/python3.6/site-packages/requests/sessions.py\", line 618, in send\n",
      "    r = adapter.send(request, **kwargs)\n",
      "  File \"/home/luo/anaconda2/envs/tf11/lib/python3.6/site-packages/requests/adapters.py\", line 508, in send\n",
      "    raise ConnectionError(e, request=request)\n",
      "requests.exceptions.ConnectionError: HTTPSConnectionPool(host='webpush.wx.qq.com', port=443): Max retries exceeded with url: /cgi-bin/mmwebwx-bin/synccheck?r=1503055961138&skey=%40crypt_a4560894_0902ed918daa8518ff5012e85ccac342&sid=G%2BbMWkJC3X%2BW9WTM&uin=747669080&deviceid=e028383835921520&synckey=1_669242297%7C2_669242529%7C3_669242448%7C11_669242517%7C13_669192872%7C201_1503055621%7C203_1503055111%7C1000_1503052381%7C1001_1503054091%7C1002_1503037832&_=1503055961138 (Caused by NewConnectionError('<urllib3.connection.VerifiedHTTPSConnection object at 0x7fc86ebae8d0>: Failed to establish a new connection: [Errno -3] Temporary failure in name resolution',))\n",
      "\n",
      "During handling of the above exception, another exception occurred:\n",
      "\n",
      "Traceback (most recent call last):\n",
      "  File \"/home/luo/anaconda2/envs/tf11/lib/python3.6/site-packages/itchat/components/login.py\", line 244, in maintain_loop\n",
      "    i = sync_check(self)\n",
      "  File \"/home/luo/anaconda2/envs/tf11/lib/python3.6/site-packages/itchat/components/login.py\", line 303, in sync_check\n",
      "    if not isinstance(e.args[0].args[1], BadStatusLine):\n",
      "IndexError: tuple index out of range\n",
      "\n"
     ]
    },
    {
     "name": "stdout",
     "output_type": "stream",
     "text": [
      " 651/2048 [========>.....................] - ETA: 268s - loss: 0.7030 - dice_coef: 0.3405"
     ]
    },
    {
     "name": "stderr",
     "output_type": "stream",
     "text": [
      "Traceback (most recent call last):\n",
      "  File \"/home/luo/anaconda2/envs/tf11/lib/python3.6/site-packages/urllib3/connection.py\", line 141, in _new_conn\n",
      "    (self.host, self.port), self.timeout, **extra_kw)\n",
      "  File \"/home/luo/anaconda2/envs/tf11/lib/python3.6/site-packages/urllib3/util/connection.py\", line 60, in create_connection\n",
      "    for res in socket.getaddrinfo(host, port, family, socket.SOCK_STREAM):\n",
      "  File \"/home/luo/anaconda2/envs/tf11/lib/python3.6/socket.py\", line 743, in getaddrinfo\n",
      "    for res in _socket.getaddrinfo(host, port, family, type, proto, flags):\n",
      "socket.gaierror: [Errno -3] Temporary failure in name resolution\n",
      "\n",
      "During handling of the above exception, another exception occurred:\n",
      "\n",
      "Traceback (most recent call last):\n",
      "  File \"/home/luo/anaconda2/envs/tf11/lib/python3.6/site-packages/urllib3/connectionpool.py\", line 601, in urlopen\n",
      "    chunked=chunked)\n",
      "  File \"/home/luo/anaconda2/envs/tf11/lib/python3.6/site-packages/urllib3/connectionpool.py\", line 346, in _make_request\n",
      "    self._validate_conn(conn)\n",
      "  File \"/home/luo/anaconda2/envs/tf11/lib/python3.6/site-packages/urllib3/connectionpool.py\", line 850, in _validate_conn\n",
      "    conn.connect()\n",
      "  File \"/home/luo/anaconda2/envs/tf11/lib/python3.6/site-packages/urllib3/connection.py\", line 284, in connect\n",
      "    conn = self._new_conn()\n",
      "  File \"/home/luo/anaconda2/envs/tf11/lib/python3.6/site-packages/urllib3/connection.py\", line 150, in _new_conn\n",
      "    self, \"Failed to establish a new connection: %s\" % e)\n",
      "urllib3.exceptions.NewConnectionError: <urllib3.connection.VerifiedHTTPSConnection object at 0x7fc8c05ff9e8>: Failed to establish a new connection: [Errno -3] Temporary failure in name resolution\n",
      "\n",
      "During handling of the above exception, another exception occurred:\n",
      "\n",
      "Traceback (most recent call last):\n",
      "  File \"/home/luo/anaconda2/envs/tf11/lib/python3.6/site-packages/requests/adapters.py\", line 440, in send\n",
      "    timeout=timeout\n",
      "  File \"/home/luo/anaconda2/envs/tf11/lib/python3.6/site-packages/urllib3/connectionpool.py\", line 639, in urlopen\n",
      "    _stacktrace=sys.exc_info()[2])\n",
      "  File \"/home/luo/anaconda2/envs/tf11/lib/python3.6/site-packages/urllib3/util/retry.py\", line 388, in increment\n",
      "    raise MaxRetryError(_pool, url, error or ResponseError(cause))\n",
      "urllib3.exceptions.MaxRetryError: HTTPSConnectionPool(host='webpush.wx.qq.com', port=443): Max retries exceeded with url: /cgi-bin/mmwebwx-bin/synccheck?r=1503055982204&skey=%40crypt_a4560894_0902ed918daa8518ff5012e85ccac342&sid=G%2BbMWkJC3X%2BW9WTM&uin=747669080&deviceid=e028383835921520&synckey=1_669242297%7C2_669242529%7C3_669242448%7C11_669242517%7C13_669192872%7C201_1503055621%7C203_1503055111%7C1000_1503052381%7C1001_1503054091%7C1002_1503037832&_=1503055982204 (Caused by NewConnectionError('<urllib3.connection.VerifiedHTTPSConnection object at 0x7fc8c05ff9e8>: Failed to establish a new connection: [Errno -3] Temporary failure in name resolution',))\n",
      "\n",
      "During handling of the above exception, another exception occurred:\n",
      "\n",
      "Traceback (most recent call last):\n",
      "  File \"/home/luo/anaconda2/envs/tf11/lib/python3.6/site-packages/itchat/components/login.py\", line 300, in sync_check\n",
      "    r = self.s.get(url, params=params, headers=headers, timeout=config.TIMEOUT)\n",
      "  File \"/home/luo/anaconda2/envs/tf11/lib/python3.6/site-packages/requests/sessions.py\", line 521, in get\n",
      "    return self.request('GET', url, **kwargs)\n",
      "  File \"/home/luo/anaconda2/envs/tf11/lib/python3.6/site-packages/requests/sessions.py\", line 508, in request\n",
      "    resp = self.send(prep, **send_kwargs)\n",
      "  File \"/home/luo/anaconda2/envs/tf11/lib/python3.6/site-packages/requests/sessions.py\", line 618, in send\n",
      "    r = adapter.send(request, **kwargs)\n",
      "  File \"/home/luo/anaconda2/envs/tf11/lib/python3.6/site-packages/requests/adapters.py\", line 508, in send\n",
      "    raise ConnectionError(e, request=request)\n",
      "requests.exceptions.ConnectionError: HTTPSConnectionPool(host='webpush.wx.qq.com', port=443): Max retries exceeded with url: /cgi-bin/mmwebwx-bin/synccheck?r=1503055982204&skey=%40crypt_a4560894_0902ed918daa8518ff5012e85ccac342&sid=G%2BbMWkJC3X%2BW9WTM&uin=747669080&deviceid=e028383835921520&synckey=1_669242297%7C2_669242529%7C3_669242448%7C11_669242517%7C13_669192872%7C201_1503055621%7C203_1503055111%7C1000_1503052381%7C1001_1503054091%7C1002_1503037832&_=1503055982204 (Caused by NewConnectionError('<urllib3.connection.VerifiedHTTPSConnection object at 0x7fc8c05ff9e8>: Failed to establish a new connection: [Errno -3] Temporary failure in name resolution',))\n",
      "\n",
      "During handling of the above exception, another exception occurred:\n",
      "\n",
      "Traceback (most recent call last):\n",
      "  File \"/home/luo/anaconda2/envs/tf11/lib/python3.6/site-packages/itchat/components/login.py\", line 244, in maintain_loop\n",
      "    i = sync_check(self)\n",
      "  File \"/home/luo/anaconda2/envs/tf11/lib/python3.6/site-packages/itchat/components/login.py\", line 303, in sync_check\n",
      "    if not isinstance(e.args[0].args[1], BadStatusLine):\n",
      "IndexError: tuple index out of range\n",
      "\n",
      "Traceback (most recent call last):\n",
      "  File \"/home/luo/anaconda2/envs/tf11/lib/python3.6/site-packages/urllib3/connection.py\", line 141, in _new_conn\n",
      "    (self.host, self.port), self.timeout, **extra_kw)\n",
      "  File \"/home/luo/anaconda2/envs/tf11/lib/python3.6/site-packages/urllib3/util/connection.py\", line 60, in create_connection\n",
      "    for res in socket.getaddrinfo(host, port, family, socket.SOCK_STREAM):\n",
      "  File \"/home/luo/anaconda2/envs/tf11/lib/python3.6/socket.py\", line 743, in getaddrinfo\n",
      "    for res in _socket.getaddrinfo(host, port, family, type, proto, flags):\n",
      "socket.gaierror: [Errno -3] Temporary failure in name resolution\n",
      "\n",
      "During handling of the above exception, another exception occurred:\n",
      "\n",
      "Traceback (most recent call last):\n",
      "  File \"/home/luo/anaconda2/envs/tf11/lib/python3.6/site-packages/urllib3/connectionpool.py\", line 601, in urlopen\n",
      "    chunked=chunked)\n",
      "  File \"/home/luo/anaconda2/envs/tf11/lib/python3.6/site-packages/urllib3/connectionpool.py\", line 346, in _make_request\n",
      "    self._validate_conn(conn)\n",
      "  File \"/home/luo/anaconda2/envs/tf11/lib/python3.6/site-packages/urllib3/connectionpool.py\", line 850, in _validate_conn\n",
      "    conn.connect()\n",
      "  File \"/home/luo/anaconda2/envs/tf11/lib/python3.6/site-packages/urllib3/connection.py\", line 284, in connect\n",
      "    conn = self._new_conn()\n",
      "  File \"/home/luo/anaconda2/envs/tf11/lib/python3.6/site-packages/urllib3/connection.py\", line 150, in _new_conn\n",
      "    self, \"Failed to establish a new connection: %s\" % e)\n",
      "urllib3.exceptions.NewConnectionError: <urllib3.connection.VerifiedHTTPSConnection object at 0x7fc8d3e5df98>: Failed to establish a new connection: [Errno -3] Temporary failure in name resolution\n",
      "\n",
      "During handling of the above exception, another exception occurred:\n",
      "\n",
      "Traceback (most recent call last):\n",
      "  File \"/home/luo/anaconda2/envs/tf11/lib/python3.6/site-packages/requests/adapters.py\", line 440, in send\n",
      "    timeout=timeout\n",
      "  File \"/home/luo/anaconda2/envs/tf11/lib/python3.6/site-packages/urllib3/connectionpool.py\", line 639, in urlopen\n",
      "    _stacktrace=sys.exc_info()[2])\n",
      "  File \"/home/luo/anaconda2/envs/tf11/lib/python3.6/site-packages/urllib3/util/retry.py\", line 388, in increment\n",
      "    raise MaxRetryError(_pool, url, error or ResponseError(cause))\n",
      "urllib3.exceptions.MaxRetryError: HTTPSConnectionPool(host='webpush.wx.qq.com', port=443): Max retries exceeded with url: /cgi-bin/mmwebwx-bin/synccheck?r=1503055982203&skey=%40crypt_a4560894_0902ed918daa8518ff5012e85ccac342&sid=G%2BbMWkJC3X%2BW9WTM&uin=747669080&deviceid=e028383835921520&synckey=1_669242297%7C2_669242529%7C3_669242448%7C11_669242517%7C13_669192872%7C201_1503055621%7C203_1503055111%7C1000_1503052381%7C1001_1503054091%7C1002_1503037832&_=1503055982203 (Caused by NewConnectionError('<urllib3.connection.VerifiedHTTPSConnection object at 0x7fc8d3e5df98>: Failed to establish a new connection: [Errno -3] Temporary failure in name resolution',))\n",
      "\n",
      "During handling of the above exception, another exception occurred:\n",
      "\n",
      "Traceback (most recent call last):\n",
      "  File \"/home/luo/anaconda2/envs/tf11/lib/python3.6/site-packages/itchat/components/login.py\", line 300, in sync_check\n",
      "    r = self.s.get(url, params=params, headers=headers, timeout=config.TIMEOUT)\n",
      "  File \"/home/luo/anaconda2/envs/tf11/lib/python3.6/site-packages/requests/sessions.py\", line 521, in get\n",
      "    return self.request('GET', url, **kwargs)\n",
      "  File \"/home/luo/anaconda2/envs/tf11/lib/python3.6/site-packages/requests/sessions.py\", line 508, in request\n",
      "    resp = self.send(prep, **send_kwargs)\n",
      "  File \"/home/luo/anaconda2/envs/tf11/lib/python3.6/site-packages/requests/sessions.py\", line 618, in send\n",
      "    r = adapter.send(request, **kwargs)\n",
      "  File \"/home/luo/anaconda2/envs/tf11/lib/python3.6/site-packages/requests/adapters.py\", line 508, in send\n",
      "    raise ConnectionError(e, request=request)\n",
      "requests.exceptions.ConnectionError: HTTPSConnectionPool(host='webpush.wx.qq.com', port=443): Max retries exceeded with url: /cgi-bin/mmwebwx-bin/synccheck?r=1503055982203&skey=%40crypt_a4560894_0902ed918daa8518ff5012e85ccac342&sid=G%2BbMWkJC3X%2BW9WTM&uin=747669080&deviceid=e028383835921520&synckey=1_669242297%7C2_669242529%7C3_669242448%7C11_669242517%7C13_669192872%7C201_1503055621%7C203_1503055111%7C1000_1503052381%7C1001_1503054091%7C1002_1503037832&_=1503055982203 (Caused by NewConnectionError('<urllib3.connection.VerifiedHTTPSConnection object at 0x7fc8d3e5df98>: Failed to establish a new connection: [Errno -3] Temporary failure in name resolution',))\n",
      "\n",
      "During handling of the above exception, another exception occurred:\n",
      "\n",
      "Traceback (most recent call last):\n",
      "  File \"/home/luo/anaconda2/envs/tf11/lib/python3.6/site-packages/itchat/components/login.py\", line 244, in maintain_loop\n",
      "    i = sync_check(self)\n",
      "  File \"/home/luo/anaconda2/envs/tf11/lib/python3.6/site-packages/itchat/components/login.py\", line 303, in sync_check\n",
      "    if not isinstance(e.args[0].args[1], BadStatusLine):\n",
      "IndexError: tuple index out of range\n",
      "\n"
     ]
    },
    {
     "name": "stderr",
     "output_type": "stream",
     "text": [
      "Traceback (most recent call last):\n",
      "  File \"/home/luo/anaconda2/envs/tf11/lib/python3.6/site-packages/urllib3/connection.py\", line 141, in _new_conn\n",
      "    (self.host, self.port), self.timeout, **extra_kw)\n",
      "  File \"/home/luo/anaconda2/envs/tf11/lib/python3.6/site-packages/urllib3/util/connection.py\", line 60, in create_connection\n",
      "    for res in socket.getaddrinfo(host, port, family, socket.SOCK_STREAM):\n",
      "  File \"/home/luo/anaconda2/envs/tf11/lib/python3.6/socket.py\", line 743, in getaddrinfo\n",
      "    for res in _socket.getaddrinfo(host, port, family, type, proto, flags):\n",
      "socket.gaierror: [Errno -3] Temporary failure in name resolution\n",
      "\n",
      "During handling of the above exception, another exception occurred:\n",
      "\n",
      "Traceback (most recent call last):\n",
      "  File \"/home/luo/anaconda2/envs/tf11/lib/python3.6/site-packages/urllib3/connectionpool.py\", line 601, in urlopen\n",
      "    chunked=chunked)\n",
      "  File \"/home/luo/anaconda2/envs/tf11/lib/python3.6/site-packages/urllib3/connectionpool.py\", line 346, in _make_request\n",
      "    self._validate_conn(conn)\n",
      "  File \"/home/luo/anaconda2/envs/tf11/lib/python3.6/site-packages/urllib3/connectionpool.py\", line 850, in _validate_conn\n",
      "    conn.connect()\n",
      "  File \"/home/luo/anaconda2/envs/tf11/lib/python3.6/site-packages/urllib3/connection.py\", line 284, in connect\n",
      "    conn = self._new_conn()\n",
      "  File \"/home/luo/anaconda2/envs/tf11/lib/python3.6/site-packages/urllib3/connection.py\", line 150, in _new_conn\n",
      "    self, \"Failed to establish a new connection: %s\" % e)\n",
      "urllib3.exceptions.NewConnectionError: <urllib3.connection.VerifiedHTTPSConnection object at 0x7fc8d3e5d518>: Failed to establish a new connection: [Errno -3] Temporary failure in name resolution\n",
      "\n",
      "During handling of the above exception, another exception occurred:\n",
      "\n",
      "Traceback (most recent call last):\n",
      "  File \"/home/luo/anaconda2/envs/tf11/lib/python3.6/site-packages/requests/adapters.py\", line 440, in send\n",
      "    timeout=timeout\n",
      "  File \"/home/luo/anaconda2/envs/tf11/lib/python3.6/site-packages/urllib3/connectionpool.py\", line 639, in urlopen\n",
      "    _stacktrace=sys.exc_info()[2])\n",
      "  File \"/home/luo/anaconda2/envs/tf11/lib/python3.6/site-packages/urllib3/util/retry.py\", line 388, in increment\n",
      "    raise MaxRetryError(_pool, url, error or ResponseError(cause))\n",
      "urllib3.exceptions.MaxRetryError: HTTPSConnectionPool(host='webpush.wx.qq.com', port=443): Max retries exceeded with url: /cgi-bin/mmwebwx-bin/synccheck?r=1503055982204&skey=%40crypt_a4560894_0902ed918daa8518ff5012e85ccac342&sid=G%2BbMWkJC3X%2BW9WTM&uin=747669080&deviceid=e028383835921520&synckey=1_669242297%7C2_669242529%7C3_669242448%7C11_669242517%7C13_669192872%7C201_1503055621%7C203_1503055111%7C1000_1503052381%7C1001_1503054091%7C1002_1503037832&_=1503055982204 (Caused by NewConnectionError('<urllib3.connection.VerifiedHTTPSConnection object at 0x7fc8d3e5d518>: Failed to establish a new connection: [Errno -3] Temporary failure in name resolution',))\n",
      "\n",
      "During handling of the above exception, another exception occurred:\n",
      "\n",
      "Traceback (most recent call last):\n",
      "  File \"/home/luo/anaconda2/envs/tf11/lib/python3.6/site-packages/itchat/components/login.py\", line 300, in sync_check\n",
      "    r = self.s.get(url, params=params, headers=headers, timeout=config.TIMEOUT)\n",
      "  File \"/home/luo/anaconda2/envs/tf11/lib/python3.6/site-packages/requests/sessions.py\", line 521, in get\n",
      "    return self.request('GET', url, **kwargs)\n",
      "  File \"/home/luo/anaconda2/envs/tf11/lib/python3.6/site-packages/requests/sessions.py\", line 508, in request\n",
      "    resp = self.send(prep, **send_kwargs)\n",
      "  File \"/home/luo/anaconda2/envs/tf11/lib/python3.6/site-packages/requests/sessions.py\", line 618, in send\n",
      "    r = adapter.send(request, **kwargs)\n",
      "  File \"/home/luo/anaconda2/envs/tf11/lib/python3.6/site-packages/requests/adapters.py\", line 508, in send\n",
      "    raise ConnectionError(e, request=request)\n",
      "requests.exceptions.ConnectionError: HTTPSConnectionPool(host='webpush.wx.qq.com', port=443): Max retries exceeded with url: /cgi-bin/mmwebwx-bin/synccheck?r=1503055982204&skey=%40crypt_a4560894_0902ed918daa8518ff5012e85ccac342&sid=G%2BbMWkJC3X%2BW9WTM&uin=747669080&deviceid=e028383835921520&synckey=1_669242297%7C2_669242529%7C3_669242448%7C11_669242517%7C13_669192872%7C201_1503055621%7C203_1503055111%7C1000_1503052381%7C1001_1503054091%7C1002_1503037832&_=1503055982204 (Caused by NewConnectionError('<urllib3.connection.VerifiedHTTPSConnection object at 0x7fc8d3e5d518>: Failed to establish a new connection: [Errno -3] Temporary failure in name resolution',))\n",
      "\n",
      "During handling of the above exception, another exception occurred:\n",
      "\n",
      "Traceback (most recent call last):\n",
      "  File \"/home/luo/anaconda2/envs/tf11/lib/python3.6/site-packages/itchat/components/login.py\", line 244, in maintain_loop\n",
      "    i = sync_check(self)\n",
      "  File \"/home/luo/anaconda2/envs/tf11/lib/python3.6/site-packages/itchat/components/login.py\", line 303, in sync_check\n",
      "    if not isinstance(e.args[0].args[1], BadStatusLine):\n",
      "IndexError: tuple index out of range\n",
      "\n"
     ]
    },
    {
     "name": "stdout",
     "output_type": "stream",
     "text": [
      "2047/2048 [============================>.] - ETA: 0s - loss: 0.6966 - dice_coef: 0.2780Epoch 00000: val_loss improved from inf to 0.68854, saving model to ./tmp/u-net-512/weights.hdf5\n",
      "2048/2048 [==============================] - 420s - loss: 0.6966 - dice_coef: 0.2779 - val_loss: 0.6885 - val_dice_coef: 0.0681\n",
      "Epoch 2/2\n",
      "2047/2048 [============================>.] - ETA: 0s - loss: 0.6794 - dice_coef: 0.0091Epoch 00001: val_loss improved from 0.68854 to 0.67543, saving model to ./tmp/u-net-512/weights.hdf5\n",
      "2048/2048 [==============================] - 389s - loss: 0.6794 - dice_coef: 0.0091 - val_loss: 0.6754 - val_dice_coef: 0.0000e+00\n"
     ]
    }
   ],
   "source": [
    "# For keras 2.0.5, the max_queue_size should be max_q_size\n",
    "# no relu in 2x2 conv, no advanced initializer\n",
    "history = model.fit_generator(threadsafe_iter(train_gen), \n",
    "                              steps_per_epoch=4096 / batch_size, \n",
    "                              callbacks=[checkpoint, csv_logger, send_message], \n",
    "                              validation_data=next(val_gen), \n",
    "                              validation_steps=float('inf'), \n",
    "                              max_q_size=6, \n",
    "                              workers=1, \n",
    "                              epochs=2, \n",
    "                              initial_epoch=0)"
   ]
  },
  {
   "cell_type": "code",
   "execution_count": 94,
   "metadata": {},
   "outputs": [
    {
     "name": "stderr",
     "output_type": "stream",
     "text": [
      "Start auto replying.\n"
     ]
    },
    {
     "name": "stdout",
     "output_type": "stream",
     "text": [
      "Epoch 1/2\n",
      "2047/2048 [============================>.] - ETA: 0s - loss: 0.1141 - dice_coef: 0.8931Epoch 00000: val_loss improved from inf to 0.07364, saving model to ./tmp/u-net-512/weights.hdf5\n",
      "2048/2048 [==============================] - 389s - loss: 0.1141 - dice_coef: 0.8931 - val_loss: 0.0736 - val_dice_coef: 0.9329\n",
      "Epoch 2/2\n",
      "2047/2048 [============================>.] - ETA: 0s - loss: 0.0625 - dice_coef: 0.9574Epoch 00001: val_loss improved from 0.07364 to 0.05635, saving model to ./tmp/u-net-512/weights.hdf5\n",
      "2048/2048 [==============================] - 393s - loss: 0.0625 - dice_coef: 0.9574 - val_loss: 0.0563 - val_dice_coef: 0.9631\n"
     ]
    }
   ],
   "source": [
    "# For keras 2.0.5, the max_queue_size should be max_q_size\n",
    "history = model.fit_generator(threadsafe_iter(train_gen), \n",
    "                              steps_per_epoch=4096 / batch_size, \n",
    "                              callbacks=[checkpoint, csv_logger, send_message], \n",
    "                              validation_data=next(val_gen), \n",
    "                              validation_steps=float('inf'), \n",
    "                              max_q_size=6, \n",
    "                              workers=1, \n",
    "                              epochs=2, \n",
    "                              initial_epoch=0)"
   ]
  },
  {
   "cell_type": "code",
   "execution_count": 95,
   "metadata": {},
   "outputs": [
    {
     "name": "stdout",
     "output_type": "stream",
     "text": [
      "Decrease learning rate, now is 0.0009999999776482583\n"
     ]
    }
   ],
   "source": [
    "decrease_lr(optimizer)"
   ]
  },
  {
   "cell_type": "code",
   "execution_count": 96,
   "metadata": {
    "scrolled": true
   },
   "outputs": [
    {
     "name": "stderr",
     "output_type": "stream",
     "text": [
      "Start auto replying.\n"
     ]
    },
    {
     "name": "stdout",
     "output_type": "stream",
     "text": [
      "Epoch 3/4\n",
      "2047/2048 [============================>.] - ETA: 0s - loss: 0.0552 - dice_coef: 0.9688Epoch 00002: val_loss improved from 0.05635 to 0.05395, saving model to ./tmp/u-net-512/weights.hdf5\n",
      "2048/2048 [==============================] - 398s - loss: 0.0552 - dice_coef: 0.9688 - val_loss: 0.0540 - val_dice_coef: 0.9752\n",
      "Epoch 4/4\n",
      "2047/2048 [============================>.] - ETA: 0s - loss: 0.0533 - dice_coef: 0.9715Epoch 00003: val_loss improved from 0.05395 to 0.05346, saving model to ./tmp/u-net-512/weights.hdf5\n",
      "2048/2048 [==============================] - 401s - loss: 0.0533 - dice_coef: 0.9715 - val_loss: 0.0535 - val_dice_coef: 0.9721\n"
     ]
    }
   ],
   "source": [
    "# For keras 2.0.5, the max_queue_size should be max_q_size\n",
    "history = model.fit_generator(threadsafe_iter(train_gen), \n",
    "                              steps_per_epoch=4096 / batch_size, \n",
    "                              callbacks=[checkpoint, csv_logger, send_message], \n",
    "                              validation_data=next(val_gen), \n",
    "                              validation_steps=float('inf'), \n",
    "                              max_q_size=6, \n",
    "                              workers=1, \n",
    "                              epochs=4, \n",
    "                              initial_epoch=2)"
   ]
  },
  {
   "cell_type": "code",
   "execution_count": 98,
   "metadata": {
    "scrolled": true
   },
   "outputs": [
    {
     "name": "stdout",
     "output_type": "stream",
     "text": [
      "Decrease learning rate, now is 9.999999310821295e-05\n"
     ]
    }
   ],
   "source": [
    "decrease_lr(optimizer)"
   ]
  },
  {
   "cell_type": "code",
   "execution_count": 99,
   "metadata": {},
   "outputs": [
    {
     "name": "stderr",
     "output_type": "stream",
     "text": [
      "Start auto replying.\n"
     ]
    },
    {
     "name": "stdout",
     "output_type": "stream",
     "text": [
      "Epoch 5/5\n",
      "2047/2048 [============================>.] - ETA: 0s - loss: 0.0530 - dice_coef: 0.9723Epoch 00004: val_loss did not improve\n",
      "2048/2048 [==============================] - 423s - loss: 0.0530 - dice_coef: 0.9723 - val_loss: 0.0574 - val_dice_coef: 0.9644\n"
     ]
    }
   ],
   "source": [
    "# For keras 2.0.5, the max_queue_size should be max_q_size\n",
    "history = model.fit_generator(threadsafe_iter(train_gen), \n",
    "                              steps_per_epoch=4096 / batch_size, \n",
    "                              callbacks=[checkpoint, csv_logger, send_message], \n",
    "                              validation_data=next(val_gen), \n",
    "                              validation_steps=float('inf'), \n",
    "                              max_q_size=6, \n",
    "                              workers=2, \n",
    "                              epochs=5, \n",
    "                              initial_epoch=4)"
   ]
  },
  {
   "cell_type": "code",
   "execution_count": 100,
   "metadata": {},
   "outputs": [
    {
     "name": "stdout",
     "output_type": "stream",
     "text": [
      "Decrease learning rate, now is 9.99999901978299e-06\n"
     ]
    }
   ],
   "source": [
    "decrease_lr(optimizer)"
   ]
  },
  {
   "cell_type": "code",
   "execution_count": 101,
   "metadata": {},
   "outputs": [
    {
     "name": "stderr",
     "output_type": "stream",
     "text": [
      "Start auto replying.\n"
     ]
    },
    {
     "name": "stdout",
     "output_type": "stream",
     "text": [
      "Epoch 6/6\n",
      "2047/2048 [============================>.] - ETA: 0s - loss: 0.0526 - dice_coef: 0.9729Epoch 00005: val_loss did not improve\n",
      "2048/2048 [==============================] - 441s - loss: 0.0526 - dice_coef: 0.9729 - val_loss: 0.0537 - val_dice_coef: 0.9689\n"
     ]
    },
    {
     "data": {
      "image/png": "[encoded data removed]",
      "text/plain": [
       "<matplotlib.figure.Figure at 0x7fc8b01ca748>"
      ]
     },
     "metadata": {},
     "output_type": "display_data"
    }
   ],
   "source": [
    "# For keras 2.0.5, the max_queue_size should be max_q_size\n",
    "history = model.fit_generator(threadsafe_iter(train_gen), \n",
    "                              steps_per_epoch=4096 / batch_size, \n",
    "                              callbacks=[checkpoint, csv_logger, send_message], \n",
    "                              validation_data=next(val_gen), \n",
    "                              validation_steps=float('inf'), \n",
    "                              max_q_size=6, \n",
    "                              workers=2, \n",
    "                              epochs=6, \n",
    "                              initial_epoch=5)"
   ]
  }
 ],
 "metadata": {
  "kernelspec": {
   "display_name": "Python 3",
   "language": "python",
   "name": "python3"
  },
  "language_info": {
   "codemirror_mode": {
    "name": "ipython",
    "version": 3
   },
   "file_extension": ".py",
   "mimetype": "text/x-python",
   "name": "python",
   "nbconvert_exporter": "python",
   "pygments_lexer": "ipython3",
   "version": "3.6.0"
  }
 },
 "nbformat": 4,
 "nbformat_minor": 2
}
