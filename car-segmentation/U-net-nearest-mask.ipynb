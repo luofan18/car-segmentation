{
 "cells": [
  {
   "cell_type": "code",
   "execution_count": 26,
   "metadata": {},
   "outputs": [],
   "source": [
    "%matplotlib inline\n",
    "\n",
    "import numpy as np\n",
    "import pandas as pd\n",
    "import matplotlib.pyplot as plt\n",
    "from keras.models import Sequential, Model\n",
    "from keras.layers import (Dense, Conv2D, Input, MaxPool2D, \n",
    "                         UpSampling2D, Concatenate, Conv2DTranspose, \n",
    "                         Dropout, SeparableConv2D)\n",
    "import tensorflow as tf\n",
    "from keras.optimizers import Adam,SGD\n",
    "from keras.initializers import he_normal\n",
    "from scipy.misc import imresize\n",
    "from tqdm import tqdm\n",
    "from sklearn.model_selection import train_test_split\n",
    "import os\n",
    "from keras.preprocessing.image import (array_to_img, img_to_array, \n",
    "                                       load_img, ImageDataGenerator)\n",
    "from keras.callbacks import Callback, ModelCheckpoint, CSVLogger\n",
    "import keras.backend as K\n",
    "import itchat\n",
    "from wechat_utils import SendMessage\n",
    "import random\n",
    "from importlib import reload\n",
    "\n",
    "import pdb\n",
    "import gc\n",
    "import sys"
   ]
  },
  {
   "cell_type": "code",
   "execution_count": 2,
   "metadata": {},
   "outputs": [
    {
     "data": {
      "text/plain": [
       "'2.0.6'"
      ]
     },
     "execution_count": 2,
     "metadata": {},
     "output_type": "execute_result"
    }
   ],
   "source": [
    "import keras\n",
    "keras.__version__"
   ]
  },
  {
   "cell_type": "markdown",
   "metadata": {},
   "source": [
    "## Prepare the data"
   ]
  },
  {
   "cell_type": "code",
   "execution_count": 2,
   "metadata": {
    "collapsed": true
   },
   "outputs": [],
   "source": [
    "# Set the necessary directories\n",
    "data_dir = '../data/train/'\n",
    "mask_dir = '../data/train_masks/'\n",
    "all_images = os.listdir(data_dir)"
   ]
  },
  {
   "cell_type": "code",
   "execution_count": 3,
   "metadata": {},
   "outputs": [
    {
     "name": "stdout",
     "output_type": "stream",
     "text": [
      "mkdir: cannot create directory ‘tmp’: File exists\r\n"
     ]
    }
   ],
   "source": [
    "!mkdir tmp"
   ]
  },
  {
   "cell_type": "code",
   "execution_count": 22,
   "metadata": {
    "collapsed": true
   },
   "outputs": [],
   "source": [
    "tmp_dir = './tmp/u-net-separable-conv/'"
   ]
  },
  {
   "cell_type": "code",
   "execution_count": 23,
   "metadata": {},
   "outputs": [],
   "source": [
    "!mkdir ./tmp/u-net-separable-conv/"
   ]
  },
  {
   "cell_type": "code",
   "execution_count": 6,
   "metadata": {
    "collapsed": true
   },
   "outputs": [],
   "source": [
    "# Train validation split\n",
    "train_images, validation_images = train_test_split(\n",
    "    all_images, train_size=0.8, test_size=0.2)"
   ]
  },
  {
   "cell_type": "code",
   "execution_count": 9,
   "metadata": {
    "collapsed": true
   },
   "outputs": [],
   "source": [
    "# original size 1280, 1918\n",
    "input_dims = [32, 32]\n",
    "batch_size = 2"
   ]
  },
  {
   "cell_type": "code",
   "execution_count": 10,
   "metadata": {
    "collapsed": true
   },
   "outputs": [],
   "source": [
    "# Utility function to convert greyscale images to rgb\n",
    "def grey2rgb(img):\n",
    "    new_img = []\n",
    "    for i in range(img.shape[0]):\n",
    "        for j in range(img.shape[1]):\n",
    "            new_img.append(list(img[i][j]) * 3)\n",
    "    new_img = np.array(new_img).reshape(img.shape[0], img.shape[1], 3)\n",
    "    return new_img"
   ]
  },
  {
   "cell_type": "code",
   "execution_count": 11,
   "metadata": {
    "collapsed": true
   },
   "outputs": [],
   "source": [
    "def read_image_and_mask(data_dir, mask_dir, image):\n",
    "    return (load_img(data_dir + image), \n",
    "            load_img(mask_dir + image.split('.')[0] + '_mask.gif'))"
   ]
  },
  {
   "cell_type": "code",
   "execution_count": 12,
   "metadata": {
    "collapsed": true
   },
   "outputs": [],
   "source": [
    "def show_image_and_mask(image, mask):\n",
    "    plt.figure()\n",
    "    plt.subplot(121)\n",
    "    plt.imshow(image)\n",
    "    plt.subplot(122)\n",
    "    plt.imshow(mask)"
   ]
  },
  {
   "cell_type": "code",
   "execution_count": 15,
   "metadata": {},
   "outputs": [
    {
     "name": "stdout",
     "output_type": "stream",
     "text": [
      "(1792, 1280)\n",
      "[[ 233.  233.  233.]\n",
      " [ 233.  233.  233.]\n",
      " [ 233.  233.  233.]\n",
      " ..., \n",
      " [ 186.  186.  186.]\n",
      " [ 186.  186.  186.]\n",
      " [ 186.  186.  186.]]\n"
     ]
    },
    {
     "data": {
      "image/png": "[encoded data removed]",
      "text/plain": [
       "<matplotlib.figure.Figure at 0x7f725559ef28>"
      ]
     },
     "metadata": {},
     "output_type": "display_data"
    },
    {
     "data": {
      "image/png": "[encoded data removed]",
      "text/plain": [
       "<matplotlib.figure.Figure at 0x7f72554ed898>"
      ]
     },
     "metadata": {},
     "output_type": "display_data"
    }
   ],
   "source": [
    "def random_crop_along_width(image_pair, dims):\n",
    "    image, mask = image_pair\n",
    "    assert dims[0] == 1280, \"wrong dims\"\n",
    "    x_s = random.randint(0, 1918 - dims[1])\n",
    "    box = (x_s, 0, x_s+dims[1], dims[0])\n",
    "    image = image.crop(box)\n",
    "    mask = mask.crop(box)\n",
    "    return image, mask\n",
    "image_, mask_ = read_image_and_mask(data_dir, mask_dir, train_images[0])\n",
    "show_image_and_mask(image_, mask_)\n",
    "image_, mask_ = random_crop_along_width((image_, mask_), [1280, 1792])\n",
    "show_image_and_mask(image_, mask_)\n",
    "print (image_.size)\n",
    "print (img_to_array(image_)[:, input_dims[1]-1])"
   ]
  },
  {
   "cell_type": "code",
   "execution_count": 27,
   "metadata": {
    "scrolled": true
   },
   "outputs": [
    {
     "data": {
      "text/plain": [
       "<matplotlib.image.AxesImage at 0x7f725105c940>"
      ]
     },
     "execution_count": 27,
     "metadata": {},
     "output_type": "execute_result"
    },
    {
     "data": {
      "image/png": "[encoded data removed]",
      "text/plain": [
       "<matplotlib.figure.Figure at 0x7f7250e35f98>"
      ]
     },
     "metadata": {},
     "output_type": "display_data"
    }
   ],
   "source": [
    "from data_utils import threadsafe_iter\n",
    "# Generator that we will use to read the data from the directory\n",
    "def data_gen_small(data_dir, mask_dir, images, batch_size, dims, transforms=None):\n",
    "    \"\"\"\n",
    "    data_dir: where the actual images are kept\n",
    "    mask_dir: where the actual masks are kept\n",
    "    images: the filenames of the images we want to generate batches from\n",
    "    dims: the dimensions in which we want to rescale our images\n",
    "    transforms: the list of transforms to be applied to image and mask in order,\n",
    "                only apply to training data\n",
    "    \"\"\"\n",
    "    mask_interp = 'nearest'\n",
    "    if batch_size == 0:\n",
    "        img_number = len(images)\n",
    "        all_imgs = np.zeros([img_number] + dims + [3], dtype=np.float32)\n",
    "        all_masks = np.zeros([img_number] + dims, dtype=np.float32)\n",
    "        print('Build generator, this may take some time...')\n",
    "        print('total number of images: {}'.format(img_number))\n",
    "        for i, image in enumerate(tqdm(images)):\n",
    "            # Read image and mask\n",
    "            original_img = load_img(data_dir + image)\n",
    "            original_mask = load_img(mask_dir + image.split('.')[0] + '_mask.gif')\n",
    "            \n",
    "            # Apply transform\n",
    "            if transforms:\n",
    "                transformed_img, transformed_mask = \\\n",
    "                apply_transforms(original_img, original_mask, transforms)\n",
    "                resized_img = imresize(transformed_img, dims+[3])\n",
    "                resized_mask = imresize(transformed_mask, dims+[3], interp=mask_interp)\n",
    "            else:\n",
    "                resized_img = imresize(original_img, dims+[3])\n",
    "                resized_mask = imresize(original_mask, dims+[3], interp=mask_interp)\n",
    "            # Image\n",
    "            array_img = img_to_array(resized_img) / 255\n",
    "            all_imgs[i] = array_img\n",
    "            # Mask\n",
    "            array = img_to_array(resized_mask) / 255\n",
    "            all_masks[i] = array[:,:,0]\n",
    "        while True:\n",
    "            yield all_imgs, all_masks[:,:,:,None]\n",
    "            \n",
    "    else:\n",
    "        while True:\n",
    "            ix = np.random.choice(np.arange(len(images)), batch_size)\n",
    "            imgs = []\n",
    "            labels = []\n",
    "            for i in ix:\n",
    "                original_img, original_mask = \\\n",
    "                    read_image_and_mask(data_dir, mask_dir, images[i])\n",
    "                \n",
    "                # Apply transform\n",
    "                if transforms:\n",
    "                    transformed_img, transformed_mask = \\\n",
    "                        apply_transforms(original_img, original_mask, transforms)\n",
    "                    resized_img = imresize(transformed_img, dims+[3])\n",
    "                    resized_mask = imresize(transformed_mask, dims+[3], interp=mask_interp)\n",
    "                else:\n",
    "                    resized_img = imresize(original_img, dims+[3])\n",
    "                    resized_mask = imresize(original_mask, dims+[3], interp=mask_interp)\n",
    "                # images\n",
    "                array_img = img_to_array(resized_img)/255\n",
    "                imgs.append(array_img)\n",
    "                \n",
    "                # masks\n",
    "                array_mask = img_to_array(resized_mask)/255\n",
    "                labels.append(array_mask[:, :, 0])\n",
    "            imgs = np.array(imgs)\n",
    "            labels = np.array(labels)\n",
    "            yield imgs, labels.reshape(-1, dims[0], dims[1], 1)\n",
    "            \n",
    "# Example use\n",
    "train_gen = data_gen_small(data_dir, mask_dir, train_images, batch_size, \n",
    "                          input_dims)\n",
    "img, msk = next(train_gen)\n",
    "\n",
    "plt.subplot(121)\n",
    "plt.imshow(img[0])\n",
    "plt.subplot(122)\n",
    "plt.imshow(grey2rgb(msk[0]), alpha=0.5)"
   ]
  },
  {
   "cell_type": "code",
   "execution_count": 28,
   "metadata": {},
   "outputs": [
    {
     "name": "stdout",
     "output_type": "stream",
     "text": [
      "CPU times: user 132 ms, sys: 4 ms, total: 136 ms\n",
      "Wall time: 314 ms\n"
     ]
    }
   ],
   "source": [
    "%%time\n",
    "_ = next(train_gen)"
   ]
  },
  {
   "cell_type": "code",
   "execution_count": 29,
   "metadata": {
    "collapsed": true
   },
   "outputs": [],
   "source": [
    "val_gen = data_gen_small(data_dir, mask_dir, validation_images, 0, input_dims)"
   ]
  },
  {
   "cell_type": "code",
   "execution_count": 30,
   "metadata": {},
   "outputs": [
    {
     "name": "stderr",
     "output_type": "stream",
     "text": [
      "  0%|          | 2/1018 [00:00<01:08, 14.89it/s]"
     ]
    },
    {
     "name": "stdout",
     "output_type": "stream",
     "text": [
      "Build generator, this may take some time...\n",
      "total number of images: 1018\n"
     ]
    },
    {
     "name": "stderr",
     "output_type": "stream",
     "text": [
      "100%|██████████| 1018/1018 [01:05<00:00, 15.56it/s]\n"
     ]
    }
   ],
   "source": [
    "_ = next(val_gen)"
   ]
  },
  {
   "cell_type": "code",
   "execution_count": 31,
   "metadata": {},
   "outputs": [
    {
     "name": "stdout",
     "output_type": "stream",
     "text": [
      "(1018, 32, 32, 3)\n",
      "(1018, 32, 32, 1)\n"
     ]
    }
   ],
   "source": [
    "image_, mask_ = next(val_gen)\n",
    "print (image_.shape)\n",
    "print (mask_.shape)"
   ]
  },
  {
   "cell_type": "code",
   "execution_count": 32,
   "metadata": {
    "scrolled": true
   },
   "outputs": [
    {
     "name": "stdout",
     "output_type": "stream",
     "text": [
      "(2, 32, 32, 3)\n",
      "(2, 32, 32, 1)\n",
      "(32, 32, 1)\n",
      "[[ 0.]\n",
      " [ 0.]\n",
      " [ 0.]\n",
      " [ 0.]\n",
      " [ 0.]\n",
      " [ 0.]\n",
      " [ 0.]\n",
      " [ 0.]\n",
      " [ 0.]\n",
      " [ 1.]\n",
      " [ 1.]\n",
      " [ 1.]\n",
      " [ 1.]\n",
      " [ 1.]\n",
      " [ 1.]\n",
      " [ 1.]\n",
      " [ 1.]\n",
      " [ 1.]\n",
      " [ 1.]\n",
      " [ 1.]\n",
      " [ 1.]\n",
      " [ 1.]\n",
      " [ 1.]\n",
      " [ 1.]\n",
      " [ 1.]\n",
      " [ 1.]\n",
      " [ 1.]\n",
      " [ 1.]\n",
      " [ 0.]\n",
      " [ 0.]\n",
      " [ 0.]\n",
      " [ 0.]]\n"
     ]
    }
   ],
   "source": [
    "image_, mask_ = next(train_gen)\n",
    "print (image_.shape)\n",
    "print (mask_.shape)\n",
    "print (mask_[0].shape)\n",
    "print (mask_[0][16])"
   ]
  },
  {
   "cell_type": "markdown",
   "metadata": {},
   "source": [
    "## Build the network"
   ]
  },
  {
   "cell_type": "code",
   "execution_count": 33,
   "metadata": {
    "collapsed": true
   },
   "outputs": [],
   "source": [
    "# First, let's define the two different types of layers that we will \n",
    "# be using\n",
    "def down(input_layer, filters, pool=True):\n",
    "    conv1 = Conv2D(filters, (3, 3), padding='same', \n",
    "                   kernel_initializer=he_normal(), activation='relu')(\n",
    "                   input_layer)\n",
    "    residual = Conv2D(filters, (3, 3), padding='same', \n",
    "                      kernel_initializer=he_normal(), activation='relu')(\n",
    "                      conv1)\n",
    "    if pool:\n",
    "        max_pool = MaxPool2D()(residual)\n",
    "        return max_pool,residual\n",
    "    else:\n",
    "        return residual\n",
    "    \n",
    "def up(input_layer, residual, filters):\n",
    "    filters=int(filters)\n",
    "    upsample = UpSampling2D()(input_layer)\n",
    "    upconv = Conv2D(filters, kernel_size=(2, 2), padding='same', \n",
    "                    kernel_initializer=he_normal(), activation='relu')(upsample)\n",
    "    concat = Concatenate(axis=3)([residual, upconv])\n",
    "    conv1 = Conv2D(filters, (3, 3), padding='same',\n",
    "                   kernel_initializer=he_normal(), activation='relu')(\n",
    "                   concat)\n",
    "    conv2 = Conv2D(filters, (3, 3), padding='same', \n",
    "                   kernel_initializer=he_normal(), activation='relu')(\n",
    "                   conv1)\n",
    "    return conv2\n"
   ]
  },
  {
   "cell_type": "code",
   "execution_count": 34,
   "metadata": {
    "scrolled": true
   },
   "outputs": [
    {
     "name": "stdout",
     "output_type": "stream",
     "text": [
      "____________________________________________________________________________________________________\n",
      "Layer (type)                     Output Shape          Param #     Connected to                     \n",
      "====================================================================================================\n",
      "input_1 (InputLayer)             (None, None, None, 3) 0                                            \n",
      "____________________________________________________________________________________________________\n",
      "conv2d_1 (Conv2D)                (None, None, None, 64 1792        input_1[0][0]                    \n",
      "____________________________________________________________________________________________________\n",
      "conv2d_2 (Conv2D)                (None, None, None, 64 36928       conv2d_1[0][0]                   \n",
      "____________________________________________________________________________________________________\n",
      "max_pooling2d_1 (MaxPooling2D)   (None, None, None, 64 0           conv2d_2[0][0]                   \n",
      "____________________________________________________________________________________________________\n",
      "conv2d_3 (Conv2D)                (None, None, None, 12 73856       max_pooling2d_1[0][0]            \n",
      "____________________________________________________________________________________________________\n",
      "conv2d_4 (Conv2D)                (None, None, None, 12 147584      conv2d_3[0][0]                   \n",
      "____________________________________________________________________________________________________\n",
      "max_pooling2d_2 (MaxPooling2D)   (None, None, None, 12 0           conv2d_4[0][0]                   \n",
      "____________________________________________________________________________________________________\n",
      "conv2d_5 (Conv2D)                (None, None, None, 25 295168      max_pooling2d_2[0][0]            \n",
      "____________________________________________________________________________________________________\n",
      "conv2d_6 (Conv2D)                (None, None, None, 25 590080      conv2d_5[0][0]                   \n",
      "____________________________________________________________________________________________________\n",
      "max_pooling2d_3 (MaxPooling2D)   (None, None, None, 25 0           conv2d_6[0][0]                   \n",
      "____________________________________________________________________________________________________\n",
      "conv2d_7 (Conv2D)                (None, None, None, 51 1180160     max_pooling2d_3[0][0]            \n",
      "____________________________________________________________________________________________________\n",
      "conv2d_8 (Conv2D)                (None, None, None, 51 2359808     conv2d_7[0][0]                   \n",
      "____________________________________________________________________________________________________\n",
      "max_pooling2d_4 (MaxPooling2D)   (None, None, None, 51 0           conv2d_8[0][0]                   \n",
      "____________________________________________________________________________________________________\n",
      "dropout_1 (Dropout)              (None, None, None, 51 0           max_pooling2d_4[0][0]            \n",
      "____________________________________________________________________________________________________\n",
      "conv2d_9 (Conv2D)                (None, None, None, 10 4719616     dropout_1[0][0]                  \n",
      "____________________________________________________________________________________________________\n",
      "conv2d_10 (Conv2D)               (None, None, None, 10 9438208     conv2d_9[0][0]                   \n",
      "____________________________________________________________________________________________________\n",
      "dropout_2 (Dropout)              (None, None, None, 10 0           conv2d_10[0][0]                  \n",
      "____________________________________________________________________________________________________\n",
      "up_sampling2d_1 (UpSampling2D)   (None, None, None, 10 0           dropout_2[0][0]                  \n",
      "____________________________________________________________________________________________________\n",
      "conv2d_11 (Conv2D)               (None, None, None, 51 2097664     up_sampling2d_1[0][0]            \n",
      "____________________________________________________________________________________________________\n",
      "concatenate_1 (Concatenate)      (None, None, None, 10 0           conv2d_8[0][0]                   \n",
      "                                                                   conv2d_11[0][0]                  \n",
      "____________________________________________________________________________________________________\n",
      "conv2d_12 (Conv2D)               (None, None, None, 51 4719104     concatenate_1[0][0]              \n",
      "____________________________________________________________________________________________________\n",
      "conv2d_13 (Conv2D)               (None, None, None, 51 2359808     conv2d_12[0][0]                  \n",
      "____________________________________________________________________________________________________\n",
      "up_sampling2d_2 (UpSampling2D)   (None, None, None, 51 0           conv2d_13[0][0]                  \n",
      "____________________________________________________________________________________________________\n",
      "conv2d_14 (Conv2D)               (None, None, None, 25 524544      up_sampling2d_2[0][0]            \n",
      "____________________________________________________________________________________________________\n",
      "concatenate_2 (Concatenate)      (None, None, None, 51 0           conv2d_6[0][0]                   \n",
      "                                                                   conv2d_14[0][0]                  \n",
      "____________________________________________________________________________________________________\n",
      "conv2d_15 (Conv2D)               (None, None, None, 25 1179904     concatenate_2[0][0]              \n",
      "____________________________________________________________________________________________________\n",
      "conv2d_16 (Conv2D)               (None, None, None, 25 590080      conv2d_15[0][0]                  \n",
      "____________________________________________________________________________________________________\n",
      "up_sampling2d_3 (UpSampling2D)   (None, None, None, 25 0           conv2d_16[0][0]                  \n",
      "____________________________________________________________________________________________________\n",
      "conv2d_17 (Conv2D)               (None, None, None, 12 131200      up_sampling2d_3[0][0]            \n",
      "____________________________________________________________________________________________________\n",
      "concatenate_3 (Concatenate)      (None, None, None, 25 0           conv2d_4[0][0]                   \n",
      "                                                                   conv2d_17[0][0]                  \n",
      "____________________________________________________________________________________________________\n",
      "conv2d_18 (Conv2D)               (None, None, None, 12 295040      concatenate_3[0][0]              \n",
      "____________________________________________________________________________________________________\n",
      "conv2d_19 (Conv2D)               (None, None, None, 12 147584      conv2d_18[0][0]                  \n",
      "____________________________________________________________________________________________________\n",
      "up_sampling2d_4 (UpSampling2D)   (None, None, None, 12 0           conv2d_19[0][0]                  \n",
      "____________________________________________________________________________________________________\n",
      "conv2d_20 (Conv2D)               (None, None, None, 64 32832       up_sampling2d_4[0][0]            \n",
      "____________________________________________________________________________________________________\n",
      "concatenate_4 (Concatenate)      (None, None, None, 12 0           conv2d_2[0][0]                   \n",
      "                                                                   conv2d_20[0][0]                  \n",
      "____________________________________________________________________________________________________\n",
      "conv2d_21 (Conv2D)               (None, None, None, 64 73792       concatenate_4[0][0]              \n",
      "____________________________________________________________________________________________________\n",
      "conv2d_22 (Conv2D)               (None, None, None, 64 36928       conv2d_21[0][0]                  \n",
      "____________________________________________________________________________________________________\n",
      "conv2d_23 (Conv2D)               (None, None, None, 1) 65          conv2d_22[0][0]                  \n",
      "====================================================================================================\n",
      "Total params: 31,031,745\n",
      "Trainable params: 31,031,745\n",
      "Non-trainable params: 0\n",
      "____________________________________________________________________________________________________\n"
     ]
    }
   ],
   "source": [
    "K.clear_session()\n",
    "# Make a custom U-nets implementation\n",
    "filters = 64\n",
    "\n",
    "input_layer = Input(shape=[None, None] + [3])\n",
    "layers = [input_layer]\n",
    "residuals = []\n",
    "\n",
    "# Down 1, 128\n",
    "d1, res1 = down(input_layer, filters)\n",
    "residuals.append(res1)\n",
    "\n",
    "# Down 2, 64\n",
    "filters = filters * 2\n",
    "d2, res2 = down(d1, filters)\n",
    "residuals.append(res2)\n",
    "\n",
    "# Down 3 32\n",
    "filters = filters * 2\n",
    "d3, res3 = down(d2, filters)\n",
    "residuals.append(res3)\n",
    "\n",
    "# Down 4, 16\n",
    "filters = filters * 2\n",
    "d4, res4 = down(d3, filters)\n",
    "residuals.append(res4)\n",
    "\n",
    "# Down 5, 8\n",
    "filters = filters * 2\n",
    "d4 = Dropout(0.5)(d4)\n",
    "d5 = down(d4, filters, pool=False)\n",
    "d5 = Dropout(0.5)(d5)\n",
    "\n",
    "# Up 1\n",
    "filters = filters / 2\n",
    "up1 = up(d5, residual=residuals[-1], filters=filters)\n",
    "\n",
    "# Up 2,3,4\n",
    "up_ = up1\n",
    "for layer_i in range(3):\n",
    "    filters = filters / 2\n",
    "    up_ = up(up_, residual=residuals[-(layer_i + 2)], filters=filters)\n",
    "    \n",
    "# Out, or up 5\n",
    "out = Conv2D(filters=1, kernel_size=(1, 1), kernel_initializer=he_normal(), \n",
    "             activation='sigmoid')(up_)\n",
    "\n",
    "model = Model(input_layer, out)\n",
    "model.summary()"
   ]
  },
  {
   "cell_type": "code",
   "execution_count": 35,
   "metadata": {
    "collapsed": true
   },
   "outputs": [],
   "source": [
    "# Now let's use Tensorflow to write our dice_coefficcient metric\n",
    "def dice_coef(y_true, y_pred):\n",
    "    smooth = 1e-5\n",
    "    \n",
    "    y_true = tf.round(tf.reshape((y_true), [-1]))\n",
    "    y_pred = tf.round(tf.reshape((y_pred), [-1]))\n",
    "    \n",
    "    isct = tf.reduce_sum(y_true * y_pred)\n",
    "    \n",
    "    return 2 * isct / (tf.reduce_sum(y_true) + tf.reduce_sum(y_pred))"
   ]
  },
  {
   "cell_type": "code",
   "execution_count": 36,
   "metadata": {
    "scrolled": true
   },
   "outputs": [
    {
     "name": "stderr",
     "output_type": "stream",
     "text": [
      "Getting uuid of QR code.\n",
      "Downloading QR code.\n"
     ]
    },
    {
     "name": "stdout",
     "output_type": "stream",
     "text": [
      "██████████████████████████████████████████████████████████████████████████████\n",
      "██              ████    ██████  ████████    ██████  ██  ██████              ██\n",
      "██  ██████████  ████  ██        ████████  ██  ██████  ████████  ██████████  ██\n",
      "██  ██      ██  ██        ██        ██  ████    ████  ██    ██  ██      ██  ██\n",
      "██  ██      ██  ██  ██  ████  ██  ██  ████      ████        ██  ██      ██  ██\n",
      "██  ██      ██  ████  ██  ██  ████  ██    ████    ██    ██████  ██      ██  ██\n",
      "██  ██████████  ██████  ██  ████  ██  ██  ████    ████  ██████  ██████████  ██\n",
      "██              ██  ██  ██  ██  ██  ██  ██  ██  ██  ██  ██  ██              ██\n",
      "████████████████████  ██      ██    ██████  ██  ██    ██    ██████████████████\n",
      "████████    ██    ██      ██████████████████████    ████████████████    ██████\n",
      "██████  ██    ██    ██████████    ████████      ██    ██      ████  ██    ████\n",
      "████  ████████  ██          ██  ██████  ████          ██            ██  ██  ██\n",
      "████  ██      ██  ██  ██  ██  ████    ██  ██  ██  ████  ██        ██    ██  ██\n",
      "██  ██  ██          ████  ██████████        ██████  ████    ██    ████      ██\n",
      "██████  ██  ████    ██        ████  ████    ██  ██  ██        ████  ██  ██████\n",
      "██████            ████    ████    ██  ████    ██  ██  ██  ██    ██          ██\n",
      "██  ██      ██████  ██  ██  ██████      ██  ██  ██  ████  ██  ████        ████\n",
      "██████            ██  ████      ████    ████      ██  ████  ██    ████  ██  ██\n",
      "██        ████████        ██      ████  ██    ██      ██  ██  ██  ██████  ████\n",
      "██  ██  ██  ██        ██  ██      ██            ██  ████  ██████  ████  ██  ██\n",
      "██    ██  ██████  ██  ██  ████    ██      ████  ██    ██████  ██████  ████████\n",
      "████  ██  ██      ██        ████    ████  ████          ██      ██    ████████\n",
      "████  ██████████            ██      ██████████████    ██    ████    ██  ██████\n",
      "██  ██  ██  ██  ██    ██    ██    ██████  ██    ██  ████  ██    ██  ██████  ██\n",
      "██  ██        ████    ██████████    ████      ██    ██        ██  ████  ██  ██\n",
      "██████  ████      ████████  ██  ██████      ██  ████    ██  ██  ████  ██    ██\n",
      "██    ████  ██████        ██████████████        ██  ██  ██  ██  ██    ██  ████\n",
      "██    ██  ████    ██  ██████  ██████        ██  ████        ██              ██\n",
      "██  ██    ████████████  ██  ████  ██████████    ██  ██  ████  ██  ██    ██████\n",
      "██  ████████              ████    ████      ██        ████              ██████\n",
      "██████████████████    ██    ██████  ██  ████  ██  ██  ████  ██████        ████\n",
      "██              ██          ██      ██  ████████    ██████  ██  ██      ██  ██\n",
      "██  ██████████  ████████████        ██  ████  ██        ██  ██████    ██  ████\n",
      "██  ██      ██  ██      ████        ██████  ████    ████            ████  ████\n",
      "██  ██      ██  ██  ██  ██  ████████  ██  ██  ██████        ██  ████  ████████\n",
      "██  ██      ██  ████  ██  ████  ██    ██  ██  ████  ██  ██  ████            ██\n",
      "██  ██████████  ██████          ██████    ██  ████████  ██████  ██  ██      ██\n",
      "██              ████  ██    ██████    ██████  ██████  ████  ██  ████  ████  ██\n",
      "██████████████████████████████████████████████████████████████████████████████\n"
     ]
    },
    {
     "name": "stderr",
     "output_type": "stream",
     "text": [
      "Please scan the QR code to log in.\n",
      "Please press confirm on your phone.\n",
      "Loading the contact, this may take a little while.\n",
      "Login successfully as LUO FAN\n"
     ]
    }
   ],
   "source": [
    "# Model checkpoint\n",
    "checkpoint = ModelCheckpoint(filepath=tmp_dir + 'weights.hdf5',\n",
    "                             verbose=1, save_best_only=True)\n",
    "csv_logger = CSVLogger(tmp_dir + 'training.log')\n",
    "send_message = SendMessage(fexten=tmp_dir)"
   ]
  },
  {
   "cell_type": "code",
   "execution_count": 37,
   "metadata": {
    "collapsed": true
   },
   "outputs": [],
   "source": [
    "#optimizer = SGD(lr=0.001, momentum=0.99)\n",
    "optimizer = Adam(beta_1=0.99)\n",
    "model.compile(optimizer=optimizer, loss='binary_crossentropy', \n",
    "             metrics=[dice_coef])"
   ]
  },
  {
   "cell_type": "code",
   "execution_count": 38,
   "metadata": {
    "scrolled": false
   },
   "outputs": [
    {
     "name": "stderr",
     "output_type": "stream",
     "text": [
      "Start auto replying.\n"
     ]
    },
    {
     "name": "stdout",
     "output_type": "stream",
     "text": [
      "Epoch 1/2\n",
      "2047/2048 [============================>.] - ETA: 0s - loss: 0.0794 - dice_coef: 0.9114Epoch 00000: val_loss improved from inf to 0.03880, saving model to ./tmp/u-net-separable-conv/weights.hdf5\n",
      "2048/2048 [==============================] - 434s - loss: 0.0794 - dice_coef: 0.9114 - val_loss: 0.0388 - val_dice_coef: 0.9622\n",
      "Epoch 2/2\n",
      "2047/2048 [============================>.] - ETA: 0s - loss: 0.0364 - dice_coef: 0.9645Epoch 00001: val_loss improved from 0.03880 to 0.03401, saving model to ./tmp/u-net-separable-conv/weights.hdf5\n",
      "2048/2048 [==============================] - 416s - loss: 0.0364 - dice_coef: 0.9645 - val_loss: 0.0340 - val_dice_coef: 0.9664\n"
     ]
    }
   ],
   "source": [
    "# For keras 2.0.5, the max_queue_size should be max_q_size\n",
    "# no relu in 2x2 conv, no advanced initializer\n",
    "history = model.fit_generator(threadsafe_iter(train_gen), \n",
    "                              steps_per_epoch=4096 / batch_size, \n",
    "                              callbacks=[checkpoint, csv_logger, send_message], \n",
    "                              validation_data=next(val_gen), \n",
    "                              validation_steps=float('inf'), \n",
    "                              max_q_size=6, \n",
    "                              workers=1, \n",
    "                              epochs=2, \n",
    "                              initial_epoch=0)"
   ]
  },
  {
   "cell_type": "code",
   "execution_count": 39,
   "metadata": {},
   "outputs": [
    {
     "name": "stdout",
     "output_type": "stream",
     "text": [
      "Decrease learning rate, now is 0.00010000000474974513\n"
     ]
    }
   ],
   "source": [
    "def decrease_lr(optimizer):\n",
    "    lr = K.get_value(optimizer.lr)\n",
    "    K.set_value(optimizer.lr, lr / 10)\n",
    "    print ('Decrease learning rate, now is {}'.format(lr / 10))\n",
    "decrease_lr(optimizer)"
   ]
  },
  {
   "cell_type": "code",
   "execution_count": 40,
   "metadata": {},
   "outputs": [
    {
     "name": "stderr",
     "output_type": "stream",
     "text": [
      "Start auto replying.\n"
     ]
    },
    {
     "name": "stdout",
     "output_type": "stream",
     "text": [
      "Epoch 3/4\n",
      "2047/2048 [============================>.] - ETA: 0s - loss: 0.0264 - dice_coef: 0.9742Epoch 00002: val_loss improved from 0.03401 to 0.02672, saving model to ./tmp/u-net-separable-conv/weights.hdf5\n",
      "2048/2048 [==============================] - 415s - loss: 0.0264 - dice_coef: 0.9742 - val_loss: 0.0267 - val_dice_coef: 0.9740\n",
      "Epoch 4/4\n",
      "2047/2048 [============================>.] - ETA: 0s - loss: 0.0241 - dice_coef: 0.9763Epoch 00003: val_loss improved from 0.02672 to 0.02549, saving model to ./tmp/u-net-separable-conv/weights.hdf5\n",
      "2048/2048 [==============================] - 412s - loss: 0.0241 - dice_coef: 0.9763 - val_loss: 0.0255 - val_dice_coef: 0.9755\n"
     ]
    }
   ],
   "source": [
    "# For keras 2.0.5, the max_queue_size should be max_q_size\n",
    "\n",
    "history = model.fit_generator(threadsafe_iter(train_gen), \n",
    "                              steps_per_epoch=4096 / batch_size, \n",
    "                              callbacks=[checkpoint, csv_logger, send_message], \n",
    "                              validation_data=next(val_gen), \n",
    "                              validation_steps=float('inf'), \n",
    "                              max_q_size=6, \n",
    "                              workers=1, \n",
    "                              epochs=4, \n",
    "                              initial_epoch=2)"
   ]
  },
  {
   "cell_type": "code",
   "execution_count": 41,
   "metadata": {},
   "outputs": [
    {
     "name": "stdout",
     "output_type": "stream",
     "text": [
      "Decrease learning rate, now is 1.0000000474974514e-05\n",
      "Decrease learning rate, now is 1.0000000656873453e-06\n"
     ]
    }
   ],
   "source": [
    "decrease_lr(optimizer)\n",
    "decrease_lr(optimizer)"
   ]
  },
  {
   "cell_type": "code",
   "execution_count": 42,
   "metadata": {
    "scrolled": true
   },
   "outputs": [
    {
     "name": "stderr",
     "output_type": "stream",
     "text": [
      "Start auto replying.\n"
     ]
    },
    {
     "name": "stdout",
     "output_type": "stream",
     "text": [
      "Epoch 5/5\n",
      "2047/2048 [============================>.] - ETA: 0s - loss: 0.0231 - dice_coef: 0.9774Epoch 00004: val_loss improved from 0.02549 to 0.02491, saving model to ./tmp/u-net-separable-conv/weights.hdf5\n",
      "2048/2048 [==============================] - 414s - loss: 0.0231 - dice_coef: 0.9774 - val_loss: 0.0249 - val_dice_coef: 0.9759\n"
     ]
    }
   ],
   "source": [
    "# For keras 2.0.5, the max_queue_size should be max_q_size\n",
    "history = model.fit_generator(threadsafe_iter(train_gen), \n",
    "                              steps_per_epoch=4096 / batch_size, \n",
    "                              callbacks=[checkpoint, csv_logger, send_message], \n",
    "                              validation_data=next(val_gen), \n",
    "                              validation_steps=float('inf'), \n",
    "                              max_q_size=6, \n",
    "                              workers=1, \n",
    "                              epochs=5, \n",
    "                              initial_epoch=4)"
   ]
  },
  {
   "cell_type": "code",
   "execution_count": 35,
   "metadata": {
    "scrolled": true
   },
   "outputs": [
    {
     "name": "stdout",
     "output_type": "stream",
     "text": [
      "Decrease learning rate, now is 1.0000000474974514e-05\n"
     ]
    }
   ],
   "source": [
    "decrease_lr(optimizer)"
   ]
  },
  {
   "cell_type": "code",
   "execution_count": 36,
   "metadata": {},
   "outputs": [
    {
     "name": "stderr",
     "output_type": "stream",
     "text": [
      "Traceback (most recent call last):\n",
      "  File \"/home/luo/anaconda2/envs/tf11/lib/python3.6/site-packages/urllib3/connectionpool.py\", line 601, in urlopen\n",
      "    chunked=chunked)\n",
      "  File \"/home/luo/anaconda2/envs/tf11/lib/python3.6/site-packages/urllib3/connectionpool.py\", line 387, in _make_request\n",
      "    six.raise_from(e, None)\n",
      "  File \"<string>\", line 2, in raise_from\n",
      "  File \"/home/luo/anaconda2/envs/tf11/lib/python3.6/site-packages/urllib3/connectionpool.py\", line 383, in _make_request\n",
      "    httplib_response = conn.getresponse()\n",
      "  File \"/home/luo/anaconda2/envs/tf11/lib/python3.6/http/client.py\", line 1331, in getresponse\n",
      "    response.begin()\n",
      "Start auto replying.  File \"/home/luo/anaconda2/envs/tf11/lib/python3.6/http/client.py\", line 297, in begin\n",
      "    version, status, reason = self._read_status()\n",
      "\n",
      "  File \"/home/luo/anaconda2/envs/tf11/lib/python3.6/http/client.py\", line 258, in _read_status\n",
      "    line = str(self.fp.readline(_MAXLINE + 1), \"iso-8859-1\")\n",
      "  File \"/home/luo/anaconda2/envs/tf11/lib/python3.6/socket.py\", line 586, in readinto\n",
      "    return self._sock.recv_into(b)\n",
      "  File \"/home/luo/anaconda2/envs/tf11/lib/python3.6/ssl.py\", line 1002, in recv_into\n",
      "    return self.read(nbytes, buffer)\n",
      "  File \"/home/luo/anaconda2/envs/tf11/lib/python3.6/ssl.py\", line 865, in read\n",
      "    return self._sslobj.read(len, buffer)\n",
      "  File \"/home/luo/anaconda2/envs/tf11/lib/python3.6/ssl.py\", line 625, in read\n",
      "    v = self._sslobj.read(len, buffer)\n",
      "OSError: [Errno 22] Invalid argument\n",
      "\n",
      "During handling of the above exception, another exception occurred:\n",
      "\n",
      "Traceback (most recent call last):\n",
      "  File \"/home/luo/anaconda2/envs/tf11/lib/python3.6/site-packages/requests/adapters.py\", line 440, in send\n",
      "    timeout=timeout\n",
      "  File \"/home/luo/anaconda2/envs/tf11/lib/python3.6/site-packages/urllib3/connectionpool.py\", line 639, in urlopen\n",
      "    _stacktrace=sys.exc_info()[2])\n",
      "  File \"/home/luo/anaconda2/envs/tf11/lib/python3.6/site-packages/urllib3/util/retry.py\", line 357, in increment\n",
      "    raise six.reraise(type(error), error, _stacktrace)\n",
      "  File \"/home/luo/anaconda2/envs/tf11/lib/python3.6/site-packages/urllib3/packages/six.py\", line 685, in reraise\n",
      "    raise value.with_traceback(tb)\n",
      "  File \"/home/luo/anaconda2/envs/tf11/lib/python3.6/site-packages/urllib3/connectionpool.py\", line 601, in urlopen\n",
      "    chunked=chunked)\n",
      "  File \"/home/luo/anaconda2/envs/tf11/lib/python3.6/site-packages/urllib3/connectionpool.py\", line 387, in _make_request\n",
      "    six.raise_from(e, None)\n",
      "  File \"<string>\", line 2, in raise_from\n",
      "  File \"/home/luo/anaconda2/envs/tf11/lib/python3.6/site-packages/urllib3/connectionpool.py\", line 383, in _make_request\n",
      "    httplib_response = conn.getresponse()\n",
      "  File \"/home/luo/anaconda2/envs/tf11/lib/python3.6/http/client.py\", line 1331, in getresponse\n",
      "    response.begin()\n",
      "  File \"/home/luo/anaconda2/envs/tf11/lib/python3.6/http/client.py\", line 297, in begin\n",
      "    version, status, reason = self._read_status()\n",
      "  File \"/home/luo/anaconda2/envs/tf11/lib/python3.6/http/client.py\", line 258, in _read_status\n",
      "    line = str(self.fp.readline(_MAXLINE + 1), \"iso-8859-1\")\n",
      "  File \"/home/luo/anaconda2/envs/tf11/lib/python3.6/socket.py\", line 586, in readinto\n",
      "    return self._sock.recv_into(b)\n",
      "  File \"/home/luo/anaconda2/envs/tf11/lib/python3.6/ssl.py\", line 1002, in recv_into\n",
      "    return self.read(nbytes, buffer)\n",
      "  File \"/home/luo/anaconda2/envs/tf11/lib/python3.6/ssl.py\", line 865, in read\n",
      "    return self._sslobj.read(len, buffer)\n",
      "  File \"/home/luo/anaconda2/envs/tf11/lib/python3.6/ssl.py\", line 625, in read\n",
      "    v = self._sslobj.read(len, buffer)\n",
      "urllib3.exceptions.ProtocolError: ('Connection aborted.', OSError(22, 'Invalid argument'))\n",
      "\n",
      "During handling of the above exception, another exception occurred:\n",
      "\n",
      "Traceback (most recent call last):\n",
      "  File \"/home/luo/dlnd/car-segmentation/car-segmentation/wechat_utils.py\", line 84, in t_send\n",
      "    itchat.send_msg(msg=msg,toUserName=toUserName)\n",
      "  File \"/home/luo/anaconda2/envs/tf11/lib/python3.6/site-packages/itchat/components/messages.py\", line 279, in send_msg\n",
      "    r = self.send_raw_msg(1, msg, toUserName)\n",
      "  File \"/home/luo/anaconda2/envs/tf11/lib/python3.6/site-packages/itchat/components/messages.py\", line 274, in send_raw_msg\n",
      "    data=json.dumps(data, ensure_ascii=False).encode('utf8'))\n",
      "  File \"/home/luo/anaconda2/envs/tf11/lib/python3.6/site-packages/requests/sessions.py\", line 555, in post\n",
      "    return self.request('POST', url, data=data, json=json, **kwargs)\n",
      "  File \"/home/luo/anaconda2/envs/tf11/lib/python3.6/site-packages/requests/sessions.py\", line 508, in request\n",
      "    resp = self.send(prep, **send_kwargs)\n",
      "  File \"/home/luo/anaconda2/envs/tf11/lib/python3.6/site-packages/requests/sessions.py\", line 618, in send\n",
      "    r = adapter.send(request, **kwargs)\n",
      "  File \"/home/luo/anaconda2/envs/tf11/lib/python3.6/site-packages/requests/adapters.py\", line 490, in send\n",
      "    raise ConnectionError(err, request=request)\n",
      "requests.exceptions.ConnectionError: ('Connection aborted.', OSError(22, 'Invalid argument'))\n"
     ]
    },
    {
     "name": "stdout",
     "output_type": "stream",
     "text": [
      "\n",
      "Conection error,failed to send the message!\n",
      "\n",
      "Epoch 5/5\n",
      "2047/2048 [============================>.] - ETA: 0s - loss: 0.0503 - dice_coef: 0.9775Epoch 00004: val_loss improved from 0.04838 to 0.04549, saving model to ./tmp/u-net-32-no-filter-growth/weights.hdf5\n"
     ]
    },
    {
     "name": "stderr",
     "output_type": "stream",
     "text": [
      "Traceback (most recent call last):\n",
      "  File \"/home/luo/dlnd/car-segmentation/car-segmentation/wechat_utils.py\", line 94, in t_send_img\n",
      "    itchat.send_image(filename,toUserName=toUserName)\n",
      "  File \"/home/luo/anaconda2/envs/tf11/lib/python3.6/site-packages/itchat/components/messages.py\", line 419, in send_image\n",
      "    r = self.upload_file(fileDir, isPicture=not fileDir[-4:] == '.gif', file_=file_)\n",
      "  File \"/home/luo/anaconda2/envs/tf11/lib/python3.6/site-packages/itchat/components/messages.py\", line 331, in upload_file\n",
      "    file_, chunk, chunks, uploadMediaRequest)\n",
      "  File \"/home/luo/anaconda2/envs/tf11/lib/python3.6/site-packages/itchat/components/messages.py\", line 354, in upload_chunk_file\n",
      "    ('webwx_data_ticket', (None, cookiesList['webwx_data_ticket'])),\n",
      "KeyError: 'webwx_data_ticket'\n"
     ]
    },
    {
     "name": "stdout",
     "output_type": "stream",
     "text": [
      "\n",
      "Conection error,failed to send the figure!\n",
      "\n"
     ]
    },
    {
     "name": "stderr",
     "output_type": "stream",
     "text": [
      "Traceback (most recent call last):\n",
      "  File \"/home/luo/anaconda2/envs/tf11/lib/python3.6/site-packages/urllib3/connection.py\", line 141, in _new_conn\n",
      "    (self.host, self.port), self.timeout, **extra_kw)\n",
      "  File \"/home/luo/anaconda2/envs/tf11/lib/python3.6/site-packages/urllib3/util/connection.py\", line 60, in create_connection\n",
      "    for res in socket.getaddrinfo(host, port, family, socket.SOCK_STREAM):\n",
      "  File \"/home/luo/anaconda2/envs/tf11/lib/python3.6/socket.py\", line 743, in getaddrinfo\n",
      "    for res in _socket.getaddrinfo(host, port, family, type, proto, flags):\n",
      "socket.gaierror: [Errno -3] Temporary failure in name resolution\n",
      "\n",
      "During handling of the above exception, another exception occurred:\n",
      "\n",
      "Traceback (most recent call last):\n",
      "  File \"/home/luo/anaconda2/envs/tf11/lib/python3.6/site-packages/urllib3/connectionpool.py\", line 601, in urlopen\n",
      "    chunked=chunked)\n",
      "  File \"/home/luo/anaconda2/envs/tf11/lib/python3.6/site-packages/urllib3/connectionpool.py\", line 346, in _make_request\n",
      "    self._validate_conn(conn)\n",
      "  File \"/home/luo/anaconda2/envs/tf11/lib/python3.6/site-packages/urllib3/connectionpool.py\", line 850, in _validate_conn\n",
      "    conn.connect()\n",
      "  File \"/home/luo/anaconda2/envs/tf11/lib/python3.6/site-packages/urllib3/connection.py\", line 284, in connect\n",
      "    conn = self._new_conn()\n",
      "  File \"/home/luo/anaconda2/envs/tf11/lib/python3.6/site-packages/urllib3/connection.py\", line 150, in _new_conn\n",
      "    self, \"Failed to establish a new connection: %s\" % e)\n",
      "urllib3.exceptions.NewConnectionError: <urllib3.connection.VerifiedHTTPSConnection object at 0x7ff6d7462710>: Failed to establish a new connection: [Errno -3] Temporary failure in name resolution\n",
      "\n",
      "During handling of the above exception, another exception occurred:\n",
      "\n",
      "Traceback (most recent call last):\n",
      "  File \"/home/luo/anaconda2/envs/tf11/lib/python3.6/site-packages/requests/adapters.py\", line 440, in send\n",
      "    timeout=timeout\n",
      "  File \"/home/luo/anaconda2/envs/tf11/lib/python3.6/site-packages/urllib3/connectionpool.py\", line 639, in urlopen\n",
      "    _stacktrace=sys.exc_info()[2])\n",
      "  File \"/home/luo/anaconda2/envs/tf11/lib/python3.6/site-packages/urllib3/util/retry.py\", line 388, in increment\n",
      "    raise MaxRetryError(_pool, url, error or ResponseError(cause))\n",
      "urllib3.exceptions.MaxRetryError: HTTPSConnectionPool(host='wx.qq.com', port=443): Max retries exceeded with url: /cgi-bin/mmwebwx-bin/webwxsendmsg (Caused by NewConnectionError('<urllib3.connection.VerifiedHTTPSConnection object at 0x7ff6d7462710>: Failed to establish a new connection: [Errno -3] Temporary failure in name resolution',))\n",
      "\n",
      "During handling of the above exception, another exception occurred:\n",
      "\n",
      "Traceback (most recent call last):\n",
      "  File \"/home/luo/dlnd/car-segmentation/car-segmentation/wechat_utils.py\", line 84, in t_send\n",
      "    itchat.send_msg(msg=msg,toUserName=toUserName)\n",
      "  File \"/home/luo/anaconda2/envs/tf11/lib/python3.6/site-packages/itchat/components/messages.py\", line 279, in send_msg\n",
      "    r = self.send_raw_msg(1, msg, toUserName)\n",
      "  File \"/home/luo/anaconda2/envs/tf11/lib/python3.6/site-packages/itchat/components/messages.py\", line 274, in send_raw_msg\n",
      "    data=json.dumps(data, ensure_ascii=False).encode('utf8'))\n",
      "  File \"/home/luo/anaconda2/envs/tf11/lib/python3.6/site-packages/requests/sessions.py\", line 555, in post\n",
      "    return self.request('POST', url, data=data, json=json, **kwargs)\n",
      "  File \"/home/luo/anaconda2/envs/tf11/lib/python3.6/site-packages/requests/sessions.py\", line 508, in request\n",
      "    resp = self.send(prep, **send_kwargs)\n",
      "  File \"/home/luo/anaconda2/envs/tf11/lib/python3.6/site-packages/requests/sessions.py\", line 618, in send\n",
      "    r = adapter.send(request, **kwargs)\n",
      "  File \"/home/luo/anaconda2/envs/tf11/lib/python3.6/site-packages/requests/adapters.py\", line 508, in send\n",
      "    raise ConnectionError(e, request=request)\n",
      "requests.exceptions.ConnectionError: HTTPSConnectionPool(host='wx.qq.com', port=443): Max retries exceeded with url: /cgi-bin/mmwebwx-bin/webwxsendmsg (Caused by NewConnectionError('<urllib3.connection.VerifiedHTTPSConnection object at 0x7ff6d7462710>: Failed to establish a new connection: [Errno -3] Temporary failure in name resolution',))\n"
     ]
    },
    {
     "name": "stdout",
     "output_type": "stream",
     "text": [
      "\n",
      "Conection error,failed to send the message!\n",
      "\n"
     ]
    },
    {
     "name": "stderr",
     "output_type": "stream",
     "text": [
      "Traceback (most recent call last):\n",
      "  File \"/home/luo/dlnd/car-segmentation/car-segmentation/wechat_utils.py\", line 94, in t_send_img\n",
      "    itchat.send_image(filename,toUserName=toUserName)\n",
      "  File \"/home/luo/anaconda2/envs/tf11/lib/python3.6/site-packages/itchat/components/messages.py\", line 419, in send_image\n",
      "    r = self.upload_file(fileDir, isPicture=not fileDir[-4:] == '.gif', file_=file_)\n",
      "  File \"/home/luo/anaconda2/envs/tf11/lib/python3.6/site-packages/itchat/components/messages.py\", line 331, in upload_file\n",
      "    file_, chunk, chunks, uploadMediaRequest)\n",
      "  File \"/home/luo/anaconda2/envs/tf11/lib/python3.6/site-packages/itchat/components/messages.py\", line 354, in upload_chunk_file\n",
      "    ('webwx_data_ticket', (None, cookiesList['webwx_data_ticket'])),\n",
      "KeyError: 'webwx_data_ticket'\n"
     ]
    },
    {
     "name": "stdout",
     "output_type": "stream",
     "text": [
      "\n",
      "Conection error,failed to send the figure!\n",
      "\n"
     ]
    },
    {
     "name": "stderr",
     "output_type": "stream",
     "text": [
      "Traceback (most recent call last):\n",
      "  File \"/home/luo/anaconda2/envs/tf11/lib/python3.6/site-packages/urllib3/connection.py\", line 141, in _new_conn\n",
      "    (self.host, self.port), self.timeout, **extra_kw)\n",
      "  File \"/home/luo/anaconda2/envs/tf11/lib/python3.6/site-packages/urllib3/util/connection.py\", line 60, in create_connection\n",
      "    for res in socket.getaddrinfo(host, port, family, socket.SOCK_STREAM):\n",
      "  File \"/home/luo/anaconda2/envs/tf11/lib/python3.6/socket.py\", line 743, in getaddrinfo\n",
      "    for res in _socket.getaddrinfo(host, port, family, type, proto, flags):\n",
      "socket.gaierror: [Errno -3] Temporary failure in name resolution\n",
      "\n",
      "During handling of the above exception, another exception occurred:\n",
      "\n",
      "Traceback (most recent call last):\n",
      "  File \"/home/luo/anaconda2/envs/tf11/lib/python3.6/site-packages/urllib3/connectionpool.py\", line 601, in urlopen\n",
      "    chunked=chunked)\n",
      "  File \"/home/luo/anaconda2/envs/tf11/lib/python3.6/site-packages/urllib3/connectionpool.py\", line 346, in _make_request\n",
      "    self._validate_conn(conn)\n",
      "  File \"/home/luo/anaconda2/envs/tf11/lib/python3.6/site-packages/urllib3/connectionpool.py\", line 850, in _validate_conn\n",
      "    conn.connect()\n",
      "  File \"/home/luo/anaconda2/envs/tf11/lib/python3.6/site-packages/urllib3/connection.py\", line 284, in connect\n",
      "    conn = self._new_conn()\n",
      "  File \"/home/luo/anaconda2/envs/tf11/lib/python3.6/site-packages/urllib3/connection.py\", line 150, in _new_conn\n",
      "    self, \"Failed to establish a new connection: %s\" % e)\n",
      "urllib3.exceptions.NewConnectionError: <urllib3.connection.VerifiedHTTPSConnection object at 0x7ff6c0628b00>: Failed to establish a new connection: [Errno -3] Temporary failure in name resolution\n",
      "\n",
      "During handling of the above exception, another exception occurred:\n",
      "\n",
      "Traceback (most recent call last):\n",
      "  File \"/home/luo/anaconda2/envs/tf11/lib/python3.6/site-packages/requests/adapters.py\", line 440, in send\n",
      "    timeout=timeout\n",
      "  File \"/home/luo/anaconda2/envs/tf11/lib/python3.6/site-packages/urllib3/connectionpool.py\", line 639, in urlopen\n",
      "    _stacktrace=sys.exc_info()[2])\n",
      "  File \"/home/luo/anaconda2/envs/tf11/lib/python3.6/site-packages/urllib3/util/retry.py\", line 388, in increment\n",
      "    raise MaxRetryError(_pool, url, error or ResponseError(cause))\n",
      "urllib3.exceptions.MaxRetryError: HTTPSConnectionPool(host='wx.qq.com', port=443): Max retries exceeded with url: /cgi-bin/mmwebwx-bin/webwxsendmsg (Caused by NewConnectionError('<urllib3.connection.VerifiedHTTPSConnection object at 0x7ff6c0628b00>: Failed to establish a new connection: [Errno -3] Temporary failure in name resolution',))\n",
      "\n",
      "During handling of the above exception, another exception occurred:\n",
      "\n",
      "Traceback (most recent call last):\n",
      "  File \"/home/luo/dlnd/car-segmentation/car-segmentation/wechat_utils.py\", line 84, in t_send\n",
      "    itchat.send_msg(msg=msg,toUserName=toUserName)\n",
      "  File \"/home/luo/anaconda2/envs/tf11/lib/python3.6/site-packages/itchat/components/messages.py\", line 279, in send_msg\n",
      "    r = self.send_raw_msg(1, msg, toUserName)\n",
      "  File \"/home/luo/anaconda2/envs/tf11/lib/python3.6/site-packages/itchat/components/messages.py\", line 274, in send_raw_msg\n",
      "    data=json.dumps(data, ensure_ascii=False).encode('utf8'))\n",
      "  File \"/home/luo/anaconda2/envs/tf11/lib/python3.6/site-packages/requests/sessions.py\", line 555, in post\n",
      "    return self.request('POST', url, data=data, json=json, **kwargs)\n",
      "  File \"/home/luo/anaconda2/envs/tf11/lib/python3.6/site-packages/requests/sessions.py\", line 508, in request\n",
      "    resp = self.send(prep, **send_kwargs)\n",
      "  File \"/home/luo/anaconda2/envs/tf11/lib/python3.6/site-packages/requests/sessions.py\", line 618, in send\n",
      "    r = adapter.send(request, **kwargs)\n",
      "  File \"/home/luo/anaconda2/envs/tf11/lib/python3.6/site-packages/requests/adapters.py\", line 508, in send\n",
      "    raise ConnectionError(e, request=request)\n",
      "requests.exceptions.ConnectionError: HTTPSConnectionPool(host='wx.qq.com', port=443): Max retries exceeded with url: /cgi-bin/mmwebwx-bin/webwxsendmsg (Caused by NewConnectionError('<urllib3.connection.VerifiedHTTPSConnection object at 0x7ff6c0628b00>: Failed to establish a new connection: [Errno -3] Temporary failure in name resolution',))\n"
     ]
    },
    {
     "name": "stdout",
     "output_type": "stream",
     "text": [
      "\n",
      "Conection error,failed to send the message!\n",
      "\n",
      "\n",
      "Conection error,failed to send the message!\n",
      "\n",
      "2048/2048 [==============================] - 425s - loss: 0.0503 - dice_coef: 0.9775 - val_loss: 0.0455 - val_dice_coef: 0.9753"
     ]
    },
    {
     "name": "stderr",
     "output_type": "stream",
     "text": [
      "Traceback (most recent call last):\n",
      "  File \"/home/luo/anaconda2/envs/tf11/lib/python3.6/site-packages/urllib3/connection.py\", line 141, in _new_conn\n",
      "    (self.host, self.port), self.timeout, **extra_kw)\n",
      "  File \"/home/luo/anaconda2/envs/tf11/lib/python3.6/site-packages/urllib3/util/connection.py\", line 60, in create_connection\n",
      "    for res in socket.getaddrinfo(host, port, family, socket.SOCK_STREAM):\n",
      "  File \"/home/luo/anaconda2/envs/tf11/lib/python3.6/socket.py\", line 743, in getaddrinfo\n",
      "    for res in _socket.getaddrinfo(host, port, family, type, proto, flags):\n",
      "socket.gaierror: [Errno -3] Temporary failure in name resolution\n",
      "\n",
      "During handling of the above exception, another exception occurred:\n",
      "\n",
      "Traceback (most recent call last):\n",
      "  File \"/home/luo/anaconda2/envs/tf11/lib/python3.6/site-packages/urllib3/connectionpool.py\", line 601, in urlopen\n",
      "    chunked=chunked)\n",
      "  File \"/home/luo/anaconda2/envs/tf11/lib/python3.6/site-packages/urllib3/connectionpool.py\", line 346, in _make_request\n",
      "    self._validate_conn(conn)\n",
      "  File \"/home/luo/anaconda2/envs/tf11/lib/python3.6/site-packages/urllib3/connectionpool.py\", line 850, in _validate_conn\n",
      "    conn.connect()\n",
      "  File \"/home/luo/anaconda2/envs/tf11/lib/python3.6/site-packages/urllib3/connection.py\", line 284, in connect\n",
      "    conn = self._new_conn()\n",
      "  File \"/home/luo/anaconda2/envs/tf11/lib/python3.6/site-packages/urllib3/connection.py\", line 150, in _new_conn\n",
      "    self, \"Failed to establish a new connection: %s\" % e)\n",
      "urllib3.exceptions.NewConnectionError: <urllib3.connection.VerifiedHTTPSConnection object at 0x7ff6d6866240>: Failed to establish a new connection: [Errno -3] Temporary failure in name resolution\n",
      "\n",
      "During handling of the above exception, another exception occurred:\n",
      "\n",
      "Traceback (most recent call last):\n",
      "  File \"/home/luo/anaconda2/envs/tf11/lib/python3.6/site-packages/requests/adapters.py\", line 440, in send\n",
      "    timeout=timeout\n",
      "  File \"/home/luo/anaconda2/envs/tf11/lib/python3.6/site-packages/urllib3/connectionpool.py\", line 639, in urlopen\n",
      "    _stacktrace=sys.exc_info()[2])\n",
      "  File \"/home/luo/anaconda2/envs/tf11/lib/python3.6/site-packages/urllib3/util/retry.py\", line 388, in increment\n",
      "    raise MaxRetryError(_pool, url, error or ResponseError(cause))\n",
      "urllib3.exceptions.MaxRetryError: HTTPSConnectionPool(host='wx.qq.com', port=443): Max retries exceeded with url: /cgi-bin/mmwebwx-bin/webwxsendmsg (Caused by NewConnectionError('<urllib3.connection.VerifiedHTTPSConnection object at 0x7ff6d6866240>: Failed to establish a new connection: [Errno -3] Temporary failure in name resolution',))\n",
      "\n",
      "During handling of the above exception, another exception occurred:\n",
      "\n",
      "Traceback (most recent call last):\n",
      "  File \"/home/luo/dlnd/car-segmentation/car-segmentation/wechat_utils.py\", line 84, in t_send\n",
      "    itchat.send_msg(msg=msg,toUserName=toUserName)\n",
      "  File \"/home/luo/anaconda2/envs/tf11/lib/python3.6/site-packages/itchat/components/messages.py\", line 279, in send_msg\n",
      "    r = self.send_raw_msg(1, msg, toUserName)\n",
      "  File \"/home/luo/anaconda2/envs/tf11/lib/python3.6/site-packages/itchat/components/messages.py\", line 274, in send_raw_msg\n",
      "    data=json.dumps(data, ensure_ascii=False).encode('utf8'))\n",
      "  File \"/home/luo/anaconda2/envs/tf11/lib/python3.6/site-packages/requests/sessions.py\", line 555, in post\n",
      "    return self.request('POST', url, data=data, json=json, **kwargs)\n",
      "  File \"/home/luo/anaconda2/envs/tf11/lib/python3.6/site-packages/requests/sessions.py\", line 508, in request\n",
      "    resp = self.send(prep, **send_kwargs)\n",
      "  File \"/home/luo/anaconda2/envs/tf11/lib/python3.6/site-packages/requests/sessions.py\", line 618, in send\n",
      "    r = adapter.send(request, **kwargs)\n",
      "  File \"/home/luo/anaconda2/envs/tf11/lib/python3.6/site-packages/requests/adapters.py\", line 508, in send\n",
      "    raise ConnectionError(e, request=request)\n",
      "requests.exceptions.ConnectionError: HTTPSConnectionPool(host='wx.qq.com', port=443): Max retries exceeded with url: /cgi-bin/mmwebwx-bin/webwxsendmsg (Caused by NewConnectionError('<urllib3.connection.VerifiedHTTPSConnection object at 0x7ff6d6866240>: Failed to establish a new connection: [Errno -3] Temporary failure in name resolution',))\n"
     ]
    },
    {
     "name": "stdout",
     "output_type": "stream",
     "text": [
      "\n",
      "\n",
      "Conection error,failed to send the message!\n",
      "\n"
     ]
    },
    {
     "name": "stderr",
     "output_type": "stream",
     "text": [
      "Traceback (most recent call last):\n",
      "  File \"/home/luo/anaconda2/envs/tf11/lib/python3.6/site-packages/urllib3/connection.py\", line 141, in _new_conn\n",
      "    (self.host, self.port), self.timeout, **extra_kw)\n",
      "  File \"/home/luo/anaconda2/envs/tf11/lib/python3.6/site-packages/urllib3/util/connection.py\", line 60, in create_connection\n",
      "    for res in socket.getaddrinfo(host, port, family, socket.SOCK_STREAM):\n",
      "  File \"/home/luo/anaconda2/envs/tf11/lib/python3.6/socket.py\", line 743, in getaddrinfo\n",
      "    for res in _socket.getaddrinfo(host, port, family, type, proto, flags):\n",
      "socket.gaierror: [Errno -3] Temporary failure in name resolution\n",
      "\n",
      "During handling of the above exception, another exception occurred:\n",
      "\n",
      "Traceback (most recent call last):\n",
      "  File \"/home/luo/anaconda2/envs/tf11/lib/python3.6/site-packages/urllib3/connectionpool.py\", line 601, in urlopen\n",
      "    chunked=chunked)\n",
      "  File \"/home/luo/anaconda2/envs/tf11/lib/python3.6/site-packages/urllib3/connectionpool.py\", line 346, in _make_request\n",
      "    self._validate_conn(conn)\n",
      "  File \"/home/luo/anaconda2/envs/tf11/lib/python3.6/site-packages/urllib3/connectionpool.py\", line 850, in _validate_conn\n",
      "    conn.connect()\n",
      "  File \"/home/luo/anaconda2/envs/tf11/lib/python3.6/site-packages/urllib3/connection.py\", line 284, in connect\n",
      "    conn = self._new_conn()\n",
      "  File \"/home/luo/anaconda2/envs/tf11/lib/python3.6/site-packages/urllib3/connection.py\", line 150, in _new_conn\n",
      "    self, \"Failed to establish a new connection: %s\" % e)\n",
      "urllib3.exceptions.NewConnectionError: <urllib3.connection.VerifiedHTTPSConnection object at 0x7ff6a1f72908>: Failed to establish a new connection: [Errno -3] Temporary failure in name resolution\n",
      "\n",
      "During handling of the above exception, another exception occurred:\n",
      "\n",
      "Traceback (most recent call last):\n",
      "  File \"/home/luo/anaconda2/envs/tf11/lib/python3.6/site-packages/requests/adapters.py\", line 440, in send\n",
      "    timeout=timeout\n",
      "  File \"/home/luo/anaconda2/envs/tf11/lib/python3.6/site-packages/urllib3/connectionpool.py\", line 639, in urlopen\n",
      "    _stacktrace=sys.exc_info()[2])\n",
      "  File \"/home/luo/anaconda2/envs/tf11/lib/python3.6/site-packages/urllib3/util/retry.py\", line 388, in increment\n",
      "    raise MaxRetryError(_pool, url, error or ResponseError(cause))\n",
      "urllib3.exceptions.MaxRetryError: HTTPSConnectionPool(host='wx.qq.com', port=443): Max retries exceeded with url: /cgi-bin/mmwebwx-bin/webwxsendmsg (Caused by NewConnectionError('<urllib3.connection.VerifiedHTTPSConnection object at 0x7ff6a1f72908>: Failed to establish a new connection: [Errno -3] Temporary failure in name resolution',))\n",
      "\n",
      "During handling of the above exception, another exception occurred:\n",
      "\n",
      "Traceback (most recent call last):\n",
      "  File \"/home/luo/dlnd/car-segmentation/car-segmentation/wechat_utils.py\", line 84, in t_send\n",
      "    itchat.send_msg(msg=msg,toUserName=toUserName)\n",
      "  File \"/home/luo/anaconda2/envs/tf11/lib/python3.6/site-packages/itchat/components/messages.py\", line 279, in send_msg\n",
      "    r = self.send_raw_msg(1, msg, toUserName)\n",
      "  File \"/home/luo/anaconda2/envs/tf11/lib/python3.6/site-packages/itchat/components/messages.py\", line 274, in send_raw_msg\n",
      "    data=json.dumps(data, ensure_ascii=False).encode('utf8'))\n",
      "  File \"/home/luo/anaconda2/envs/tf11/lib/python3.6/site-packages/requests/sessions.py\", line 555, in post\n",
      "    return self.request('POST', url, data=data, json=json, **kwargs)\n",
      "  File \"/home/luo/anaconda2/envs/tf11/lib/python3.6/site-packages/requests/sessions.py\", line 508, in request\n",
      "    resp = self.send(prep, **send_kwargs)\n",
      "  File \"/home/luo/anaconda2/envs/tf11/lib/python3.6/site-packages/requests/sessions.py\", line 618, in send\n",
      "    r = adapter.send(request, **kwargs)\n",
      "  File \"/home/luo/anaconda2/envs/tf11/lib/python3.6/site-packages/requests/adapters.py\", line 508, in send\n",
      "    raise ConnectionError(e, request=request)\n",
      "requests.exceptions.ConnectionError: HTTPSConnectionPool(host='wx.qq.com', port=443): Max retries exceeded with url: /cgi-bin/mmwebwx-bin/webwxsendmsg (Caused by NewConnectionError('<urllib3.connection.VerifiedHTTPSConnection object at 0x7ff6a1f72908>: Failed to establish a new connection: [Errno -3] Temporary failure in name resolution',))\n"
     ]
    }
   ],
   "source": [
    "# For keras 2.0.5, the max_queue_size should be max_q_size\n",
    "history = model.fit_generator(threadsafe_iter(train_gen), \n",
    "                              steps_per_epoch=4096 / batch_size, \n",
    "                              callbacks=[checkpoint, csv_logger, send_message], \n",
    "                              validation_data=next(val_gen), \n",
    "                              validation_steps=float('inf'), \n",
    "                              max_q_size=6, \n",
    "                              workers=2, \n",
    "                              epochs=5, \n",
    "                              initial_epoch=4)"
   ]
  },
  {
   "cell_type": "code",
   "execution_count": 100,
   "metadata": {},
   "outputs": [
    {
     "name": "stdout",
     "output_type": "stream",
     "text": [
      "Decrease learning rate, now is 9.99999901978299e-06\n"
     ]
    }
   ],
   "source": [
    "decrease_lr(optimizer)"
   ]
  },
  {
   "cell_type": "code",
   "execution_count": 101,
   "metadata": {},
   "outputs": [
    {
     "name": "stderr",
     "output_type": "stream",
     "text": [
      "Start auto replying.\n"
     ]
    },
    {
     "name": "stdout",
     "output_type": "stream",
     "text": [
      "Epoch 6/6\n",
      "2047/2048 [============================>.] - ETA: 0s - loss: 0.0526 - dice_coef: 0.9729Epoch 00005: val_loss did not improve\n",
      "2048/2048 [==============================] - 441s - loss: 0.0526 - dice_coef: 0.9729 - val_loss: 0.0537 - val_dice_coef: 0.9689\n"
     ]
    },
    {
     "data": {
      "image/png": "[encoded data removed]",
      "text/plain": [
       "<matplotlib.figure.Figure at 0x7fc8b01ca748>"
      ]
     },
     "metadata": {},
     "output_type": "display_data"
    }
   ],
   "source": [
    "# For keras 2.0.5, the max_queue_size should be max_q_size\n",
    "history = model.fit_generator(threadsafe_iter(train_gen), \n",
    "                              steps_per_epoch=4096 / batch_size, \n",
    "                              callbacks=[checkpoint, csv_logger, send_message], \n",
    "                              validation_data=next(val_gen), \n",
    "                              validation_steps=float('inf'), \n",
    "                              max_q_size=6, \n",
    "                              workers=2, \n",
    "                              epochs=6, \n",
    "                              initial_epoch=5)"
   ]
  }
 ],
 "metadata": {
  "kernelspec": {
   "display_name": "Python 3",
   "language": "python",
   "name": "python3"
  },
  "language_info": {
   "codemirror_mode": {
    "name": "ipython",
    "version": 3
   },
   "file_extension": ".py",
   "mimetype": "text/x-python",
   "name": "python",
   "nbconvert_exporter": "python",
   "pygments_lexer": "ipython3",
   "version": "3.6.0"
  }
 },
 "nbformat": 4,
 "nbformat_minor": 2
}
