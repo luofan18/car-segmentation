{
 "cells": [
  {
   "cell_type": "code",
   "execution_count": 1,
   "metadata": {},
   "outputs": [
    {
     "name": "stderr",
     "output_type": "stream",
     "text": [
      "Using TensorFlow backend.\n"
     ]
    },
    {
     "name": "stdout",
     "output_type": "stream",
     "text": [
      "█\r"
     ]
    },
    {
     "name": "stderr",
     "output_type": "stream",
     "text": [
      "/home/luo/anaconda2/envs/tf11/lib/python3.6/site-packages/matplotlib/__init__.py:1405: UserWarning: \n",
      "This call to matplotlib.use() has no effect because the backend has already\n",
      "been chosen; matplotlib.use() must be called *before* pylab, matplotlib.pyplot,\n",
      "or matplotlib.backends is imported for the first time.\n",
      "\n",
      "  warnings.warn(_use_error_msg)\n"
     ]
    }
   ],
   "source": [
    "%matplotlib inline\n",
    "\n",
    "import numpy as np\n",
    "import pandas as pd\n",
    "import matplotlib.pyplot as plt\n",
    "from keras.models import Sequential, Model\n",
    "from keras.layers import (Dense, Conv2D, Input, MaxPool2D, \n",
    "                         UpSampling2D, Concatenate, Conv2DTranspose, \n",
    "                         Dropout, Cropping2D)\n",
    "import tensorflow as tf\n",
    "from keras.optimizers import Adam,SGD\n",
    "from keras.initializers import he_normal\n",
    "from keras.models import load_model\n",
    "from scipy.misc import imresize\n",
    "from PIL import Image\n",
    "from tqdm import tqdm\n",
    "from sklearn.model_selection import train_test_split\n",
    "import os\n",
    "from keras.preprocessing.image import (array_to_img, img_to_array, \n",
    "                                       load_img, ImageDataGenerator)\n",
    "from keras.callbacks import (Callback, ModelCheckpoint, CSVLogger, \n",
    "                             ReduceLROnPlateau)\n",
    "import keras.backend as K\n",
    "import itchat\n",
    "from wechat_utils import SendMessage\n",
    "import random\n",
    "from importlib import reload\n",
    "\n",
    "import pdb\n",
    "import gc\n",
    "import sys"
   ]
  },
  {
   "cell_type": "code",
   "execution_count": 2,
   "metadata": {},
   "outputs": [
    {
     "data": {
      "text/plain": [
       "'2.0.5'"
      ]
     },
     "execution_count": 2,
     "metadata": {},
     "output_type": "execute_result"
    }
   ],
   "source": [
    "import keras\n",
    "keras.__version__"
   ]
  },
  {
   "cell_type": "markdown",
   "metadata": {},
   "source": [
    "## Prepare the data"
   ]
  },
  {
   "cell_type": "code",
   "execution_count": 3,
   "metadata": {
    "collapsed": true
   },
   "outputs": [],
   "source": [
    "# Set the necessary directories\n",
    "data_dir = '../data/train/'\n",
    "mask_dir = '../data/train_masks/'\n",
    "all_images = os.listdir(data_dir)"
   ]
  },
  {
   "cell_type": "code",
   "execution_count": 4,
   "metadata": {},
   "outputs": [
    {
     "name": "stdout",
     "output_type": "stream",
     "text": [
      "mkdir: cannot create directory ‘tmp’: File exists\r\n"
     ]
    }
   ],
   "source": [
    "!mkdir tmp"
   ]
  },
  {
   "cell_type": "code",
   "execution_count": 5,
   "metadata": {
    "collapsed": true
   },
   "outputs": [],
   "source": [
    "tmp_dir = './tmp/u-net-valid-padding-no-filter-growth/'"
   ]
  },
  {
   "cell_type": "code",
   "execution_count": 6,
   "metadata": {},
   "outputs": [
    {
     "name": "stdout",
     "output_type": "stream",
     "text": [
      "mkdir: cannot create directory ‘./tmp/u-net-valid-padding-no-filter-growth/’: File exists\r\n"
     ]
    }
   ],
   "source": [
    "!mkdir ./tmp/u-net-valid-padding-no-filter-growth/"
   ]
  },
  {
   "cell_type": "code",
   "execution_count": 7,
   "metadata": {
    "collapsed": true
   },
   "outputs": [],
   "source": [
    "# Train validation split\n",
    "train_images, validation_images = train_test_split(\n",
    "    all_images, train_size=0.8, test_size=0.2)"
   ]
  },
  {
   "cell_type": "code",
   "execution_count": 8,
   "metadata": {
    "collapsed": true
   },
   "outputs": [],
   "source": [
    "# original size 1280, 1918\n",
    "image_size = [906, 640]\n",
    "input_dims = [572, 572]\n",
    "output_dims = [388, 388]\n",
    "batch_size = 1"
   ]
  },
  {
   "cell_type": "code",
   "execution_count": 9,
   "metadata": {
    "collapsed": true
   },
   "outputs": [],
   "source": [
    "# Utility function to convert greyscale images to rgb\n",
    "def grey2rgb(img):\n",
    "    new_img = []\n",
    "    for i in range(img.shape[0]):\n",
    "        for j in range(img.shape[1]):\n",
    "            new_img.append(list(img[i][j]) * 3)\n",
    "    new_img = np.array(new_img).reshape(img.shape[0], img.shape[1], 3)\n",
    "    return new_img"
   ]
  },
  {
   "cell_type": "code",
   "execution_count": 10,
   "metadata": {
    "collapsed": true
   },
   "outputs": [],
   "source": [
    "def read_image_and_mask(data_dir, mask_dir, image):\n",
    "    return (load_img(data_dir + image), \n",
    "            load_img(mask_dir + image.split('.')[0] + '_mask.gif'))"
   ]
  },
  {
   "cell_type": "code",
   "execution_count": 11,
   "metadata": {
    "collapsed": true
   },
   "outputs": [],
   "source": [
    "def show_image_and_mask(image, mask):\n",
    "    plt.figure()\n",
    "    plt.subplot(121)\n",
    "    plt.imshow(image)\n",
    "    plt.subplot(122)\n",
    "    plt.imshow(mask)"
   ]
  },
  {
   "cell_type": "code",
   "execution_count": 12,
   "metadata": {},
   "outputs": [
    {
     "name": "stdout",
     "output_type": "stream",
     "text": [
      "(572, 572)\n",
      "[[ 247.  247.  247.]\n",
      " [ 247.  247.  247.]\n",
      " [ 247.  247.  247.]\n",
      " ..., \n",
      " [ 206.  210.  213.]\n",
      " [ 206.  210.  213.]\n",
      " [ 206.  210.  213.]]\n"
     ]
    },
    {
     "data": {
      "image/png": "[encoded data removed]",
      "text/plain": [
       "<matplotlib.figure.Figure at 0x7f4478a30ac8>"
      ]
     },
     "metadata": {},
     "output_type": "display_data"
    },
    {
     "data": {
      "image/png": "[encoded data removed]",
      "text/plain": [
       "<matplotlib.figure.Figure at 0x7f44792e6f28>"
      ]
     },
     "metadata": {},
     "output_type": "display_data"
    }
   ],
   "source": [
    "def random_crop(image_pair, dims):\n",
    "    image, mask = image_pair\n",
    "    w, h = image.size\n",
    "    x_s = random.randint(0, w - dims[1])\n",
    "    y_s = random.randint(0, h - dims[0])\n",
    "    box = (x_s, y_s, x_s+dims[1], y_s+dims[0])\n",
    "    image = image.crop(box)\n",
    "    mask = mask.crop(box)\n",
    "    return image, mask\n",
    "image_, mask_ = read_image_and_mask(data_dir, mask_dir, train_images[0])\n",
    "show_image_and_mask(image_, mask_)\n",
    "image_, mask_ = random_crop((image_, mask_), input_dims)\n",
    "show_image_and_mask(image_, mask_)\n",
    "print (image_.size)\n",
    "print (img_to_array(image_)[:, input_dims[1]-1])"
   ]
  },
  {
   "cell_type": "code",
   "execution_count": 13,
   "metadata": {},
   "outputs": [
    {
     "name": "stdout",
     "output_type": "stream",
     "text": [
      "CPU times: user 88 ms, sys: 0 ns, total: 88 ms\n",
      "Wall time: 87.9 ms\n"
     ]
    }
   ],
   "source": [
    "%%time\n",
    "image_, mask_ = read_image_and_mask(data_dir, mask_dir, train_images[0])\n",
    "image_ = image_.resize(image_size, resample=Image.BILINEAR)\n",
    "mask_ = mask_.resize(image_size, resample=Image.BILINEAR)"
   ]
  },
  {
   "cell_type": "code",
   "execution_count": 14,
   "metadata": {},
   "outputs": [
    {
     "name": "stdout",
     "output_type": "stream",
     "text": [
      "CPU times: user 112 ms, sys: 4 ms, total: 116 ms\n",
      "Wall time: 114 ms\n"
     ]
    }
   ],
   "source": [
    "%%time\n",
    "image_, mask_ = read_image_and_mask(data_dir, mask_dir, train_images[0])\n",
    "image_ = imresize(image_, image_size[::-1])\n",
    "mask_ = imresize(mask_, image_size[::-1])"
   ]
  },
  {
   "cell_type": "code",
   "execution_count": 15,
   "metadata": {},
   "outputs": [
    {
     "name": "stdout",
     "output_type": "stream",
     "text": [
      "(906, 640)\n",
      "[[ 251.  251.  251.]\n",
      " [ 251.  251.  251.]\n",
      " [ 251.  251.  251.]\n",
      " ..., \n",
      " [ 202.  202.  202.]\n",
      " [ 202.  202.  202.]\n",
      " [ 202.  202.  202.]]\n"
     ]
    },
    {
     "data": {
      "image/png": "[encoded data removed]",
      "text/plain": [
       "<matplotlib.figure.Figure at 0x7f44786068d0>"
      ]
     },
     "metadata": {},
     "output_type": "display_data"
    },
    {
     "data": {
      "image/png": "[encoded data removed]",
      "text/plain": [
       "<matplotlib.figure.Figure at 0x7f44792e6c50>"
      ]
     },
     "metadata": {},
     "output_type": "display_data"
    }
   ],
   "source": [
    "def resize_image(image_pair, dims):\n",
    "    image, mask = image_pair\n",
    "    image = image.resize(dims, resample=Image.BILINEAR)\n",
    "    mask = mask.resize(dims, resample=Image.BILINEAR)\n",
    "    return image, mask\n",
    "image_, mask_ = read_image_and_mask(data_dir, mask_dir, train_images[0])\n",
    "show_image_and_mask(image_, mask_)\n",
    "image_, mask_ = resize_image((image_, mask_), image_size)\n",
    "show_image_and_mask(image_, mask_)\n",
    "print (image_.size)\n",
    "print (img_to_array(image_)[:, input_dims[1]-1])"
   ]
  },
  {
   "cell_type": "code",
   "execution_count": 16,
   "metadata": {
    "scrolled": true
   },
   "outputs": [
    {
     "name": "stdout",
     "output_type": "stream",
     "text": [
      "(1918, 1280)\n",
      "[[ 251.  251.  251.]\n",
      " [ 251.  251.  251.]\n",
      " [ 251.  251.  251.]\n",
      " ..., \n",
      " [ 213.  213.  213.]\n",
      " [ 214.  214.  214.]\n",
      " [ 214.  214.  214.]]\n"
     ]
    },
    {
     "data": {
      "image/png": "[encoded data removed]",
      "text/plain": [
       "<matplotlib.figure.Figure at 0x7f44784b7a58>"
      ]
     },
     "metadata": {},
     "output_type": "display_data"
    },
    {
     "data": {
      "image/png": "[encoded data removed]",
      "text/plain": [
       "<matplotlib.figure.Figure at 0x7f44792e6860>"
      ]
     },
     "metadata": {},
     "output_type": "display_data"
    }
   ],
   "source": [
    "def cut_mask(image_pair, dims):\n",
    "    assert dims[0] % 2 == 0 and dims[1] % 2 == 0, 'Output dims must be even numbers.'\n",
    "    image, mask = image_pair\n",
    "    # Because the image size is reversed of what we defined\n",
    "    original_dims = image.size[::-1]\n",
    "    x_s = (original_dims[1] - dims[1]) / 2\n",
    "    y_s = (original_dims[0] - dims[0]) / 2\n",
    "    box = (x_s, y_s, x_s+dims[1], y_s+dims[0])\n",
    "    mask = mask.crop(box)\n",
    "    return image, mask\n",
    "image_, mask_ = read_image_and_mask(data_dir, mask_dir, train_images[0])\n",
    "show_image_and_mask(image_, mask_)\n",
    "image_, mask_ = cut_mask((image_, mask_), [1024, 1024])\n",
    "show_image_and_mask(image_, mask_)\n",
    "print (image_.size)\n",
    "print (img_to_array(image_)[:, input_dims[1]-1])"
   ]
  },
  {
   "cell_type": "code",
   "execution_count": 17,
   "metadata": {
    "scrolled": true
   },
   "outputs": [
    {
     "data": {
      "text/plain": [
       "<matplotlib.image.AxesImage at 0x7f4478541f98>"
      ]
     },
     "execution_count": 17,
     "metadata": {},
     "output_type": "execute_result"
    },
    {
     "data": {
      "image/png": "[encoded data removed]",
      "text/plain": [
       "<matplotlib.figure.Figure at 0x7f44783d4898>"
      ]
     },
     "metadata": {},
     "output_type": "display_data"
    }
   ],
   "source": [
    "from data_utils import random_horizontal_flip\n",
    "transform_resize = lambda image_pair: resize_image(image_pair, image_size)\n",
    "transform_flip = lambda image_pair: random_horizontal_flip(image_pair, prob=0.5)\n",
    "transform_crop = lambda image_pair: random_crop(image_pair, input_dims)\n",
    "transform_cut = lambda image_pair: cut_mask(image_pair, output_dims)\n",
    "transforms = [transform_resize, transform_flip, transform_crop, transform_cut]\n",
    "\n",
    "from data_utils import data_gen_small, threadsafe_iter\n",
    "import data_utils\n",
    "reload(data_utils)\n",
    "del globals()['data_gen_small']\n",
    "from data_utils import data_gen_small\n",
    "            \n",
    "# Example use\n",
    "train_gen = data_gen_small(data_dir, mask_dir, train_images, batch_size, \n",
    "                          input_dims, transforms=transforms)\n",
    "img, msk = next(train_gen)\n",
    "\n",
    "plt.subplot(121)\n",
    "plt.imshow(img[0])\n",
    "plt.subplot(122)\n",
    "plt.imshow(grey2rgb(msk[0]), alpha=0.5)"
   ]
  },
  {
   "cell_type": "code",
   "execution_count": 18,
   "metadata": {},
   "outputs": [
    {
     "name": "stdout",
     "output_type": "stream",
     "text": [
      "CPU times: user 96 ms, sys: 0 ns, total: 96 ms\n",
      "Wall time: 203 ms\n"
     ]
    }
   ],
   "source": [
    "%%time\n",
    "_ = next(train_gen)"
   ]
  },
  {
   "cell_type": "code",
   "execution_count": 19,
   "metadata": {
    "collapsed": true
   },
   "outputs": [],
   "source": [
    "val_gen = data_gen_small(data_dir, mask_dir, validation_images, 128, input_dims, transforms=transforms)"
   ]
  },
  {
   "cell_type": "code",
   "execution_count": 20,
   "metadata": {
    "collapsed": true
   },
   "outputs": [],
   "source": [
    "val_images, val_masks = next(val_gen)"
   ]
  },
  {
   "cell_type": "code",
   "execution_count": 21,
   "metadata": {},
   "outputs": [
    {
     "name": "stdout",
     "output_type": "stream",
     "text": [
      "(128, 572, 572, 3)\n",
      "(128, 388, 388, 1)\n"
     ]
    }
   ],
   "source": [
    "print (val_images.shape)\n",
    "print (val_masks.shape)"
   ]
  },
  {
   "cell_type": "code",
   "execution_count": 22,
   "metadata": {},
   "outputs": [
    {
     "name": "stdout",
     "output_type": "stream",
     "text": [
      "(1, 572, 572, 3)\n",
      "(1, 388, 388, 1)\n",
      "(388, 388, 1)\n",
      "[[ 1.]\n",
      " [ 1.]\n",
      " [ 1.]\n",
      " [ 1.]\n",
      " [ 1.]\n",
      " [ 1.]\n",
      " [ 1.]\n",
      " [ 1.]\n",
      " [ 1.]\n",
      " [ 1.]\n",
      " [ 1.]\n",
      " [ 1.]\n",
      " [ 1.]\n",
      " [ 1.]\n",
      " [ 1.]\n",
      " [ 1.]\n",
      " [ 1.]\n",
      " [ 1.]\n",
      " [ 1.]\n",
      " [ 1.]\n",
      " [ 1.]\n",
      " [ 1.]\n",
      " [ 1.]\n",
      " [ 1.]\n",
      " [ 1.]\n",
      " [ 1.]\n",
      " [ 1.]\n",
      " [ 1.]\n",
      " [ 1.]\n",
      " [ 1.]\n",
      " [ 1.]\n",
      " [ 1.]\n",
      " [ 1.]\n",
      " [ 1.]\n",
      " [ 1.]\n",
      " [ 1.]\n",
      " [ 1.]\n",
      " [ 1.]\n",
      " [ 1.]\n",
      " [ 1.]\n",
      " [ 1.]\n",
      " [ 1.]\n",
      " [ 1.]\n",
      " [ 1.]\n",
      " [ 1.]\n",
      " [ 1.]\n",
      " [ 1.]\n",
      " [ 1.]\n",
      " [ 1.]\n",
      " [ 1.]\n",
      " [ 1.]\n",
      " [ 1.]\n",
      " [ 1.]\n",
      " [ 1.]\n",
      " [ 1.]\n",
      " [ 1.]\n",
      " [ 1.]\n",
      " [ 1.]\n",
      " [ 1.]\n",
      " [ 1.]\n",
      " [ 1.]\n",
      " [ 1.]\n",
      " [ 1.]\n",
      " [ 1.]\n",
      " [ 1.]\n",
      " [ 1.]\n",
      " [ 1.]\n",
      " [ 1.]\n",
      " [ 1.]\n",
      " [ 1.]\n",
      " [ 1.]\n",
      " [ 1.]\n",
      " [ 1.]\n",
      " [ 1.]\n",
      " [ 1.]\n",
      " [ 1.]\n",
      " [ 1.]\n",
      " [ 1.]\n",
      " [ 1.]\n",
      " [ 1.]\n",
      " [ 1.]\n",
      " [ 1.]\n",
      " [ 1.]\n",
      " [ 1.]\n",
      " [ 1.]\n",
      " [ 1.]\n",
      " [ 1.]\n",
      " [ 1.]\n",
      " [ 1.]\n",
      " [ 1.]\n",
      " [ 1.]\n",
      " [ 1.]\n",
      " [ 1.]\n",
      " [ 1.]\n",
      " [ 1.]\n",
      " [ 1.]\n",
      " [ 1.]\n",
      " [ 1.]\n",
      " [ 1.]\n",
      " [ 1.]\n",
      " [ 1.]\n",
      " [ 1.]\n",
      " [ 1.]\n",
      " [ 1.]\n",
      " [ 1.]\n",
      " [ 1.]\n",
      " [ 1.]\n",
      " [ 1.]\n",
      " [ 1.]\n",
      " [ 1.]\n",
      " [ 1.]\n",
      " [ 1.]\n",
      " [ 1.]\n",
      " [ 1.]\n",
      " [ 1.]\n",
      " [ 1.]\n",
      " [ 1.]\n",
      " [ 1.]\n",
      " [ 1.]\n",
      " [ 1.]\n",
      " [ 1.]\n",
      " [ 1.]\n",
      " [ 1.]\n",
      " [ 1.]\n",
      " [ 1.]\n",
      " [ 1.]\n",
      " [ 1.]\n",
      " [ 1.]\n",
      " [ 1.]\n",
      " [ 1.]\n",
      " [ 1.]\n",
      " [ 1.]\n",
      " [ 1.]\n",
      " [ 1.]\n",
      " [ 1.]\n",
      " [ 1.]\n",
      " [ 1.]\n",
      " [ 1.]\n",
      " [ 1.]\n",
      " [ 1.]\n",
      " [ 1.]\n",
      " [ 1.]\n",
      " [ 1.]\n",
      " [ 1.]\n",
      " [ 1.]\n",
      " [ 1.]\n",
      " [ 1.]\n",
      " [ 1.]\n",
      " [ 1.]\n",
      " [ 1.]\n",
      " [ 1.]\n",
      " [ 1.]\n",
      " [ 1.]\n",
      " [ 1.]\n",
      " [ 1.]\n",
      " [ 1.]\n",
      " [ 1.]\n",
      " [ 1.]\n",
      " [ 1.]\n",
      " [ 1.]\n",
      " [ 1.]\n",
      " [ 1.]\n",
      " [ 1.]\n",
      " [ 1.]\n",
      " [ 1.]\n",
      " [ 1.]\n",
      " [ 1.]\n",
      " [ 1.]\n",
      " [ 1.]\n",
      " [ 1.]\n",
      " [ 1.]\n",
      " [ 1.]\n",
      " [ 1.]\n",
      " [ 1.]\n",
      " [ 1.]\n",
      " [ 1.]\n",
      " [ 1.]\n",
      " [ 1.]\n",
      " [ 1.]\n",
      " [ 1.]\n",
      " [ 1.]\n",
      " [ 1.]\n",
      " [ 1.]\n",
      " [ 1.]\n",
      " [ 1.]\n",
      " [ 1.]\n",
      " [ 1.]\n",
      " [ 1.]\n",
      " [ 1.]\n",
      " [ 1.]\n",
      " [ 1.]\n",
      " [ 1.]\n",
      " [ 1.]\n",
      " [ 1.]\n",
      " [ 1.]\n",
      " [ 1.]\n",
      " [ 1.]\n",
      " [ 1.]\n",
      " [ 1.]\n",
      " [ 1.]\n",
      " [ 1.]\n",
      " [ 1.]\n",
      " [ 1.]\n",
      " [ 1.]\n",
      " [ 1.]\n",
      " [ 1.]\n",
      " [ 1.]\n",
      " [ 1.]\n",
      " [ 1.]\n",
      " [ 1.]\n",
      " [ 1.]\n",
      " [ 1.]\n",
      " [ 1.]\n",
      " [ 1.]\n",
      " [ 1.]\n",
      " [ 1.]\n",
      " [ 1.]\n",
      " [ 1.]\n",
      " [ 1.]\n",
      " [ 1.]\n",
      " [ 1.]\n",
      " [ 1.]\n",
      " [ 1.]\n",
      " [ 1.]\n",
      " [ 1.]\n",
      " [ 1.]\n",
      " [ 1.]\n",
      " [ 1.]\n",
      " [ 1.]\n",
      " [ 1.]\n",
      " [ 1.]\n",
      " [ 1.]\n",
      " [ 1.]\n",
      " [ 1.]\n",
      " [ 1.]\n",
      " [ 1.]\n",
      " [ 1.]\n",
      " [ 1.]\n",
      " [ 1.]\n",
      " [ 1.]\n",
      " [ 1.]\n",
      " [ 1.]\n",
      " [ 1.]\n",
      " [ 1.]\n",
      " [ 1.]\n",
      " [ 1.]\n",
      " [ 1.]\n",
      " [ 1.]\n",
      " [ 1.]\n",
      " [ 1.]\n",
      " [ 1.]\n",
      " [ 1.]\n",
      " [ 1.]\n",
      " [ 1.]\n",
      " [ 1.]\n",
      " [ 1.]\n",
      " [ 1.]\n",
      " [ 1.]\n",
      " [ 1.]\n",
      " [ 1.]\n",
      " [ 1.]\n",
      " [ 1.]\n",
      " [ 1.]\n",
      " [ 1.]\n",
      " [ 1.]\n",
      " [ 1.]\n",
      " [ 1.]\n",
      " [ 1.]\n",
      " [ 1.]\n",
      " [ 1.]\n",
      " [ 1.]\n",
      " [ 1.]\n",
      " [ 1.]\n",
      " [ 1.]\n",
      " [ 1.]\n",
      " [ 1.]\n",
      " [ 1.]\n",
      " [ 1.]\n",
      " [ 1.]\n",
      " [ 1.]\n",
      " [ 1.]\n",
      " [ 1.]\n",
      " [ 1.]\n",
      " [ 1.]\n",
      " [ 1.]\n",
      " [ 1.]\n",
      " [ 1.]\n",
      " [ 1.]\n",
      " [ 1.]\n",
      " [ 1.]\n",
      " [ 1.]\n",
      " [ 1.]\n",
      " [ 1.]\n",
      " [ 1.]\n",
      " [ 1.]\n",
      " [ 1.]\n",
      " [ 1.]\n",
      " [ 1.]\n",
      " [ 1.]\n",
      " [ 1.]\n",
      " [ 1.]\n",
      " [ 1.]\n",
      " [ 1.]\n",
      " [ 1.]\n",
      " [ 1.]\n",
      " [ 1.]\n",
      " [ 1.]\n",
      " [ 1.]\n",
      " [ 1.]\n",
      " [ 1.]\n",
      " [ 1.]\n",
      " [ 1.]\n",
      " [ 1.]\n",
      " [ 1.]\n",
      " [ 1.]\n",
      " [ 1.]\n",
      " [ 1.]\n",
      " [ 1.]\n",
      " [ 1.]\n",
      " [ 1.]\n",
      " [ 1.]\n",
      " [ 1.]\n",
      " [ 1.]\n",
      " [ 1.]\n",
      " [ 1.]\n",
      " [ 1.]\n",
      " [ 1.]\n",
      " [ 1.]\n",
      " [ 1.]\n",
      " [ 1.]\n",
      " [ 1.]\n",
      " [ 1.]\n",
      " [ 1.]\n",
      " [ 1.]\n",
      " [ 1.]\n",
      " [ 1.]\n",
      " [ 1.]\n",
      " [ 1.]\n",
      " [ 1.]\n",
      " [ 1.]\n",
      " [ 1.]\n",
      " [ 1.]\n",
      " [ 1.]\n",
      " [ 1.]\n",
      " [ 1.]\n",
      " [ 1.]\n",
      " [ 1.]\n",
      " [ 1.]\n",
      " [ 1.]\n",
      " [ 1.]\n",
      " [ 1.]\n",
      " [ 1.]\n",
      " [ 1.]\n",
      " [ 1.]\n",
      " [ 1.]\n",
      " [ 1.]\n",
      " [ 1.]\n",
      " [ 1.]\n",
      " [ 1.]\n",
      " [ 1.]\n",
      " [ 1.]\n",
      " [ 1.]\n",
      " [ 1.]\n",
      " [ 1.]\n",
      " [ 1.]\n",
      " [ 1.]\n",
      " [ 1.]\n",
      " [ 1.]\n",
      " [ 1.]\n",
      " [ 1.]\n",
      " [ 1.]\n",
      " [ 1.]\n",
      " [ 1.]\n",
      " [ 1.]\n",
      " [ 1.]\n",
      " [ 1.]\n",
      " [ 1.]\n",
      " [ 1.]\n",
      " [ 1.]\n",
      " [ 1.]\n",
      " [ 1.]\n",
      " [ 1.]\n",
      " [ 1.]\n",
      " [ 1.]\n",
      " [ 1.]\n",
      " [ 1.]\n",
      " [ 1.]\n",
      " [ 1.]]\n",
      "74061.7\n"
     ]
    }
   ],
   "source": [
    "image_, mask_ = next(train_gen)\n",
    "print (image_.shape)\n",
    "print (mask_.shape)\n",
    "print (mask_[0].shape)\n",
    "print (mask_[0][150])\n",
    "print (mask_[0].sum())"
   ]
  },
  {
   "cell_type": "markdown",
   "metadata": {},
   "source": [
    "## Build the network"
   ]
  },
  {
   "cell_type": "code",
   "execution_count": 23,
   "metadata": {
    "collapsed": true
   },
   "outputs": [],
   "source": [
    "# First, let's define the two different types of layers that we will \n",
    "# be using\n",
    "def down(input_layer, filters, pool=True, padding='same', verbose=1):\n",
    "    conv1 = Conv2D(filters, (3, 3), padding=padding, \n",
    "                   kernel_initializer=he_normal(), activation='relu')(\n",
    "                   input_layer)\n",
    "    residual = Conv2D(filters, (3, 3), padding=padding, \n",
    "                      kernel_initializer=he_normal(), activation='relu')(\n",
    "                      conv1)\n",
    "    if pool:\n",
    "        max_pool = MaxPool2D()(residual)\n",
    "        if verbose:\n",
    "            print ('Down output shape')\n",
    "            print ('max_pool {}, residual {}'.format(K.int_shape(max_pool), K.int_shape(residual)))\n",
    "        return max_pool,residual\n",
    "    else:\n",
    "        if verbose:\n",
    "            print ('Down output shape')\n",
    "            print ('residual {}'.format(K.int_shape(residual)))\n",
    "        return residual\n",
    "    \n",
    "def up(input_layer, residual, filters, padding='same', cropping=0, verbose=1):\n",
    "    filters=int(filters)\n",
    "    upsample = UpSampling2D()(input_layer)\n",
    "    upconv = Conv2D(filters, kernel_size=(2, 2), padding='same', \n",
    "                    kernel_initializer=he_normal(), activation='relu')(upsample)\n",
    "    if cropping != 0:\n",
    "        residual = Cropping2D(cropping=cropping)(residual)\n",
    "\n",
    "    concat = Concatenate(axis=3)([residual, upconv])\n",
    "    conv1 = Conv2D(filters, (3, 3), padding=padding,\n",
    "                   kernel_initializer=he_normal(), activation='relu')(\n",
    "                   concat)\n",
    "    conv2 = Conv2D(filters, (3, 3), padding=padding, \n",
    "                   kernel_initializer=he_normal(), activation='relu')(\n",
    "                   conv1)\n",
    "    if verbose:\n",
    "        print ('Up output dims')\n",
    "        print (K.int_shape(conv2))\n",
    "    return conv2\n"
   ]
  },
  {
   "cell_type": "code",
   "execution_count": 24,
   "metadata": {
    "scrolled": true
   },
   "outputs": [
    {
     "name": "stdout",
     "output_type": "stream",
     "text": [
      "Down output shape\n",
      "max_pool (None, None, None, 96), residual (None, None, None, 96)\n",
      "Down output shape\n",
      "max_pool (None, None, None, 96), residual (None, None, None, 96)\n",
      "Down output shape\n",
      "max_pool (None, None, None, 96), residual (None, None, None, 96)\n",
      "Down output shape\n",
      "max_pool (None, None, None, 96), residual (None, None, None, 96)\n",
      "Down output shape\n",
      "residual (None, None, None, 96)\n",
      "Up output dims\n",
      "(None, None, None, 96)\n",
      "Up output dims\n",
      "(None, None, None, 96)\n",
      "Up output dims\n",
      "(None, None, None, 96)\n",
      "Up output dims\n",
      "(None, None, None, 96)\n",
      "____________________________________________________________________________________________________\n",
      "Layer (type)                     Output Shape          Param #     Connected to                     \n",
      "====================================================================================================\n",
      "input_1 (InputLayer)             (None, None, None, 3) 0                                            \n",
      "____________________________________________________________________________________________________\n",
      "conv2d_1 (Conv2D)                (None, None, None, 96 2688        input_1[0][0]                    \n",
      "____________________________________________________________________________________________________\n",
      "conv2d_2 (Conv2D)                (None, None, None, 96 83040       conv2d_1[0][0]                   \n",
      "____________________________________________________________________________________________________\n",
      "max_pooling2d_1 (MaxPooling2D)   (None, None, None, 96 0           conv2d_2[0][0]                   \n",
      "____________________________________________________________________________________________________\n",
      "conv2d_3 (Conv2D)                (None, None, None, 96 83040       max_pooling2d_1[0][0]            \n",
      "____________________________________________________________________________________________________\n",
      "conv2d_4 (Conv2D)                (None, None, None, 96 83040       conv2d_3[0][0]                   \n",
      "____________________________________________________________________________________________________\n",
      "max_pooling2d_2 (MaxPooling2D)   (None, None, None, 96 0           conv2d_4[0][0]                   \n",
      "____________________________________________________________________________________________________\n",
      "conv2d_5 (Conv2D)                (None, None, None, 96 83040       max_pooling2d_2[0][0]            \n",
      "____________________________________________________________________________________________________\n",
      "conv2d_6 (Conv2D)                (None, None, None, 96 83040       conv2d_5[0][0]                   \n",
      "____________________________________________________________________________________________________\n",
      "max_pooling2d_3 (MaxPooling2D)   (None, None, None, 96 0           conv2d_6[0][0]                   \n",
      "____________________________________________________________________________________________________\n",
      "conv2d_7 (Conv2D)                (None, None, None, 96 83040       max_pooling2d_3[0][0]            \n",
      "____________________________________________________________________________________________________\n",
      "conv2d_8 (Conv2D)                (None, None, None, 96 83040       conv2d_7[0][0]                   \n",
      "____________________________________________________________________________________________________\n",
      "max_pooling2d_4 (MaxPooling2D)   (None, None, None, 96 0           conv2d_8[0][0]                   \n",
      "____________________________________________________________________________________________________\n",
      "dropout_1 (Dropout)              (None, None, None, 96 0           max_pooling2d_4[0][0]            \n",
      "____________________________________________________________________________________________________\n",
      "conv2d_9 (Conv2D)                (None, None, None, 96 83040       dropout_1[0][0]                  \n",
      "____________________________________________________________________________________________________\n",
      "conv2d_10 (Conv2D)               (None, None, None, 96 83040       conv2d_9[0][0]                   \n",
      "____________________________________________________________________________________________________\n",
      "dropout_2 (Dropout)              (None, None, None, 96 0           conv2d_10[0][0]                  \n",
      "____________________________________________________________________________________________________\n",
      "up_sampling2d_1 (UpSampling2D)   (None, None, None, 96 0           dropout_2[0][0]                  \n",
      "____________________________________________________________________________________________________\n",
      "cropping2d_1 (Cropping2D)        (None, None, None, 96 0           conv2d_8[0][0]                   \n",
      "____________________________________________________________________________________________________\n",
      "conv2d_11 (Conv2D)               (None, None, None, 96 36960       up_sampling2d_1[0][0]            \n",
      "____________________________________________________________________________________________________\n",
      "concatenate_1 (Concatenate)      (None, None, None, 19 0           cropping2d_1[0][0]               \n",
      "                                                                   conv2d_11[0][0]                  \n",
      "____________________________________________________________________________________________________\n",
      "conv2d_12 (Conv2D)               (None, None, None, 96 165984      concatenate_1[0][0]              \n",
      "____________________________________________________________________________________________________\n",
      "conv2d_13 (Conv2D)               (None, None, None, 96 83040       conv2d_12[0][0]                  \n",
      "____________________________________________________________________________________________________\n",
      "up_sampling2d_2 (UpSampling2D)   (None, None, None, 96 0           conv2d_13[0][0]                  \n",
      "____________________________________________________________________________________________________\n",
      "cropping2d_2 (Cropping2D)        (None, None, None, 96 0           conv2d_6[0][0]                   \n",
      "____________________________________________________________________________________________________\n",
      "conv2d_14 (Conv2D)               (None, None, None, 96 36960       up_sampling2d_2[0][0]            \n",
      "____________________________________________________________________________________________________\n",
      "concatenate_2 (Concatenate)      (None, None, None, 19 0           cropping2d_2[0][0]               \n",
      "                                                                   conv2d_14[0][0]                  \n",
      "____________________________________________________________________________________________________\n",
      "conv2d_15 (Conv2D)               (None, None, None, 96 165984      concatenate_2[0][0]              \n",
      "____________________________________________________________________________________________________\n",
      "conv2d_16 (Conv2D)               (None, None, None, 96 83040       conv2d_15[0][0]                  \n",
      "____________________________________________________________________________________________________\n",
      "up_sampling2d_3 (UpSampling2D)   (None, None, None, 96 0           conv2d_16[0][0]                  \n",
      "____________________________________________________________________________________________________\n",
      "cropping2d_3 (Cropping2D)        (None, None, None, 96 0           conv2d_4[0][0]                   \n",
      "____________________________________________________________________________________________________\n",
      "conv2d_17 (Conv2D)               (None, None, None, 96 36960       up_sampling2d_3[0][0]            \n",
      "____________________________________________________________________________________________________\n",
      "concatenate_3 (Concatenate)      (None, None, None, 19 0           cropping2d_3[0][0]               \n",
      "                                                                   conv2d_17[0][0]                  \n",
      "____________________________________________________________________________________________________\n",
      "conv2d_18 (Conv2D)               (None, None, None, 96 165984      concatenate_3[0][0]              \n",
      "____________________________________________________________________________________________________\n",
      "conv2d_19 (Conv2D)               (None, None, None, 96 83040       conv2d_18[0][0]                  \n",
      "____________________________________________________________________________________________________\n",
      "up_sampling2d_4 (UpSampling2D)   (None, None, None, 96 0           conv2d_19[0][0]                  \n",
      "____________________________________________________________________________________________________\n",
      "cropping2d_4 (Cropping2D)        (None, None, None, 96 0           conv2d_2[0][0]                   \n",
      "____________________________________________________________________________________________________\n",
      "conv2d_20 (Conv2D)               (None, None, None, 96 36960       up_sampling2d_4[0][0]            \n",
      "____________________________________________________________________________________________________\n",
      "concatenate_4 (Concatenate)      (None, None, None, 19 0           cropping2d_4[0][0]               \n",
      "                                                                   conv2d_20[0][0]                  \n",
      "____________________________________________________________________________________________________\n",
      "conv2d_21 (Conv2D)               (None, None, None, 96 165984      concatenate_4[0][0]              \n",
      "____________________________________________________________________________________________________\n",
      "conv2d_22 (Conv2D)               (None, None, None, 96 83040       conv2d_21[0][0]                  \n",
      "____________________________________________________________________________________________________\n",
      "conv2d_23 (Conv2D)               (None, None, None, 1) 97          conv2d_22[0][0]                  \n",
      "====================================================================================================\n",
      "Total params: 1,894,081\n",
      "Trainable params: 1,894,081\n",
      "Non-trainable params: 0\n",
      "____________________________________________________________________________________________________\n"
     ]
    }
   ],
   "source": [
    "K.clear_session()\n",
    "# Make a custom U-nets implementation\n",
    "padding = 'valid'\n",
    "cropping = ((4, 4), (16, 16), (40, 40), (88, 88))\n",
    "filters = 96\n",
    "growth_factor = 1\n",
    "\n",
    "input_layer = Input(shape=[None, None] + [3])\n",
    "layers = [input_layer]\n",
    "residuals = []\n",
    "\n",
    "# Down 1, 128\n",
    "d1, res1 = down(input_layer, filters, padding=padding)\n",
    "residuals.append(res1)\n",
    "\n",
    "# Down 2, 64\n",
    "filters = filters * growth_factor\n",
    "d2, res2 = down(d1, filters, padding=padding)\n",
    "residuals.append(res2)\n",
    "\n",
    "# Down 3 32\n",
    "filters = filters * growth_factor\n",
    "d3, res3 = down(d2, filters, padding=padding)\n",
    "residuals.append(res3)\n",
    "\n",
    "# Down 4, 16\n",
    "filters = filters * growth_factor\n",
    "d4, res4 = down(d3, filters, padding=padding)\n",
    "residuals.append(res4)\n",
    "\n",
    "# Down 5, 8\n",
    "filters = filters * growth_factor\n",
    "d4 = Dropout(0.5)(d4)\n",
    "d5 = down(d4, filters, pool=False, padding=padding)\n",
    "d5 = Dropout(0.5)(d5)\n",
    "\n",
    "# Up 1\n",
    "filters = filters / growth_factor\n",
    "up1 = up(d5, residual=residuals[-1], filters=filters, padding=padding, cropping=cropping[0])\n",
    "\n",
    "# Up 2,3,4\n",
    "up_ = up1\n",
    "for layer_i in range(3):\n",
    "    filters = filters / growth_factor\n",
    "    up_ = up(up_, residual=residuals[-(layer_i + 2)], filters=filters, \n",
    "             padding=padding, cropping=cropping[layer_i+1])\n",
    "    \n",
    "# Out, or up 5\n",
    "out = Conv2D(filters=1, kernel_size=(1, 1), kernel_initializer=he_normal(), \n",
    "             activation='sigmoid', padding=padding)(up_)\n",
    "\n",
    "model = Model(input_layer, out)\n",
    "model.summary()"
   ]
  },
  {
   "cell_type": "code",
   "execution_count": 27,
   "metadata": {
    "collapsed": true
   },
   "outputs": [],
   "source": [
    "# Parameters distribution\n",
    "# For convnet, parameters number = size_w * size_h * pre_depth * \n",
    "# curr_depth\n",
    "# increase intial depth by 2 will result 4x params \n",
    "# Down \n",
    "# 2k 37k\n",
    "# 74k 148k\n",
    "# 295k 590k\n",
    "# 1180k 2400k\n",
    "# 4720k 9438k\n",
    "# Up\n",
    "# 2098k 4719k 2360k\n",
    "# 524k 1180k 590k\n",
    "# 131k 295k 148k\n",
    "# 33k 74k 37k\n",
    "# 0k last 1x1 conv\n",
    "# Total, 31032k"
   ]
  },
  {
   "cell_type": "code",
   "execution_count": 28,
   "metadata": {
    "collapsed": true
   },
   "outputs": [],
   "source": [
    "# Computation (multiply) \n",
    "# Down\n",
    "# 3 * 64 * 9 * 570^2 = 561m\n",
    "# 64 * 64 * 9 * 568^2 = 11893m\n",
    "# 64 * 128 * 9 * 280^2 * 3 = 17340m\n",
    "# 128 * 256 * 9 * 136^2 * 3 = 16264m\n",
    "# 256 * 512 * 9 * 64^2 * 3 = 14496m\n",
    "# 512 * 1024 * 9 * 28^2 * 3 = 11098m\n",
    "# Down in all, 71652m\n",
    "# Up\n",
    "# 1024 * 512 * 4 * 56^2 = 6576m\n",
    "# 1024 * 512 * 9 * 52^2 * 1.5 = 19139m\n",
    "# 512 * 256 * 4 * 104^2 = 5671m\n",
    "# 512 * 256 * 9 * 100^2 * 1.5 = 17695m\n",
    "# 256 * 128 * 4 * 200^2 = 5243m\n",
    "# 256 * 128 * 9 * 196^2 * 1.5 = 16994m\n",
    "# 128 * 64 * 4 * 392^ 2 = 5035m\n",
    "# 128 * 64 * 9 * 388^2 * 1.5 = 16648m\n",
    "# Up in all, 93001m\n",
    "# Omit last 1x1 conv and activation\n",
    "# Total, 164653m ~ 0.16T\n",
    "# Every layer, computation is almost the same, becasue the size decrease\n",
    "# by a factor of 2, while filter increase by factor of 2\n",
    "# Increase the filter size will significantly increase the computation\n",
    "# Increase input size by 2, the number of multiplication will x4\n",
    "# Increase intial depth by 2, the number of mutiplication will x4"
   ]
  },
  {
   "cell_type": "code",
   "execution_count": 25,
   "metadata": {
    "collapsed": true
   },
   "outputs": [],
   "source": [
    "# Now let's use Tensorflow to write our dice_coefficcient metric\n",
    "def dice_coef(y_true, y_pred):\n",
    "    smooth = 1e-5\n",
    "    \n",
    "    y_true = tf.round(tf.reshape((y_true), [-1]))\n",
    "    y_pred = tf.round(tf.reshape((y_pred), [-1]))\n",
    "    \n",
    "    isct = tf.reduce_sum(y_true * y_pred)\n",
    "    \n",
    "    return 2 * isct / (tf.reduce_sum(y_true) + tf.reduce_sum(y_pred))"
   ]
  },
  {
   "cell_type": "code",
   "execution_count": 26,
   "metadata": {
    "collapsed": true,
    "scrolled": true
   },
   "outputs": [],
   "source": [
    "# Model checkpoint\n",
    "checkpoint = ModelCheckpoint(filepath=tmp_dir + 'weights.hdf5',\n",
    "                             verbose=1, save_best_only=True)\n",
    "csv_logger = CSVLogger(tmp_dir + 'training.log')"
   ]
  },
  {
   "cell_type": "code",
   "execution_count": 27,
   "metadata": {},
   "outputs": [
    {
     "name": "stderr",
     "output_type": "stream",
     "text": [
      "/home/luo/anaconda2/envs/tf11/lib/python3.6/site-packages/matplotlib/__init__.py:1405: UserWarning: \n",
      "This call to matplotlib.use() has no effect because the backend has already\n",
      "been chosen; matplotlib.use() must be called *before* pylab, matplotlib.pyplot,\n",
      "or matplotlib.backends is imported for the first time.\n",
      "\n",
      "  warnings.warn(_use_error_msg)\n"
     ]
    }
   ],
   "source": [
    "from callback2 import BatchHistory\n",
    "del globals()['BatchHistory']\n",
    "import callback2\n",
    "reload(callback2)\n",
    "from callback2 import BatchHistory\n",
    "batch_history = BatchHistory(save_to=tmp_dir)"
   ]
  },
  {
   "cell_type": "code",
   "execution_count": 33,
   "metadata": {
    "collapsed": true
   },
   "outputs": [],
   "source": [
    "#optimizer = SGD(lr=0.001, momentum=0.99)\n",
    "optimizer = SGD(lr=0.001, momentum=0.99)\n",
    "model.compile(optimizer=optimizer, loss='binary_crossentropy', \n",
    "             metrics=[dice_coef])"
   ]
  },
  {
   "cell_type": "code",
   "execution_count": 89,
   "metadata": {
    "scrolled": false
   },
   "outputs": [
    {
     "name": "stdout",
     "output_type": "stream",
     "text": [
      "Epoch 1/2\n",
      "1/2 [==============>...............] - ETA: 1s - loss: 0.6787 - dice_coef: 0.0635Epoch 00000: val_loss improved from inf to 0.69209, saving model to ./tmp/u-net-valid-padding-no-filter-growth/weights.hdf5\n",
      "2/2 [==============================] - 2s - loss: 0.6923 - dice_coef: 0.0384 - val_loss: 0.6921 - val_dice_coef: 0.0431\n",
      "Epoch 2/2\n",
      "1/2 [==============>...............] - ETA: 1s - loss: 0.6836 - dice_coef: 0.2307Epoch 00001: val_loss improved from 0.69209 to 0.69167, saving model to ./tmp/u-net-valid-padding-no-filter-growth/weights.hdf5\n",
      "2/2 [==============================] - 2s - loss: 0.6921 - dice_coef: 0.1284 - val_loss: 0.6917 - val_dice_coef: 0.0968\n"
     ]
    }
   ],
   "source": [
    "# For keras 2.0.5, the max_queue_size should be max_q_size\n",
    "# no relu in 2x2 conv, no advanced initializer\n",
    "history = model.fit_generator(threadsafe_iter(train_gen), \n",
    "                              steps_per_epoch=2 / batch_size, \n",
    "                              callbacks=[checkpoint, csv_logger, batch_history], \n",
    "                              validation_data=(val_images[0:1], val_masks[0:1]), \n",
    "                              validation_steps=float('inf'), \n",
    "                              max_q_size=6, \n",
    "                              workers=1, \n",
    "                              epochs=2, \n",
    "                              initial_epoch=0)"
   ]
  },
  {
   "cell_type": "code",
   "execution_count": 93,
   "metadata": {},
   "outputs": [
    {
     "name": "stdout",
     "output_type": "stream",
     "text": [
      "{'loss': [0.67868811, 0.70594501, 0.68358278, 0.70062172], 'dice_coef': [0.063484535, 0.013241945, 0.23067075, 0.026114309]}\n"
     ]
    }
   ],
   "source": [
    "batch_hist = np.load(os.path.join(tmp_dir, 'batch_history.npy'))\n",
    "print (batch_hist)"
   ]
  },
  {
   "cell_type": "code",
   "execution_count": 34,
   "metadata": {
    "collapsed": true
   },
   "outputs": [],
   "source": [
    "reduce_lr = ReduceLROnPlateau()"
   ]
  },
  {
   "cell_type": "code",
   "execution_count": 98,
   "metadata": {
    "scrolled": true
   },
   "outputs": [
    {
     "name": "stdout",
     "output_type": "stream",
     "text": [
      "Epoch 1/10\n",
      "4095/4096 [============================>.] - ETA: 0s - loss: 0.3053 - dice_coef: 0.8590Epoch 00000: val_loss improved from 0.69167 to 0.08407, saving model to ./tmp/u-net-valid-padding-no-filter-growth/weights.hdf5\n",
      "4096/4096 [==============================] - 4034s - loss: 0.3052 - dice_coef: 0.8590 - val_loss: 0.0841 - val_dice_coef: 0.9709\n",
      "Epoch 2/10\n",
      "4095/4096 [============================>.] - ETA: 0s - loss: 0.0528 - dice_coef: 0.9814Epoch 00001: val_loss improved from 0.08407 to 0.04919, saving model to ./tmp/u-net-valid-padding-no-filter-growth/weights.hdf5\n",
      "4096/4096 [==============================] - 4019s - loss: 0.0528 - dice_coef: 0.9814 - val_loss: 0.0492 - val_dice_coef: 0.9832\n",
      "Epoch 3/10\n",
      "4095/4096 [============================>.] - ETA: 0s - loss: 0.0383 - dice_coef: 0.9868Epoch 00002: val_loss improved from 0.04919 to 0.02908, saving model to ./tmp/u-net-valid-padding-no-filter-growth/weights.hdf5\n",
      "4096/4096 [==============================] - 4026s - loss: 0.0383 - dice_coef: 0.9868 - val_loss: 0.0291 - val_dice_coef: 0.9903\n",
      "Epoch 4/10\n",
      "4095/4096 [============================>.] - ETA: 0s - loss: 0.0276 - dice_coef: 0.9905Epoch 00003: val_loss improved from 0.02908 to 0.02284, saving model to ./tmp/u-net-valid-padding-no-filter-growth/weights.hdf5\n",
      "4096/4096 [==============================] - 4076s - loss: 0.0276 - dice_coef: 0.9905 - val_loss: 0.0228 - val_dice_coef: 0.9925\n",
      "Epoch 5/10\n",
      "4095/4096 [============================>.] - ETA: 0s - loss: 0.0268 - dice_coef: 0.9908Epoch 00004: val_loss did not improve\n",
      "4096/4096 [==============================] - 4100s - loss: 0.0268 - dice_coef: 0.9908 - val_loss: 0.0312 - val_dice_coef: 0.9895\n",
      "Epoch 6/10\n",
      "4095/4096 [============================>.] - ETA: 1s - loss: 0.0233 - dice_coef: 0.9921Epoch 00005: val_loss improved from 0.02284 to 0.01988, saving model to ./tmp/u-net-valid-padding-no-filter-growth/weights.hdf5\n",
      "4096/4096 [==============================] - 4219s - loss: 0.0233 - dice_coef: 0.9921 - val_loss: 0.0199 - val_dice_coef: 0.9935\n",
      "Epoch 7/10\n",
      "4095/4096 [============================>.] - ETA: 1s - loss: 0.0207 - dice_coef: 0.9930Epoch 00006: val_loss improved from 0.01988 to 0.01892, saving model to ./tmp/u-net-valid-padding-no-filter-growth/weights.hdf5\n",
      "4096/4096 [==============================] - 4309s - loss: 0.0207 - dice_coef: 0.9930 - val_loss: 0.0189 - val_dice_coef: 0.9939\n",
      "Epoch 8/10\n",
      "4095/4096 [============================>.] - ETA: 1s - loss: 0.0191 - dice_coef: 0.9936Epoch 00007: val_loss did not improve\n",
      "4096/4096 [==============================] - 4286s - loss: 0.0191 - dice_coef: 0.9936 - val_loss: 0.0193 - val_dice_coef: 0.9936\n",
      "Epoch 9/10\n",
      "4095/4096 [============================>.] - ETA: 0s - loss: 0.0165 - dice_coef: 0.9944Epoch 00008: val_loss improved from 0.01892 to 0.01600, saving model to ./tmp/u-net-valid-padding-no-filter-growth/weights.hdf5\n",
      "4096/4096 [==============================] - 4034s - loss: 0.0165 - dice_coef: 0.9944 - val_loss: 0.0160 - val_dice_coef: 0.9949\n",
      "Epoch 10/10\n",
      "4095/4096 [============================>.] - ETA: 0s - loss: 0.0157 - dice_coef: 0.9947Epoch 00009: val_loss improved from 0.01600 to 0.01543, saving model to ./tmp/u-net-valid-padding-no-filter-growth/weights.hdf5\n",
      "4096/4096 [==============================] - 4025s - loss: 0.0157 - dice_coef: 0.9947 - val_loss: 0.0154 - val_dice_coef: 0.9949\n"
     ]
    }
   ],
   "source": [
    "# For keras 2.0.5, the max_queue_size should be max_q_size\n",
    "history = model.fit_generator(threadsafe_iter(train_gen), \n",
    "                              steps_per_epoch=4096 / batch_size, \n",
    "                              callbacks=[checkpoint, csv_logger, reduce_lr], \n",
    "                              validation_data=(val_images, val_masks), \n",
    "                              validation_steps=float('inf'), \n",
    "                              max_q_size=6, \n",
    "                              workers=1, \n",
    "                              epochs=10, \n",
    "                              initial_epoch=0)"
   ]
  },
  {
   "cell_type": "code",
   "execution_count": 38,
   "metadata": {
    "collapsed": true
   },
   "outputs": [],
   "source": [
    "K.clear_session()\n",
    "custom_objects = {'dice_coef': dice_coef}\n",
    "model = load_model(tmp_dir + 'weights.hdf5', custom_objects=custom_objects)"
   ]
  },
  {
   "cell_type": "code",
   "execution_count": 39,
   "metadata": {},
   "outputs": [
    {
     "name": "stdout",
     "output_type": "stream",
     "text": [
      "Epoch 11/14\n",
      "4095/4096 [============================>.] - ETA: 0s - loss: 0.0147 - dice_coef: 0.9951Epoch 00010: val_loss improved from inf to 0.01417, saving model to ./tmp/u-net-valid-padding-no-filter-growth/weights.hdf5\n",
      "4096/4096 [==============================] - 4106s - loss: 0.0147 - dice_coef: 0.9951 - val_loss: 0.0142 - val_dice_coef: 0.9954\n",
      "Epoch 12/14\n",
      "4095/4096 [============================>.] - ETA: 0s - loss: 0.0145 - dice_coef: 0.9951Epoch 00011: val_loss improved from 0.01417 to 0.01329, saving model to ./tmp/u-net-valid-padding-no-filter-growth/weights.hdf5\n",
      "4096/4096 [==============================] - 4083s - loss: 0.0145 - dice_coef: 0.9951 - val_loss: 0.0133 - val_dice_coef: 0.9956\n",
      "Epoch 13/14\n",
      "4095/4096 [============================>.] - ETA: 0s - loss: 0.0138 - dice_coef: 0.9954Epoch 00012: val_loss improved from 0.01329 to 0.01328, saving model to ./tmp/u-net-valid-padding-no-filter-growth/weights.hdf5\n",
      "4096/4096 [==============================] - 4059s - loss: 0.0138 - dice_coef: 0.9954 - val_loss: 0.0133 - val_dice_coef: 0.9954\n",
      "Epoch 14/14\n",
      "4095/4096 [============================>.] - ETA: 0s - loss: 0.0135 - dice_coef: 0.9955Epoch 00013: val_loss improved from 0.01328 to 0.01274, saving model to ./tmp/u-net-valid-padding-no-filter-growth/weights.hdf5\n",
      "4096/4096 [==============================] - 4086s - loss: 0.0135 - dice_coef: 0.9955 - val_loss: 0.0127 - val_dice_coef: 0.9957\n"
     ]
    }
   ],
   "source": [
    "# For keras 2.0.5, the max_queue_size should be max_q_size\n",
    "history = model.fit_generator(threadsafe_iter(train_gen), \n",
    "                              steps_per_epoch=4096 / batch_size, \n",
    "                              callbacks=[checkpoint, csv_logger, reduce_lr], \n",
    "                              validation_data=(val_images, val_masks), \n",
    "                              validation_steps=float('inf'), \n",
    "                              max_q_size=6, \n",
    "                              workers=1, \n",
    "                              epochs=14, \n",
    "                              initial_epoch=10)"
   ]
  },
  {
   "cell_type": "code",
   "execution_count": 38,
   "metadata": {},
   "outputs": [
    {
     "name": "stdout",
     "output_type": "stream",
     "text": [
      "Decrease learning rate, now is 0.00010000000474974513\n"
     ]
    }
   ],
   "source": [
    "def decrease_lr(optimizer):\n",
    "    lr = K.get_value(optimizer.lr)\n",
    "    K.set_value(optimizer.lr, lr / 10)\n",
    "    print ('Decrease learning rate, now is {}'.format(lr / 10))\n",
    "decrease_lr(optimizer)"
   ]
  },
  {
   "cell_type": "code",
   "execution_count": 30,
   "metadata": {},
   "outputs": [],
   "source": [
    "K.clear_session()\n",
    "custom_objects = {'dice_coef': dice_coef}\n",
    "model = load_model(tmp_dir + 'weights.hdf5', custom_objects=custom_objects)\n",
    "\n",
    "from callback2 import BatchHistory\n",
    "batch_history = BatchHistory(save_to=tmp_dir)\n",
    "\n",
    "# Model checkpoint\n",
    "checkpoint = ModelCheckpoint(filepath=tmp_dir + 'weights.hdf5',\n",
    "                             verbose=1, save_best_only=True)\n",
    "csv_logger = CSVLogger(tmp_dir + 'training.log')\n",
    "reduce_lr = ReduceLROnPlateau()"
   ]
  },
  {
   "cell_type": "code",
   "execution_count": 31,
   "metadata": {},
   "outputs": [
    {
     "name": "stdout",
     "output_type": "stream",
     "text": [
      "Epoch 15/30\n",
      "4095/4096 [============================>.] - ETA: 0s - loss: 0.0192 - dice_coef: 0.9936Epoch 00014: val_loss improved from inf to 0.03441, saving model to ./tmp/u-net-valid-padding-no-filter-growth/weights.hdf5\n",
      "4096/4096 [==============================] - 4011s - loss: 0.0192 - dice_coef: 0.9936 - val_loss: 0.0344 - val_dice_coef: 0.9887\n",
      "Epoch 16/30\n",
      "4095/4096 [============================>.] - ETA: 0s - loss: 0.0184 - dice_coef: 0.9939Epoch 00015: val_loss improved from 0.03441 to 0.01308, saving model to ./tmp/u-net-valid-padding-no-filter-growth/weights.hdf5\n",
      "4096/4096 [==============================] - 4012s - loss: 0.0184 - dice_coef: 0.9939 - val_loss: 0.0131 - val_dice_coef: 0.9955\n",
      "Epoch 17/30\n",
      "4095/4096 [============================>.] - ETA: 0s - loss: 0.0136 - dice_coef: 0.9954Epoch 00016: val_loss improved from 0.01308 to 0.01187, saving model to ./tmp/u-net-valid-padding-no-filter-growth/weights.hdf5\n",
      "4096/4096 [==============================] - 4015s - loss: 0.0136 - dice_coef: 0.9954 - val_loss: 0.0119 - val_dice_coef: 0.9959\n",
      "Epoch 18/30\n",
      "4095/4096 [============================>.] - ETA: 0s - loss: 0.0127 - dice_coef: 0.9958Epoch 00017: val_loss improved from 0.01187 to 0.01115, saving model to ./tmp/u-net-valid-padding-no-filter-growth/weights.hdf5\n",
      "4096/4096 [==============================] - 4023s - loss: 0.0127 - dice_coef: 0.9958 - val_loss: 0.0112 - val_dice_coef: 0.9961\n",
      "Epoch 19/30\n",
      "4095/4096 [============================>.] - ETA: 0s - loss: 0.0128 - dice_coef: 0.9957Epoch 00018: val_loss did not improve\n",
      "4096/4096 [==============================] - 4011s - loss: 0.0128 - dice_coef: 0.9957 - val_loss: 0.0113 - val_dice_coef: 0.9960\n",
      "Epoch 20/30\n",
      "4095/4096 [============================>.] - ETA: 0s - loss: 0.0118 - dice_coef: 0.9960Epoch 00019: val_loss did not improve\n",
      "4096/4096 [==============================] - 4006s - loss: 0.0118 - dice_coef: 0.9960 - val_loss: 0.0115 - val_dice_coef: 0.9959\n",
      "Epoch 21/30\n",
      "4095/4096 [============================>.] - ETA: 0s - loss: 0.0118 - dice_coef: 0.9961Epoch 00020: val_loss did not improve\n",
      "4096/4096 [==============================] - 4007s - loss: 0.0118 - dice_coef: 0.9961 - val_loss: 0.0113 - val_dice_coef: 0.9961\n",
      "Epoch 22/30\n",
      "4095/4096 [============================>.] - ETA: 0s - loss: 0.0113 - dice_coef: 0.9962Epoch 00021: val_loss improved from 0.01115 to 0.01096, saving model to ./tmp/u-net-valid-padding-no-filter-growth/weights.hdf5\n",
      "4096/4096 [==============================] - 4060s - loss: 0.0113 - dice_coef: 0.9962 - val_loss: 0.0110 - val_dice_coef: 0.9962\n",
      "Epoch 23/30\n",
      "4095/4096 [============================>.] - ETA: 0s - loss: 0.0111 - dice_coef: 0.9963Epoch 00022: val_loss improved from 0.01096 to 0.01048, saving model to ./tmp/u-net-valid-padding-no-filter-growth/weights.hdf5\n",
      "4096/4096 [==============================] - 4107s - loss: 0.0111 - dice_coef: 0.9963 - val_loss: 0.0105 - val_dice_coef: 0.9963\n",
      "Epoch 24/30\n",
      "4095/4096 [============================>.] - ETA: 1s - loss: 0.0111 - dice_coef: 0.9963Epoch 00023: val_loss improved from 0.01048 to 0.01035, saving model to ./tmp/u-net-valid-padding-no-filter-growth/weights.hdf5\n",
      "4096/4096 [==============================] - 4238s - loss: 0.0111 - dice_coef: 0.9963 - val_loss: 0.0103 - val_dice_coef: 0.9964\n",
      "Epoch 25/30\n",
      "4095/4096 [============================>.] - ETA: 1s - loss: 0.0107 - dice_coef: 0.9964Epoch 00024: val_loss improved from 0.01035 to 0.01027, saving model to ./tmp/u-net-valid-padding-no-filter-growth/weights.hdf5\n",
      "4096/4096 [==============================] - 4216s - loss: 0.0107 - dice_coef: 0.9964 - val_loss: 0.0103 - val_dice_coef: 0.9964\n",
      "Epoch 26/30\n",
      "4095/4096 [============================>.] - ETA: 1s - loss: 0.0115 - dice_coef: 0.9962Epoch 00025: val_loss did not improve\n",
      "4096/4096 [==============================] - 4220s - loss: 0.0115 - dice_coef: 0.9962 - val_loss: 0.0106 - val_dice_coef: 0.9963\n",
      "Epoch 27/30\n",
      "4095/4096 [============================>.] - ETA: 0s - loss: 0.0119 - dice_coef: 0.9961Epoch 00026: val_loss did not improve\n",
      "4096/4096 [==============================] - 4020s - loss: 0.0119 - dice_coef: 0.9961 - val_loss: 0.0206 - val_dice_coef: 0.9934\n",
      "Epoch 28/30\n",
      "4095/4096 [============================>.] - ETA: 0s - loss: 0.0115 - dice_coef: 0.9962Epoch 00027: val_loss did not improve\n",
      "4096/4096 [==============================] - 4013s - loss: 0.0115 - dice_coef: 0.9962 - val_loss: 0.0106 - val_dice_coef: 0.9963\n",
      "Epoch 29/30\n",
      "4095/4096 [============================>.] - ETA: 0s - loss: 0.0107 - dice_coef: 0.9964Epoch 00028: val_loss improved from 0.01027 to 0.00989, saving model to ./tmp/u-net-valid-padding-no-filter-growth/weights.hdf5\n",
      "4096/4096 [==============================] - 4013s - loss: 0.0107 - dice_coef: 0.9964 - val_loss: 0.0099 - val_dice_coef: 0.9966\n",
      "Epoch 30/30\n",
      "4095/4096 [============================>.] - ETA: 0s - loss: 0.0103 - dice_coef: 0.9966Epoch 00029: val_loss did not improve\n",
      "4096/4096 [==============================] - 4008s - loss: 0.0103 - dice_coef: 0.9966 - val_loss: 0.0101 - val_dice_coef: 0.9965\n"
     ]
    }
   ],
   "source": [
    "# For keras 2.0.5, the max_queue_size should be max_q_size\n",
    "history = model.fit_generator(threadsafe_iter(train_gen), \n",
    "                              steps_per_epoch=4096 / batch_size, \n",
    "                              callbacks=[checkpoint, csv_logger, reduce_lr], \n",
    "                              validation_data=(val_images, val_masks), \n",
    "                              validation_steps=float('inf'), \n",
    "                              max_q_size=6, \n",
    "                              workers=1, \n",
    "                              epochs=30, \n",
    "                              initial_epoch=14)"
   ]
  },
  {
   "cell_type": "code",
   "execution_count": 32,
   "metadata": {
    "collapsed": true
   },
   "outputs": [],
   "source": [
    "model.save('tmp-wights.hdf5')"
   ]
  }
 ],
 "metadata": {
  "kernelspec": {
   "display_name": "Python 3",
   "language": "python",
   "name": "python3"
  },
  "language_info": {
   "codemirror_mode": {
    "name": "ipython",
    "version": 3
   },
   "file_extension": ".py",
   "mimetype": "text/x-python",
   "name": "python",
   "nbconvert_exporter": "python",
   "pygments_lexer": "ipython3",
   "version": "3.6.0"
  }
 },
 "nbformat": 4,
 "nbformat_minor": 2
}
