{
 "cells": [
  {
   "cell_type": "markdown",
   "metadata": {
    "collapsed": true
   },
   "source": [
    "## In my computer"
   ]
  },
  {
   "cell_type": "code",
   "execution_count": null,
   "metadata": {},
   "outputs": [
    {
     "name": "stdout",
     "output_type": "stream",
     "text": [
      "CPU times: user 0 ns, sys: 0 ns, total: 0 ns\n",
      "Wall time: 5.01 µs\n",
      "Using TensorFlow backend.\n",
      "Downloading data from http://www.cs.toronto.edu/~kriz/cifar-10-python.tar.gz\n",
      "170450944/170498071 [============================>.] - ETA: 0sx_train shape: (50000, 32, 32, 3)\n",
      "50000 train samples\n",
      "10000 test samples\n",
      "Using real-time data augmentation.\n",
      "Epoch 1/200\n",
      "2017-08-22 15:58:11.447701: W tensorflow/core/platform/cpu_feature_guard.cc:45] The TensorFlow library wasn't compiled to use SSE4.1 instructions, but these are available on your machine and could speed up CPU computations.\n",
      "2017-08-22 15:58:11.447730: W tensorflow/core/platform/cpu_feature_guard.cc:45] The TensorFlow library wasn't compiled to use SSE4.2 instructions, but these are available on your machine and could speed up CPU computations.\n",
      "2017-08-22 15:58:11.447741: W tensorflow/core/platform/cpu_feature_guard.cc:45] The TensorFlow library wasn't compiled to use AVX instructions, but these are available on your machine and could speed up CPU computations.\n",
      "2017-08-22 15:58:11.447748: W tensorflow/core/platform/cpu_feature_guard.cc:45] The TensorFlow library wasn't compiled to use AVX2 instructions, but these are available on your machine and could speed up CPU computations.\n",
      "2017-08-22 15:58:11.447754: W tensorflow/core/platform/cpu_feature_guard.cc:45] The TensorFlow library wasn't compiled to use FMA instructions, but these are available on your machine and could speed up CPU computations.\n",
      "2017-08-22 15:58:11.747828: I tensorflow/stream_executor/cuda/cuda_gpu_executor.cc:893] successful NUMA node read from SysFS had negative value (-1), but there must be at least one NUMA node, so returning NUMA node zero\n",
      "2017-08-22 15:58:11.748403: I tensorflow/core/common_runtime/gpu/gpu_device.cc:940] Found device 0 with properties: \n",
      "name: GeForce GTX 860M\n",
      "major: 5 minor: 0 memoryClockRate (GHz) 1.0195\n",
      "pciBusID 0000:01:00.0\n",
      "Total memory: 1.96GiB\n",
      "Free memory: 1.66GiB\n",
      "2017-08-22 15:58:11.748446: I tensorflow/core/common_runtime/gpu/gpu_device.cc:961] DMA: 0 \n",
      "2017-08-22 15:58:11.748463: I tensorflow/core/common_runtime/gpu/gpu_device.cc:971] 0:   Y \n",
      "2017-08-22 15:58:11.748488: I tensorflow/core/common_runtime/gpu/gpu_device.cc:1030] Creating TensorFlow device (/gpu:0) -> (device: 0, name: GeForce GTX 860M, pci bus id: 0000:01:00.0)\n",
      "1562/1562 [==============================] - 44s - loss: 1.8509 - acc: 0.3157 - val_loss: 1.5451 - val_acc: 0.4415\n",
      "Epoch 2/200\n",
      "1562/1562 [==============================] - 31s - loss: 1.5606 - acc: 0.4317 - val_loss: 1.4029 - val_acc: 0.5044\n",
      "Epoch 3/200\n",
      "1562/1562 [==============================] - 31s - loss: 1.4299 - acc: 0.4815 - val_loss: 1.2576 - val_acc: 0.5524\n",
      "Epoch 4/200\n",
      " 290/1562 [====>.........................] - ETA: 24s - loss: 1.3694 - acc: 0.5072"
     ]
    }
   ],
   "source": [
    "%time\n",
    "!python cifar10_cnn.py"
   ]
  },
  {
   "cell_type": "markdown",
   "metadata": {},
   "source": [
    "## On floydhub"
   ]
  },
  {
   "cell_type": "code",
   "execution_count": 1,
   "metadata": {},
   "outputs": [
    {
     "name": "stdout",
     "output_type": "stream",
     "text": [
      "Using TensorFlow backend.\n",
      "Downloading data from http://www.cs.toronto.edu/~kriz/cifar-10-python.tar.gz\n",
      "170483712/170498071 [============================>.] - ETA: 0sx_train shape: (50000, 32, 32, 3)\n",
      "50000 train samples\n",
      "10000 test samples\n",
      "Using real-time data augmentation.\n",
      "Epoch 1/200\n",
      "2017-08-22 08:03:41.346999: I tensorflow/stream_executor/cuda/cuda_gpu_executor.cc:893] successful NUMA node read from SysFS had negative value (-1), but there must be at least one NUMA node, so returning NUMA node zero\n",
      "2017-08-22 08:03:41.347557: I tensorflow/core/common_runtime/gpu/gpu_device.cc:940] Found device 0 with properties: \n",
      "name: Tesla K80\n",
      "major: 3 minor: 7 memoryClockRate (GHz) 0.8235\n",
      "pciBusID 0000:00:1e.0\n",
      "Total memory: 11.17GiB\n",
      "Free memory: 11.11GiB\n",
      "2017-08-22 08:03:41.347600: I tensorflow/core/common_runtime/gpu/gpu_device.cc:961] DMA: 0 \n",
      "2017-08-22 08:03:41.347634: I tensorflow/core/common_runtime/gpu/gpu_device.cc:971] 0:   Y \n",
      "2017-08-22 08:03:41.360360: I tensorflow/core/common_runtime/gpu/gpu_device.cc:1030] Creating TensorFlow device (/gpu:0) -> (device: 0, name: Tesla K80, pci bus id: 0000:00:1e.0)\n",
      "1562/1562 [==============================] - 26s - loss: 1.8535 - acc: 0.3176 - val_loss: 1.5781 - val_acc: 0.4208\n",
      "Epoch 2/200\n",
      "1562/1562 [==============================] - 22s - loss: 1.5784 - acc: 0.4241 - val_loss: 1.3724 - val_acc: 0.5125\n",
      "Epoch 3/200\n",
      "1562/1562 [==============================] - 22s - loss: 1.4433 - acc: 0.4791 - val_loss: 1.2633 - val_acc: 0.5482\n",
      "Epoch 4/200\n",
      " 285/1562 [====>.........................] - ETA: 17s - loss: 1.3915 - acc: 0.4988^C\n",
      "Traceback (most recent call last):\n",
      "  File \"cifar10_cnn.py\", line 108, in <module>\n",
      "    validation_data=(x_test, y_test))\n",
      "  File \"/usr/local/lib/python3.5/site-packages/keras/legacy/interfaces.py\", line 87, in wrapper\n",
      "    return func(*args, **kwargs)\n",
      "  File \"/usr/local/lib/python3.5/site-packages/keras/models.py\", line 1117, in fit_generator\n",
      "    initial_epoch=initial_epoch)\n",
      "  File \"/usr/local/lib/python3.5/site-packages/keras/legacy/interfaces.py\", line 87, in wrapper\n",
      "    return func(*args, **kwargs)\n",
      "  File \"/usr/local/lib/python3.5/site-packages/keras/engine/training.py\", line 1840, in fit_generator\n",
      "    class_weight=class_weight)\n",
      "  File \"/usr/local/lib/python3.5/site-packages/keras/engine/training.py\", line 1565, in train_on_batch\n",
      "    outputs = self.train_function(ins)\n",
      "  File \"/usr/local/lib/python3.5/site-packages/keras/backend/tensorflow_backend.py\", line 2268, in __call__\n",
      "    **self.session_kwargs)\n",
      "  File \"/usr/local/lib/python3.5/site-packages/tensorflow/python/client/session.py\", line 789, in run\n",
      "    run_metadata_ptr)\n",
      "  File \"/usr/local/lib/python3.5/site-packages/tensorflow/python/client/session.py\", line 997, in _run\n",
      "    feed_dict_string, options, run_metadata)\n",
      "  File \"/usr/local/lib/python3.5/site-packages/tensorflow/python/client/session.py\", line 1132, in _do_run\n",
      "    target_list, options, run_metadata)\n",
      "  File \"/usr/local/lib/python3.5/site-packages/tensorflow/python/client/session.py\", line 1139, in _do_call\n",
      "    return fn(*args)\n",
      "  File \"/usr/local/lib/python3.5/site-packages/tensorflow/python/client/session.py\", line 1121, in _run_fn\n",
      "    status, run_metadata)\n",
      "KeyboardInterrupt\n"
     ]
    }
   ],
   "source": [
    "!python cifar10_cnn.py"
   ]
  }
 ],
 "metadata": {
  "kernelspec": {
   "display_name": "Python 3",
   "language": "python",
   "name": "python3"
  },
  "language_info": {
   "codemirror_mode": {
    "name": "ipython",
    "version": 3
   },
   "file_extension": ".py",
   "mimetype": "text/x-python",
   "name": "python",
   "nbconvert_exporter": "python",
   "pygments_lexer": "ipython3",
   "version": "3.5.3"
  }
 },
 "nbformat": 4,
 "nbformat_minor": 2
}
