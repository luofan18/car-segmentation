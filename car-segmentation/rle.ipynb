{
 "cells": [
  {
   "cell_type": "code",
   "execution_count": 5,
   "metadata": {
    "collapsed": true
   },
   "outputs": [],
   "source": [
    "import time\n",
    "import numpy as np\n",
    "from scipy import ndimage\n",
    "import pandas as pd\n",
    "from matplotlib import pyplot as plt\n",
    "\n",
    "project_path = '..'\n",
    "input_path = '../data/'\n",
    "train_masks_csv_path = input_path + 'train_masks.csv'\n",
    "train_masks_path = input_path + 'train_masks/'"
   ]
  },
  {
   "cell_type": "code",
   "execution_count": 3,
   "metadata": {
    "collapsed": true
   },
   "outputs": [],
   "source": [
    "def read_train_masks():\n",
    "    global train_masks\n",
    "    train_masks = pd.read_csv(train_masks_csv_path)\n",
    "    \n",
    "read_train_masks()"
   ]
  },
  {
   "cell_type": "code",
   "execution_count": 6,
   "metadata": {},
   "outputs": [
    {
     "data": {
      "image/png": "[encoded data removed]",
      "text/plain": [
       "<matplotlib.figure.Figure at 0x7f26bd41a208>"
      ]
     },
     "metadata": {},
     "output_type": "display_data"
    }
   ],
   "source": [
    "def read_mask(car_code, angle_code):\n",
    "    mask_path = train_masks_path + car_code + '_' + angle_code + \\\n",
    "                    '_mask.gif'\n",
    "    mask = ndimage.imread(mask_path, mode='L')\n",
    "    mask[mask <= 127] = 0\n",
    "    mask[mask >= 127] = 1\n",
    "    \n",
    "    return mask\n",
    "\n",
    "def show_mask(car_code, angle_code):\n",
    "    mask = read_mask(car_code, angle_code)\n",
    "    plt.imshow(mask, cmap='Greys_r')\n",
    "    plt.show()\n",
    "    \n",
    "show_mask('00087a6bd4dc', '04')"
   ]
  },
  {
   "cell_type": "code",
   "execution_count": null,
   "metadata": {},
   "outputs": [
    {
     "name": "stdout",
     "output_type": "stream",
     "text": [
      "> <ipython-input-14-582a7d752c77>(9)rle_encode()\n",
      "-> runs = np.where(pixels[1:] != pixels[:-1])[0] + 2\n",
      "(Pdb) s\n",
      "> <ipython-input-14-582a7d752c77>(10)rle_encode()\n",
      "-> runs [1::2] = runs[1::2] - runs[:-1:2]\n",
      "(Pdb) runs.shape\n",
      "(4,)\n",
      "(Pdb) runs\n",
      "array([ 7,  9, 11, 13])\n"
     ]
    }
   ],
   "source": [
    "def rle_encode(mask):\n",
    "    pixels = mask.flatten()\n",
    "    \n",
    "    # Set begining and end to 0 for simplicity\n",
    "    pixels[0] = 0\n",
    "    pixels[-1] = 0\n",
    "    runs = np.where(pixels[1:] != pixels[:-1])[0] + 2\n",
    "    runs [1::2] = runs[1::2] - runs[:-1:2]\n",
    "    \n",
    "    return runs\n",
    "\n",
    "def rle_to_string(runs):\n",
    "    return ' '.join(str(x) for x in runs)\n",
    "\n",
    "def test_rle_encode():\n",
    "    test_mask = np.asarray([[0, 0, 0, 0],\n",
    "                            [0, 0, 1, 1], \n",
    "                            [0, 0, 1, 1], \n",
    "                            [0, 0, 0, 0]])\n",
    "    assert rle_to_string(rle_encode(test_mask)) == '7 2 11 2'\n",
    "    num_masks = len(train_masks['img'])\n",
    "    print ('Verifiying rle encoding on ', num_masks, 'masks ...')\n",
    "    time_read = 0.0\n",
    "    time_rle = 0.0\n",
    "    time_stringify = 0.0\n",
    "    for mask_idx in range(num_masks):\n",
    "        img_name = train_masks.loc[mask_idx, 'img']\n",
    "        car_code, angle_code = img_name.split('.')[0].split('_')\n",
    "        t0 = time.clock()\n",
    "        mask = read_mask(car_code, angle_code)\n",
    "        time_read += time.clock() - t0\n",
    "        t0 = time.clock()\n",
    "        rle_truth_str = train_masks.loc[mask_idx, 'rle_mask']\n",
    "        rle = rle_encode(mask)\n",
    "        time_rle += time.clock() - t0\n",
    "        t0 = time.clock()\n",
    "        rle_str = rle_to_string(rle)\n",
    "        time_stringify += time.clock() - t0\n",
    "        assert rle_str == rle_truth_str\n",
    "        if mask_idx and (mask_idx % 500) == 0:\n",
    "            print ('  ..', mask_idx, 'tested..')\n",
    "            \n",
    "    print ('Time spent reading mask images:', time_read, 's, =>', \n",
    "           1000 * (time_read/num_masks), 'ms per mask.')\n",
    "    print ('Time spend rle encoding masks:', time_rle, 's, =>', \n",
    "           1000 * (time_rle/num_masks), 'ms per mask.')\n",
    "    print ('Time spend stringifying rles:', time_stringify, 's, =>', \n",
    "           1000 * (time_stringify/num_masks), 'ms per mask.')\n",
    "    \n",
    "test_rle_encode()"
   ]
  }
 ],
 "metadata": {
  "kernelspec": {
   "display_name": "Python 3",
   "language": "python",
   "name": "python3"
  },
  "language_info": {
   "codemirror_mode": {
    "name": "ipython",
    "version": 3
   },
   "file_extension": ".py",
   "mimetype": "text/x-python",
   "name": "python",
   "nbconvert_exporter": "python",
   "pygments_lexer": "ipython3",
   "version": "3.6.0"
  }
 },
 "nbformat": 4,
 "nbformat_minor": 2
}
